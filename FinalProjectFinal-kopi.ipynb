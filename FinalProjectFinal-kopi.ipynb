{
 "cells": [
  {
   "cell_type": "markdown",
   "metadata": {},
   "source": [
    "# <center> **Final Project** <center>\n",
    "## <center>Social Data Analysis and Visualization</center>\n",
    "### <center>s214715 & s214742</center>\n",
    "\n",
    "## **1.0 Motivation**\n",
    "### **1.1 The Dataset**\n",
    "\n",
    "The dataset describes DOHMH New York City Restaurant Inspection Results, consisting of 224,115 records across 27 columns. Each column encodes a factor that describes the hygiene conditions of the restaurants. More information can be found here: (https://data.cityofnewyork.us/Health/DOHMH-New-York-City-Restaurant-Inspection-Results/43nn-pn8j/about_data). When following the provided link a document can be downloaded describing the meaning behind various parameters in the dataset! \n",
    "\n",
    "The dataset is particularly fascinating because it allows us to explore potential correlations among key parameters such as restaurant location, recorded violations, inspection scores, and types of cuisine. By analyzing these elements, we aim to provide insights that not only guide readers in making safer dining choices but also inspire them to engage in their own investigations through our interactive plots. This interactive exploration aims to empower consumers with the knowledge needed to make informed decisions about where to eat.\n",
    "\n",
    "\n",
    "To provide a geographical perspective on restaurant options, the analysis also incorporates a dataset that describes the boundaries of 178 zip codes in New York City. More information on this dataset can be found here: https://data.cityofnewyork.us/Health/Modified-Zip-Code-Tabulation-Areas-MODZCTA-/pri4-ifjk/about_data. \n",
    "\n",
    "\n",
    "Additional essential information regarding the DOHMH New York City Restaurant Inspection Results dataset is shown in the following: "
   ]
  },
  {
   "cell_type": "code",
   "execution_count": 1,
   "metadata": {},
   "outputs": [
    {
     "name": "stderr",
     "output_type": "stream",
     "text": [
      "/Applications/anaconda3/lib/python3.11/site-packages/pandas/core/arrays/masked.py:60: UserWarning: Pandas requires version '1.3.6' or newer of 'bottleneck' (version '1.3.5' currently installed).\n",
      "  from pandas.core import (\n"
     ]
    },
    {
     "name": "stdout",
     "output_type": "stream",
     "text": [
      "<class 'pandas.core.frame.DataFrame'>\n",
      "RangeIndex: 224115 entries, 0 to 224114\n",
      "Data columns (total 27 columns):\n",
      " #   Column                 Non-Null Count   Dtype  \n",
      "---  ------                 --------------   -----  \n",
      " 0   CAMIS                  224115 non-null  int64  \n",
      " 1   DBA                    223560 non-null  object \n",
      " 2   BORO                   224115 non-null  object \n",
      " 3   BUILDING               223713 non-null  object \n",
      " 4   STREET                 224112 non-null  object \n",
      " 5   ZIPCODE                221345 non-null  float64\n",
      " 6   PHONE                  224112 non-null  object \n",
      " 7   CUISINE DESCRIPTION    221820 non-null  object \n",
      " 8   INSPECTION DATE        224115 non-null  object \n",
      " 9   ACTION                 221820 non-null  object \n",
      " 10  VIOLATION CODE         220671 non-null  object \n",
      " 11  VIOLATION DESCRIPTION  220671 non-null  object \n",
      " 12  CRITICAL FLAG          224115 non-null  object \n",
      " 13  SCORE                  213381 non-null  float64\n",
      " 14  GRADE                  110382 non-null  object \n",
      " 15  GRADE DATE             101961 non-null  object \n",
      " 16  RECORD DATE            224115 non-null  object \n",
      " 17  INSPECTION TYPE        221820 non-null  object \n",
      " 18  Latitude               223833 non-null  float64\n",
      " 19  Longitude              223833 non-null  float64\n",
      " 20  Community Board        220713 non-null  float64\n",
      " 21  Council District       220714 non-null  float64\n",
      " 22  Census Tract           220714 non-null  float64\n",
      " 23  BIN                    219575 non-null  float64\n",
      " 24  BBL                    223480 non-null  float64\n",
      " 25  NTA                    220713 non-null  object \n",
      " 26  Location Point1        0 non-null       float64\n",
      "dtypes: float64(10), int64(1), object(16)\n",
      "memory usage: 46.2+ MB\n",
      "None\n",
      "Total size in memory: 286.1954822540283 MB\n",
      "Number of rows: 224115\n",
      "Number of unique CAMIS: 28752\n"
     ]
    }
   ],
   "source": [
    "import pandas as pd\n",
    "import numpy as np\n",
    "path = '/Users/thomasstycke/Desktop/DTU/SocialData/Assignment3/FinalProject/'\n",
    "\n",
    "df = pd.read_csv(path + 'DOHMH_New_York_City_Restaurant_Inspection_Results_20240414.csv')\n",
    "print(df.info())\n",
    "print(f'Total size in memory: {df.memory_usage(deep=True).sum() / 1024 ** 2} MB')\n",
    "num_rows = df.shape[0]\n",
    "print(f'Number of rows: {num_rows}')\n",
    "num_camis = df['CAMIS'].nunique()\n",
    "print(f'Number of unique CAMIS: {num_camis}')"
   ]
  },
  {
   "cell_type": "code",
   "execution_count": 2,
   "metadata": {},
   "outputs": [
    {
     "name": "stdout",
     "output_type": "stream",
     "text": [
      "Index(['CAMIS', 'DBA', 'BORO', 'BUILDING', 'STREET', 'ZIPCODE', 'PHONE',\n",
      "       'CUISINE DESCRIPTION', 'INSPECTION DATE', 'ACTION', 'VIOLATION CODE',\n",
      "       'VIOLATION DESCRIPTION', 'CRITICAL FLAG', 'SCORE', 'GRADE',\n",
      "       'GRADE DATE', 'RECORD DATE', 'INSPECTION TYPE', 'Latitude', 'Longitude',\n",
      "       'Community Board', 'Council District', 'Census Tract', 'BIN', 'BBL',\n",
      "       'NTA', 'Location Point1'],\n",
      "      dtype='object')\n"
     ]
    }
   ],
   "source": [
    "print(df.columns)"
   ]
  },
  {
   "cell_type": "markdown",
   "metadata": {},
   "source": [
    "## **2.0 Basic Stats**: Data Cleaning and Preprocessing"
   ]
  },
  {
   "cell_type": "markdown",
   "metadata": {},
   "source": [
    "#### **2.1 Inspection Date**\n",
    "Since the dataset contains 27 distinct columns, it is essential to select which ones to focus on, both for our clarity and to avoid overwhelming the reader with too many parameters. We begin our analysis by examining the dataset's update frequency:"
   ]
  },
  {
   "cell_type": "code",
   "execution_count": 3,
   "metadata": {},
   "outputs": [
    {
     "name": "stdout",
     "output_type": "stream",
     "text": [
      "[1900 2015 2016 2017 2018 2019 2020 2021 2022 2023 2024]\n"
     ]
    }
   ],
   "source": [
    "#Years the dataset contains data for\n",
    "df['INSPECTION DATE'] = pd.to_datetime(df['INSPECTION DATE'])\n",
    "unique_years = df['INSPECTION DATE'].dt.year.unique()\n",
    "unique_years = np.sort(unique_years)\n",
    "print(unique_years)"
   ]
  },
  {
   "cell_type": "markdown",
   "metadata": {},
   "source": [
    "Given our goal to provide a guide for tourists, locals, and others, we have decided to streamline the dataset by focusing exclusively on the most recent inspection results. This approach not only reduces the dataset's size, making it more manageable but also ensures that the content is up-to-date, thereby providing them with the most relevant and current information."
   ]
  },
  {
   "cell_type": "code",
   "execution_count": 4,
   "metadata": {},
   "outputs": [
    {
     "name": "stderr",
     "output_type": "stream",
     "text": [
      "/var/folders/m4/lvsr74wx0q925cvzc6z0g13r0000gn/T/ipykernel_90626/430425910.py:13: SettingWithCopyWarning: \n",
      "A value is trying to be set on a copy of a slice from a DataFrame.\n",
      "Try using .loc[row_indexer,col_indexer] = value instead\n",
      "\n",
      "See the caveats in the documentation: https://pandas.pydata.org/pandas-docs/stable/user_guide/indexing.html#returning-a-view-versus-a-copy\n",
      "  df['INSPECTION DATE'] = pd.to_datetime(df['INSPECTION DATE'])\n"
     ]
    }
   ],
   "source": [
    "def filter_inspections(input_df):\n",
    "    # Filter the DataFrame for the inspection types and grades\n",
    "    df = input_df[input_df['INSPECTION TYPE'].isin([\n",
    "        'Cycle Inspection / Re-inspection',\n",
    "        'Pre-permit (Operational) / Re-inspection',\n",
    "        'Cycle Inspection / Initial Inspection',\n",
    "        'Pre-permit (Operational) / Initial Inspection',\n",
    "        'Pre-permit (Operational) / Reopening Inspection',\n",
    "        'Cycle Inspection / Reopening Inspection'\n",
    "    ]) & input_df['GRADE'].isin(['A', 'B', 'C', 'P', 'Z'])]\n",
    "\n",
    "    # Convert the inspection date to datetime\n",
    "    df['INSPECTION DATE'] = pd.to_datetime(df['INSPECTION DATE'])\n",
    "\n",
    "    # Sort the DataFrame by inspection date and keep the last row for each restaurant\n",
    "    df_filtered = df.sort_values('INSPECTION DATE').groupby('CAMIS').last().reset_index()\n",
    "\n",
    "    # Add all rows where CAMIS and INSPECTION DATE match between df_filtered and df\n",
    "    df_filtered = pd.concat([\n",
    "        df_filtered,\n",
    "        df[df.set_index(['CAMIS', 'INSPECTION DATE']).index.isin(df_filtered.set_index(['CAMIS', 'INSPECTION DATE']).index)]\n",
    "    ]).drop_duplicates()\n",
    "\n",
    "    # Sort data by 'INSPECTION YEAR' descending\n",
    "    df_filtered = df_filtered.sort_values(by='INSPECTION YEAR', ascending=False)\n",
    "    df_filtered['INSPECTION YEAR'] = pd.to_datetime(df_filtered['INSPECTION DATE']).dt.year\n",
    "\n",
    "    return df_filtered\n",
    "\n",
    "# Sort data by INSPECTION YEAR \n",
    "df['INSPECTION YEAR'] = pd.to_datetime(df['INSPECTION DATE']).dt.year\n",
    "df = df.sort_values(by='INSPECTION YEAR')\n",
    "\n",
    "# Delete 1900, 2015, 2024 because they are not full valid years\n",
    "df = df[~df['INSPECTION YEAR'].isin([1900, 2015])]\n",
    "\n",
    "df_filtered = filter_inspections(df)"
   ]
  },
  {
   "cell_type": "markdown",
   "metadata": {},
   "source": [
    "#### **2.2 Violation Codes**\n",
    "In the dataset the inspection result is described in different ways: as a GRADE, SCORE determined by the VIOLATION CODES that has been recorded which all have been used to flag whether the situation in the restaurant is Critical or Not Critical in the CRITICAL FLAG header. \n",
    "We find it interesting to look into which types or violations are most present and our goal is to search for a pattern in the different violations, whether it is in the type of restaurant or the geographical location. But to do this we have to learn more about the violation codes. We look into the top 10 most recoreded violations from the latest record of each restaurant.\n"
   ]
  },
  {
   "cell_type": "code",
   "execution_count": 5,
   "metadata": {},
   "outputs": [
    {
     "data": {
      "image/png": "[encoded data removed]",
      "text/plain": [
       "<Figure size 1000x500 with 1 Axes>"
      ]
     },
     "metadata": {},
     "output_type": "display_data"
    }
   ],
   "source": [
    "import matplotlib.pyplot as plt\n",
    "# Count the occurrences of each violation code and get the top 10\n",
    "violation_counts = df_filtered['VIOLATION CODE'].value_counts().head(10)\n",
    "\n",
    "# Plot a histogram\n",
    "plt.figure(figsize=(10, 5))\n",
    "violation_counts.plot(kind='bar')\n",
    "plt.title('Inspection Results: Top 10 Violation Codes')\n",
    "plt.xlabel('Violation Code')\n",
    "plt.ylabel('Count')\n",
    "plt.show()"
   ]
  },
  {
   "cell_type": "markdown",
   "metadata": {},
   "source": [
    "The plot tells us that 10F is the most frequent violation code recorded! But what does all these codes mean? We want to look into the meaning of them:"
   ]
  },
  {
   "cell_type": "code",
   "execution_count": 6,
   "metadata": {},
   "outputs": [
    {
     "name": "stdout",
     "output_type": "stream",
     "text": [
      "VIOLATION CODE  VIOLATION DESCRIPTION                                                                                                                                                                                                                                                                                                                                                                                                                                                                                                                                                                                                                                                                                                                                                                                                                                                                                                                                                                   \n",
      "02A             Food not cooked to required minimum temperature.                                                                                                                                                                                                                                                                                                                                                                                                                                                                                                                                                                                                                                                                                                                                                                                                                                                                                                                                               3\n",
      "                Time/Temperature Control for Safety (TCS) food not cooked to required minimum internal temperature.   • Poultry, poultry parts, ground and comminuted poultry, all stuffing containing poultry, meats, fish or ratites to or above 165 °F for 15 seconds with no interruption of the cooking process   • Ground meat, and food containing ground and comminuted meat, to or above 158 °F for 15 seconds with no interruption of the cooking process, except per individual customer request  • Pork, any food containing pork to or above 150 °F for 15 seconds  • Mechanically tenderized or injected meats to or above 155 °F.  • Whole meat roasts and beef steak to or above required temperature and time except per individual customer request  • Raw animal foods cooked in microwave to or above165 °F, covered, rotated or stirred   • All other foods to or above 140 °F for 15 seconds; shell eggs to or above 145 °F for 15 seconds except per individual customer request.      11\n",
      "                Time/Temperature Control for Safety (TCS) food not cooked to required minimum internal temperature. • Poultry, poultry parts, ground and comminuted poultry, all stuffing containing poultry, meats, fish or ratites to or above 165 °F for 15 seconds with no interruption of the cooking process  • Ground meat, and food containing ground and comminuted meat, to or above 158 °F for 15 seconds with no interruption of the cooking process, except per individual customer request• Pork, any food containing pork to or above 150 °F for 15 seconds• Mechanically tenderized or injected meats to or above 155 °F.• Whole meat roasts and beef steak to or above required temperature and time except per individual customer request• Raw animal foods cooked in microwave to or above165 °F, covered, rotated or stirred  • All other foods to or above 140 °F for 15 seconds; shell eggs to or above 145 °F for 15 seconds except per individual customer request.                  21\n",
      "02B             Hot TCS food item not held at or above 140 °F.                                                                                                                                                                                                                                                                                                                                                                                                                                                                                                                                                                                                                                                                                                                                                                                                                                                                                                                                              3115\n",
      "                Hot food item not held at or above 140º F.                                                                                                                                                                                                                                                                                                                                                                                                                                                                                                                                                                                                                                                                                                                                                                                                                                                                                                                                                   160\n",
      "                                                                                                                                                                                                                                                                                                                                                                                                                                                                                                                                                                                                                                                                                                                                                                                                                                                                                                                                                                                                            ... \n",
      "28-05           Food adulterated or misbranded.  Adulterated or misbranded food possessed, being manufactured, produced, packed, sold, offered for sale, delivered or given away                                                                                                                                                                                                                                                                                                                                                                                                                                                                                                                                                                                                                                                                                                                                                                                                                              27\n",
      "                Food adulterated or misbranded. Adulterated or misbranded food possessed, being manufactured, produced, packed, sold, offered for sale, delivered or given away                                                                                                                                                                                                                                                                                                                                                                                                                                                                                                                                                                                                                                                                                                                                                                                                                               57\n",
      "28-06           Contract with a pest management professional not in place.  Record of extermination activities not kept on premises.                                                                                                                                                                                                                                                                                                                                                                                                                                                                                                                                                                                                                                                                                                                                                                                                                                                                          51\n",
      "                Contract with a pest management professional not in place. Record of extermination activities not kept on premises.                                                                                                                                                                                                                                                                                                                                                                                                                                                                                                                                                                                                                                                                                                                                                                                                                                                                          157\n",
      "28-07           Unapproved outdoor, street or sidewalk cooking.                                                                                                                                                                                                                                                                                                                                                                                                                                                                                                                                                                                                                                                                                                                                                                                                                                                                                                                                                3\n",
      "Length: 136, dtype: int64\n"
     ]
    }
   ],
   "source": [
    "grouped = df_filtered.groupby(['VIOLATION CODE', 'VIOLATION DESCRIPTION']).size()\n",
    "print(grouped)"
   ]
  },
  {
   "cell_type": "markdown",
   "metadata": {},
   "source": [
    "The length of the list of violation descriptions is 122. That makes it really unmanageable for a reader to understand. To help the reader we want to categorize them into several themes that capture common patterns:\n",
    "<ol>\n",
    "  <li style=\"margin-bottom: 15px;\"><strong>Temperature Control and Food Preparation Standards</strong>\n",
    "      <br><span style=\"font-size: 10px;\">Codes: 02A, 02B, 02C, 02F, 02G, 02H, 02I. Details: These codes concern the proper cooking, holding, cooling, and preparation of food to safe temperatures to prevent bacterial growth and ensure food safety.</span></li>\n",
    "\n",
    "  <li style=\"margin-bottom: 15px;\"><strong>Facility and Equipment Sanitation</strong>\n",
    "      <br><span style=\"font-size: 10px;\">Codes: 05C, 05F, 05H, 06D, 06E, 06F, 09C, 10F, 10G, 10H. Details: These involve violations related to the cleanliness and proper maintenance of food contact surfaces, as well as the adequacy of the facility's washing and sanitizing equipment and processes.</span></li>\n",
    "\n",
    "  <li style=\"margin-bottom: 15px;\"><strong>Food Sourcing and Labeling</strong>\n",
    "      <br><span style=\"font-size: 10px;\">Codes: 03A, 03B, 03C, 03I, 04P, 08B, 09A, 16B, 16C, 16D, 16E, 18G. Details: Violations here include issues with unapproved food sources, improper labeling, and adherence to regulations regarding consumer information about food products.</span></li>\n",
    "\n",
    "  <li style=\"margin-bottom: 15px;\"><strong>Personal Hygiene and Employee Behavior</strong>\n",
    "      <br><span style=\"font-size: 10px;\">Codes: 04C, 04D, 06A, 06B, 06C. Details: This group focuses on the behavior and cleanliness of personnel handling food, including proper handwashing, avoiding contamination, and maintaining clean uniforms.</span></li>\n",
    "\n",
    "  <li style=\"margin-bottom: 15px;\"><strong>Facility Infrastructure and Safety</strong>\n",
    "      <br><span style=\"font-size: 10px;\">Codes: 05A, 05B, 05D, 05E, 10A, 10B, 10C, 10D, 10E. Details: These codes relate to the structural integrity and safety features of the facility, including proper sewage disposal, ventilation, lighting, and adequate hand washing facilities.</span></li>\n",
    "\n",
    "  <li style=\"margin-bottom: 15px;\"><strong>Environmental Health and Pest Control</strong>\n",
    "      <br><span style=\"font-size: 10px;\">Codes: 04K, 04L, 04M, 04N, 08A, 08C. Details: This category includes violations regarding the presence of pests, vermin, and other environmental health concerns that could affect food safety.</span></li>\n",
    "      \n",
    "  <li style=\"margin-bottom: 15px;\"><strong>Toxic Substances and Hazardous Materials</strong>\n",
    "      <br><span style=\"font-size: 10px;\">Codes: 04E, 04F, 05B. Details: These violations concern the proper handling, storage, and labeling of chemicals and toxic substances to prevent contamination of food products.</span></li>\n",
    "</ol>\n"
   ]
  },
  {
   "cell_type": "code",
   "execution_count": 7,
   "metadata": {},
   "outputs": [],
   "source": [
    "violation_groups = {\n",
    "    'Temperature Control': ['02A', '02B', '02C', '02F', '02G', '02H', '02I'],\n",
    "    'Facility Sanitation': ['05C', '05F', '05H', '06D', '06E', '06F', '09C', '10F', '10G', '10H'],\n",
    "    'Food Sourcing and Labeling': ['03A', '03B', '03C', '03I', '04P', '08B', '09A', '16B', '16C', '16D', '16E', '18G'],\n",
    "    'Staff Hygiene': ['04C', '04D', '06A', '06B', '06C'],\n",
    "    'Facility Maintenance': ['05A', '05B', '05D', '05E', '10A', '10B', '10C', '10D', '10E'],\n",
    "    'Pest Control': ['04K', '04L', '04M', '04N', '08A', '08C'],\n",
    "    'Chemical Safety': ['04E', '04F', '05B'],\n",
    "}\n",
    "\n",
    "# Create a separate DataFrame for each group of violations\n",
    "food_temp_df = df_filtered[df_filtered['VIOLATION CODE'].isin(violation_groups['Temperature Control'])].assign(Group='Temperature Control')\n",
    "facility_sanitation_df = df_filtered[df_filtered['VIOLATION CODE'].isin(violation_groups['Facility Sanitation'])].assign(Group='Facility Sanitation')\n",
    "food_origin_df = df_filtered[df_filtered['VIOLATION CODE'].isin(violation_groups['Food Sourcing and Labeling'])].assign(Group='Food Sourcing and Labeling')\n",
    "staff_hygiene_df = df_filtered[df_filtered['VIOLATION CODE'].isin(violation_groups['Staff Hygiene'])].assign(Group='Staff Hygiene')\n",
    "facility_maintenance_df = df_filtered[df_filtered['VIOLATION CODE'].isin(violation_groups['Facility Maintenance'])].assign(Group='Facility Maintenance')\n",
    "pest_control_df = df_filtered[df_filtered['VIOLATION CODE'].isin(violation_groups['Pest Control'])].assign(Group='Pest Control')\n",
    "chemical_safety_df = df_filtered[df_filtered['VIOLATION CODE'].isin(violation_groups['Chemical Safety'])].assign(Group='Chemical Safety')\n",
    "\n",
    "all_violations_df = pd.concat([food_temp_df, facility_sanitation_df, food_origin_df, staff_hygiene_df, facility_maintenance_df, pest_control_df, chemical_safety_df])"
   ]
  },
  {
   "cell_type": "markdown",
   "metadata": {},
   "source": [
    "#### **2.3 Cuisine Description**\n",
    "Another interesting parameter in the dataset is the CUISINE DESCRIPTION, which describes what kind of food is being served at the inspected restaurant. Such information is easy to explain to a reader and is an essential factor when choosing where to eat! The different cuisines recorded in the dataset is: "
   ]
  },
  {
   "cell_type": "code",
   "execution_count": 8,
   "metadata": {},
   "outputs": [
    {
     "name": "stdout",
     "output_type": "stream",
     "text": [
      "    CUISINE DESCRIPTION                Group  Count\n",
      "2                Afghan         Pest Control     29\n",
      "8               African         Pest Control     80\n",
      "13             American  Facility Sanitation   4543\n",
      "20             Armenian         Pest Control      4\n",
      "25   Asian/Asian Fusion  Facility Sanitation    389\n",
      "..                  ...                  ...    ...\n",
      "473             Tex-Mex  Facility Sanitation    340\n",
      "479                Thai  Facility Sanitation    278\n",
      "486             Turkish  Facility Sanitation     50\n",
      "492               Vegan  Facility Sanitation     62\n",
      "498          Vegetarian  Facility Sanitation     70\n",
      "\n",
      "[89 rows x 3 columns]\n"
     ]
    }
   ],
   "source": [
    "# Group by 'CUISINE DESCRIPTION' and 'Group', and count the number of violations in each group for each cuisine\n",
    "grouped = all_violations_df.groupby(['CUISINE DESCRIPTION', 'Group']).size()\n",
    "# Reset the index of the grouped DataFrame and rename the columns\n",
    "grouped = grouped.reset_index().rename(columns={0: 'Count'})\n",
    "# Find the violation group with the most violations for each cuisine\n",
    "most_present = grouped.loc[grouped.groupby('CUISINE DESCRIPTION')['Count'].idxmax()]\n",
    "print(most_present)"
   ]
  },
  {
   "cell_type": "markdown",
   "metadata": {},
   "source": [
    "Well that's alot and can be very confusing for a reader to navigate between. To make these more manageable we here too divide the different cuisines into bigger groups to make it easier for the reader to navigate through our story. The groups we choose to divide them into is based on the most popular cuisines/dishes:\n",
    "<ol>\n",
    "  <li style=\"margin-bottom: 15px;\"><strong>Burgers:</strong> <span style=\"font-size: 10px;\">American, Californian, New American, Steakhouse, Chicken, Barbecue, Hamburgers.</span></li>\n",
    "  <li style=\"margin-bottom: 15px;\"><strong>Sandwiches:</strong> <span style=\"font-size: 10px;\">Sandwiches, Sandwiches/Salads/Mixed Buffet, Soups/Salads/Sandwiches.</span></li>\n",
    "  <li style=\"margin-bottom: 15px;\"><strong>Hotdogs:</strong> <span style=\"font-size: 10px;\">Hotdogs, Hotdogs/Pretzels.</span></li>\n",
    "  <li style=\"margin-bottom: 15px;\"><strong>Mexican:</strong> <span style=\"font-size: 10px;\">Mexican, Tex-Mex, Peruvian, Chimichurri, Chilean, Caribbean, Latin American.</span></li>\n",
    "  <li style=\"margin-bottom: 15px;\"><strong>Pizza:</strong> <span style=\"font-size: 10px;\">Pizza, Italian.</span></li>\n",
    "    <li style=\"margin-bottom: 15px;\"><strong>Asian:</strong> <span style=\"font-size: 10px;\">Chinese, Japanese, Korean, Indian, Thai, Filipino, Indonesian, Pakistani, Bangladeshi, Chinese/Japanese, Chinese/Cuban, Asian Fusion, Southeast Asian..</span></li>\n",
    "  <li style=\"margin-bottom: 15px;\"><strong>Bakery, Desserts & Snacks:</strong> <span style=\"font-size: 10px;\">Bakery Products/Desserts, Donuts, Bagels/Pretzels, Frozen Desserts, Pancakes/Waffles, Nuts/Confectionary.</span></li>\n",
    "  <li style=\"margin-bottom: 15px;\"><strong>Beverages & More:</strong> <span style=\"font-size: 10px;\"> Coffee/Tea, Bottled Beverages.</span></li>\n",
    "    <li style=\"margin-bottom: 15px;\"><strong>Salads/Vegan:</strong> <span style=\"font-size: 10px;\">Vegan, Vegetarian, Fruits/Vegetables, Juice, Smoothies, Fruit Salads, Salads.</span></li>\n",
    "  <li style=\"margin-bottom: 15px;\"><strong>Seafood:</strong> <span style=\"font-size: 10px;\">Seafood.</span></li>\n",
    "</ol>\n"
   ]
  },
  {
   "cell_type": "code",
   "execution_count": 9,
   "metadata": {},
   "outputs": [],
   "source": [
    "# Define the categories and their corresponding kitchen types\n",
    "food_categories = {\n",
    "    \"Burgers\": [\n",
    "        \"American\", \"Californian\", \"New American\", \n",
    "        \"Steakhouse\", \"Chicken\", \"Barbecue\", \"Hamburgers\",\n",
    "    ],\n",
    "    \"Sandwiches\": [\n",
    "        \"Sandwiches\", \"Sandwiches/Salads/Mixed Buffet\", \"Soups/Salads/Sandwiches\"\n",
    "    ],\n",
    "    \"Hotdogs\": [\"Hotdogs\", \"Hotdogs/Pretzels\"\n",
    "    ],\n",
    "    \"Mexican\": [\n",
    "        \"Mexican\", \"Tex-Mex\", \"Peruvian\", \"Chimichurri\", \"Chilean\", \"Caribbean\", \"Latin American\"\n",
    "    ],\n",
    "    \"Pizza\": [\n",
    "        \"Pizza\", \"Italian\"\n",
    "    ],\n",
    "    \"Asian\": [\n",
    "        \"Chinese\", \"Japanese\", \"Korean\", \"Indian\", \"Thai\", \"Filipino\", \"Indonesian\", \n",
    "        \"Pakistani\", \"Bangladeshi\", \"Chinese/Japanese\", \"Chinese/Cuban\", \"Asian/Asian Fusion\",\n",
    "        \"Southeast Asian\"\n",
    "    ],\n",
    "    \"Bakery, Desserts & Snacks\": [\n",
    "        \"Bakery Products/Desserts\", \"Donuts\", \"Bagels/Pretzels\", \"Frozen Desserts\",\n",
    "        \"Pancakes/Waffles\", \"Nuts/Confectionary\"\n",
    "    ],\n",
    "    \"Salads/Vegan\": [\n",
    "        \"Vegan\", \"Vegetarian\", \"Fruits/Vegetables\", \"Juice, Smoothies, Fruit Salads\", \n",
    "        \"Salads\"\n",
    "    ],\n",
    "    \"Beverages & More\": [\n",
    "        \"Coffee/Tea\", \"Bottled Beverages\"\n",
    "    ],\n",
    "    \"Seafood\": [\n",
    "        \"Seafood\"\n",
    "    ]\n",
    "}"
   ]
  },
  {
   "cell_type": "markdown",
   "metadata": {},
   "source": [
    "### **2.4 Reflection**\n",
    "When preprocessing the data the choices made have been with the reader in the mind and the fact that the different parameters presented to them should be easy to understand and process. Not wanting to introduce too many parameters but still give a good insight into the different aspects of the result reports. "
   ]
  },
  {
   "cell_type": "markdown",
   "metadata": {},
   "source": [
    "## **3.0 Data Analysis**"
   ]
  },
  {
   "cell_type": "markdown",
   "metadata": {},
   "source": [
    "### 3.1 **Focus**: Violation Codes\n",
    "Our data analysis aimed to find patterns in the inspections results. First looking into the violation codes. When looking at the violation codes we wanted to see if the location of the restaurant had an effect on the violation codes recorded. Here we found, that the distribution was very equal for every borough of NYC."
   ]
  },
  {
   "cell_type": "code",
   "execution_count": 10,
   "metadata": {},
   "outputs": [
    {
     "data": {
      "image/png": "[encoded data removed]",
      "text/plain": [
       "<Figure size 1000x500 with 1 Axes>"
      ]
     },
     "metadata": {},
     "output_type": "display_data"
    }
   ],
   "source": [
    "import matplotlib.pyplot as plt\n",
    "import seaborn as sns\n",
    "\n",
    "\n",
    "# Count the occurrences of each violation code for each borough\n",
    "violation_counts = df_filtered.groupby('BORO')['VIOLATION CODE'].value_counts().unstack().fillna(0)\n",
    "\n",
    "# Get the top 10 violation codes across all boroughs\n",
    "top_violation_codes = violation_counts.sum().nlargest(10).index\n",
    "\n",
    "# Filter the violation counts for the top 10 violation codes and transpose the DataFrame\n",
    "violation_counts = violation_counts[top_violation_codes].T\n",
    "\n",
    "# Plot a grouped bar plot\n",
    "violation_counts.plot(kind='bar', stacked=True, figsize=(10, 5))\n",
    "plt.title('Inspection Results: Top 10 Violation Codes by Borough')\n",
    "plt.xlabel('Violation Code')\n",
    "plt.ylabel('Count')\n",
    "plt.show()"
   ]
  },
  {
   "cell_type": "markdown",
   "metadata": {},
   "source": [
    "We also wanted to get an insight into the counts of inspection results for the latest years. While wanting to do that we also wanted to see if this could include the distribution in counts for each violation. We fould that through the years the counts have increased alot and there's a clear pattern of the Facility Sanitation being the most frequent violation."
   ]
  },
  {
   "cell_type": "code",
   "execution_count": 11,
   "metadata": {},
   "outputs": [
    {
     "data": {
      "application/vnd.plotly.v1+json": {
       "config": {
        "plotlyServerURL": "https://plot.ly"
       },
       "data": [
        {
         "line": {
          "color": "#b8e4f0"
         },
         "mode": "lines",
         "name": "Chemical Safety",
         "type": "scatter",
         "x": [
          "2022-01-09T00:00:00",
          "2022-01-16T00:00:00",
          "2022-01-23T00:00:00",
          "2022-01-30T00:00:00",
          "2022-02-06T00:00:00",
          "2022-02-13T00:00:00",
          "2022-02-20T00:00:00",
          "2022-02-27T00:00:00",
          "2022-03-06T00:00:00",
          "2022-03-13T00:00:00",
          "2022-03-20T00:00:00",
          "2022-03-27T00:00:00",
          "2022-04-03T00:00:00",
          "2022-04-10T00:00:00",
          "2022-04-17T00:00:00",
          "2022-04-24T00:00:00",
          "2022-05-01T00:00:00",
          "2022-05-08T00:00:00",
          "2022-05-15T00:00:00",
          "2022-05-22T00:00:00",
          "2022-05-29T00:00:00",
          "2022-06-05T00:00:00",
          "2022-06-12T00:00:00",
          "2022-06-19T00:00:00",
          "2022-06-26T00:00:00",
          "2022-07-03T00:00:00",
          "2022-07-10T00:00:00",
          "2022-07-17T00:00:00",
          "2022-07-24T00:00:00",
          "2022-07-31T00:00:00",
          "2022-08-07T00:00:00",
          "2022-08-14T00:00:00",
          "2022-08-21T00:00:00",
          "2022-08-28T00:00:00",
          "2022-09-04T00:00:00",
          "2022-09-11T00:00:00",
          "2022-09-18T00:00:00",
          "2022-09-25T00:00:00",
          "2022-10-02T00:00:00",
          "2022-10-09T00:00:00",
          "2022-10-16T00:00:00",
          "2022-10-23T00:00:00",
          "2022-10-30T00:00:00",
          "2022-11-06T00:00:00",
          "2022-11-13T00:00:00",
          "2022-11-20T00:00:00",
          "2022-11-27T00:00:00",
          "2022-12-04T00:00:00",
          "2022-12-11T00:00:00",
          "2022-12-18T00:00:00",
          "2022-12-25T00:00:00",
          "2023-01-01T00:00:00",
          "2023-01-08T00:00:00",
          "2023-01-15T00:00:00",
          "2023-01-22T00:00:00",
          "2023-01-29T00:00:00",
          "2023-02-05T00:00:00",
          "2023-02-12T00:00:00",
          "2023-02-19T00:00:00",
          "2023-02-26T00:00:00",
          "2023-03-05T00:00:00",
          "2023-03-12T00:00:00",
          "2023-03-19T00:00:00",
          "2023-03-26T00:00:00",
          "2023-04-02T00:00:00",
          "2023-04-09T00:00:00",
          "2023-04-16T00:00:00",
          "2023-04-23T00:00:00",
          "2023-04-30T00:00:00",
          "2023-05-07T00:00:00",
          "2023-05-14T00:00:00",
          "2023-05-21T00:00:00",
          "2023-05-28T00:00:00",
          "2023-06-04T00:00:00",
          "2023-06-11T00:00:00",
          "2023-06-18T00:00:00",
          "2023-06-25T00:00:00",
          "2023-07-02T00:00:00",
          "2023-07-09T00:00:00",
          "2023-07-16T00:00:00",
          "2023-07-23T00:00:00",
          "2023-07-30T00:00:00",
          "2023-08-06T00:00:00",
          "2023-08-13T00:00:00",
          "2023-08-20T00:00:00",
          "2023-08-27T00:00:00",
          "2023-09-03T00:00:00",
          "2023-09-10T00:00:00",
          "2023-09-17T00:00:00",
          "2023-09-24T00:00:00",
          "2023-10-01T00:00:00",
          "2023-10-08T00:00:00",
          "2023-10-15T00:00:00",
          "2023-10-22T00:00:00",
          "2023-10-29T00:00:00",
          "2023-11-05T00:00:00",
          "2023-11-12T00:00:00",
          "2023-11-19T00:00:00",
          "2023-11-26T00:00:00",
          "2023-12-03T00:00:00",
          "2023-12-10T00:00:00",
          "2023-12-17T00:00:00",
          "2023-12-24T00:00:00",
          "2023-12-31T00:00:00",
          "2024-01-07T00:00:00",
          "2024-01-14T00:00:00",
          "2024-01-21T00:00:00",
          "2024-01-28T00:00:00",
          "2024-02-04T00:00:00",
          "2024-02-11T00:00:00",
          "2024-02-18T00:00:00",
          "2024-02-25T00:00:00",
          "2024-03-03T00:00:00",
          "2024-03-10T00:00:00",
          "2024-03-17T00:00:00",
          "2024-03-24T00:00:00",
          "2024-03-31T00:00:00",
          "2024-04-07T00:00:00",
          "2024-04-14T00:00:00"
         ],
         "y": [
          0,
          0,
          0,
          0,
          0,
          0,
          0,
          0,
          0,
          0,
          0,
          0,
          0,
          0,
          0,
          0,
          0,
          0,
          0,
          0,
          0,
          0,
          0,
          0,
          0,
          0,
          0,
          0,
          0,
          0,
          0,
          0,
          1,
          0,
          0,
          0,
          1,
          0,
          1,
          0,
          0,
          0,
          0,
          3,
          1,
          2,
          0,
          1,
          1,
          1,
          0,
          1,
          0,
          2,
          1,
          1,
          3,
          0,
          2,
          2,
          1,
          1,
          1,
          1,
          3,
          0,
          1,
          0,
          0,
          1,
          1,
          2,
          0,
          2,
          2,
          1,
          0,
          0,
          1,
          0,
          1,
          0,
          1,
          0,
          0,
          0,
          0,
          0,
          0,
          0,
          0,
          0,
          2,
          2,
          0,
          0,
          0,
          1,
          0,
          2,
          0,
          2,
          1,
          1,
          0,
          1,
          2,
          0,
          1,
          0,
          1,
          2,
          2,
          5,
          4,
          3,
          3,
          2,
          0
         ]
        },
        {
         "line": {
          "color": "#b8d8d8"
         },
         "mode": "lines",
         "name": "Facility Maintenance",
         "type": "scatter",
         "x": [
          "2022-01-09T00:00:00",
          "2022-01-16T00:00:00",
          "2022-01-23T00:00:00",
          "2022-01-30T00:00:00",
          "2022-02-06T00:00:00",
          "2022-02-13T00:00:00",
          "2022-02-20T00:00:00",
          "2022-02-27T00:00:00",
          "2022-03-06T00:00:00",
          "2022-03-13T00:00:00",
          "2022-03-20T00:00:00",
          "2022-03-27T00:00:00",
          "2022-04-03T00:00:00",
          "2022-04-10T00:00:00",
          "2022-04-17T00:00:00",
          "2022-04-24T00:00:00",
          "2022-05-01T00:00:00",
          "2022-05-08T00:00:00",
          "2022-05-15T00:00:00",
          "2022-05-22T00:00:00",
          "2022-05-29T00:00:00",
          "2022-06-05T00:00:00",
          "2022-06-12T00:00:00",
          "2022-06-19T00:00:00",
          "2022-06-26T00:00:00",
          "2022-07-03T00:00:00",
          "2022-07-10T00:00:00",
          "2022-07-17T00:00:00",
          "2022-07-24T00:00:00",
          "2022-07-31T00:00:00",
          "2022-08-07T00:00:00",
          "2022-08-14T00:00:00",
          "2022-08-21T00:00:00",
          "2022-08-28T00:00:00",
          "2022-09-04T00:00:00",
          "2022-09-11T00:00:00",
          "2022-09-18T00:00:00",
          "2022-09-25T00:00:00",
          "2022-10-02T00:00:00",
          "2022-10-09T00:00:00",
          "2022-10-16T00:00:00",
          "2022-10-23T00:00:00",
          "2022-10-30T00:00:00",
          "2022-11-06T00:00:00",
          "2022-11-13T00:00:00",
          "2022-11-20T00:00:00",
          "2022-11-27T00:00:00",
          "2022-12-04T00:00:00",
          "2022-12-11T00:00:00",
          "2022-12-18T00:00:00",
          "2022-12-25T00:00:00",
          "2023-01-01T00:00:00",
          "2023-01-08T00:00:00",
          "2023-01-15T00:00:00",
          "2023-01-22T00:00:00",
          "2023-01-29T00:00:00",
          "2023-02-05T00:00:00",
          "2023-02-12T00:00:00",
          "2023-02-19T00:00:00",
          "2023-02-26T00:00:00",
          "2023-03-05T00:00:00",
          "2023-03-12T00:00:00",
          "2023-03-19T00:00:00",
          "2023-03-26T00:00:00",
          "2023-04-02T00:00:00",
          "2023-04-09T00:00:00",
          "2023-04-16T00:00:00",
          "2023-04-23T00:00:00",
          "2023-04-30T00:00:00",
          "2023-05-07T00:00:00",
          "2023-05-14T00:00:00",
          "2023-05-21T00:00:00",
          "2023-05-28T00:00:00",
          "2023-06-04T00:00:00",
          "2023-06-11T00:00:00",
          "2023-06-18T00:00:00",
          "2023-06-25T00:00:00",
          "2023-07-02T00:00:00",
          "2023-07-09T00:00:00",
          "2023-07-16T00:00:00",
          "2023-07-23T00:00:00",
          "2023-07-30T00:00:00",
          "2023-08-06T00:00:00",
          "2023-08-13T00:00:00",
          "2023-08-20T00:00:00",
          "2023-08-27T00:00:00",
          "2023-09-03T00:00:00",
          "2023-09-10T00:00:00",
          "2023-09-17T00:00:00",
          "2023-09-24T00:00:00",
          "2023-10-01T00:00:00",
          "2023-10-08T00:00:00",
          "2023-10-15T00:00:00",
          "2023-10-22T00:00:00",
          "2023-10-29T00:00:00",
          "2023-11-05T00:00:00",
          "2023-11-12T00:00:00",
          "2023-11-19T00:00:00",
          "2023-11-26T00:00:00",
          "2023-12-03T00:00:00",
          "2023-12-10T00:00:00",
          "2023-12-17T00:00:00",
          "2023-12-24T00:00:00",
          "2023-12-31T00:00:00",
          "2024-01-07T00:00:00",
          "2024-01-14T00:00:00",
          "2024-01-21T00:00:00",
          "2024-01-28T00:00:00",
          "2024-02-04T00:00:00",
          "2024-02-11T00:00:00",
          "2024-02-18T00:00:00",
          "2024-02-25T00:00:00",
          "2024-03-03T00:00:00",
          "2024-03-10T00:00:00",
          "2024-03-17T00:00:00",
          "2024-03-24T00:00:00",
          "2024-03-31T00:00:00",
          "2024-04-07T00:00:00",
          "2024-04-14T00:00:00"
         ],
         "y": [
          7,
          5,
          1,
          3,
          6,
          9,
          5,
          5,
          8,
          6,
          5,
          6,
          5,
          8,
          6,
          9,
          11,
          12,
          8,
          12,
          7,
          16,
          7,
          15,
          8,
          2,
          12,
          9,
          14,
          14,
          30,
          28,
          23,
          29,
          29,
          20,
          19,
          24,
          20,
          30,
          16,
          39,
          41,
          45,
          34,
          52,
          33,
          64,
          59,
          49,
          29,
          46,
          65,
          79,
          81,
          93,
          75,
          78,
          77,
          69,
          104,
          79,
          70,
          124,
          97,
          83,
          110,
          84,
          107,
          82,
          93,
          109,
          89,
          77,
          64,
          92,
          83,
          82,
          21,
          55,
          58,
          49,
          44,
          57,
          75,
          78,
          65,
          38,
          71,
          80,
          53,
          79,
          78,
          81,
          61,
          73,
          28,
          69,
          32,
          68,
          87,
          65,
          68,
          62,
          56,
          66,
          60,
          87,
          105,
          90,
          78,
          82,
          110,
          134,
          142,
          156,
          123,
          119,
          92
         ]
        },
        {
         "line": {
          "color": "#a2cffe"
         },
         "mode": "lines",
         "name": "Facility Sanitation",
         "type": "scatter",
         "x": [
          "2022-01-09T00:00:00",
          "2022-01-16T00:00:00",
          "2022-01-23T00:00:00",
          "2022-01-30T00:00:00",
          "2022-02-06T00:00:00",
          "2022-02-13T00:00:00",
          "2022-02-20T00:00:00",
          "2022-02-27T00:00:00",
          "2022-03-06T00:00:00",
          "2022-03-13T00:00:00",
          "2022-03-20T00:00:00",
          "2022-03-27T00:00:00",
          "2022-04-03T00:00:00",
          "2022-04-10T00:00:00",
          "2022-04-17T00:00:00",
          "2022-04-24T00:00:00",
          "2022-05-01T00:00:00",
          "2022-05-08T00:00:00",
          "2022-05-15T00:00:00",
          "2022-05-22T00:00:00",
          "2022-05-29T00:00:00",
          "2022-06-05T00:00:00",
          "2022-06-12T00:00:00",
          "2022-06-19T00:00:00",
          "2022-06-26T00:00:00",
          "2022-07-03T00:00:00",
          "2022-07-10T00:00:00",
          "2022-07-17T00:00:00",
          "2022-07-24T00:00:00",
          "2022-07-31T00:00:00",
          "2022-08-07T00:00:00",
          "2022-08-14T00:00:00",
          "2022-08-21T00:00:00",
          "2022-08-28T00:00:00",
          "2022-09-04T00:00:00",
          "2022-09-11T00:00:00",
          "2022-09-18T00:00:00",
          "2022-09-25T00:00:00",
          "2022-10-02T00:00:00",
          "2022-10-09T00:00:00",
          "2022-10-16T00:00:00",
          "2022-10-23T00:00:00",
          "2022-10-30T00:00:00",
          "2022-11-06T00:00:00",
          "2022-11-13T00:00:00",
          "2022-11-20T00:00:00",
          "2022-11-27T00:00:00",
          "2022-12-04T00:00:00",
          "2022-12-11T00:00:00",
          "2022-12-18T00:00:00",
          "2022-12-25T00:00:00",
          "2023-01-01T00:00:00",
          "2023-01-08T00:00:00",
          "2023-01-15T00:00:00",
          "2023-01-22T00:00:00",
          "2023-01-29T00:00:00",
          "2023-02-05T00:00:00",
          "2023-02-12T00:00:00",
          "2023-02-19T00:00:00",
          "2023-02-26T00:00:00",
          "2023-03-05T00:00:00",
          "2023-03-12T00:00:00",
          "2023-03-19T00:00:00",
          "2023-03-26T00:00:00",
          "2023-04-02T00:00:00",
          "2023-04-09T00:00:00",
          "2023-04-16T00:00:00",
          "2023-04-23T00:00:00",
          "2023-04-30T00:00:00",
          "2023-05-07T00:00:00",
          "2023-05-14T00:00:00",
          "2023-05-21T00:00:00",
          "2023-05-28T00:00:00",
          "2023-06-04T00:00:00",
          "2023-06-11T00:00:00",
          "2023-06-18T00:00:00",
          "2023-06-25T00:00:00",
          "2023-07-02T00:00:00",
          "2023-07-09T00:00:00",
          "2023-07-16T00:00:00",
          "2023-07-23T00:00:00",
          "2023-07-30T00:00:00",
          "2023-08-06T00:00:00",
          "2023-08-13T00:00:00",
          "2023-08-20T00:00:00",
          "2023-08-27T00:00:00",
          "2023-09-03T00:00:00",
          "2023-09-10T00:00:00",
          "2023-09-17T00:00:00",
          "2023-09-24T00:00:00",
          "2023-10-01T00:00:00",
          "2023-10-08T00:00:00",
          "2023-10-15T00:00:00",
          "2023-10-22T00:00:00",
          "2023-10-29T00:00:00",
          "2023-11-05T00:00:00",
          "2023-11-12T00:00:00",
          "2023-11-19T00:00:00",
          "2023-11-26T00:00:00",
          "2023-12-03T00:00:00",
          "2023-12-10T00:00:00",
          "2023-12-17T00:00:00",
          "2023-12-24T00:00:00",
          "2023-12-31T00:00:00",
          "2024-01-07T00:00:00",
          "2024-01-14T00:00:00",
          "2024-01-21T00:00:00",
          "2024-01-28T00:00:00",
          "2024-02-04T00:00:00",
          "2024-02-11T00:00:00",
          "2024-02-18T00:00:00",
          "2024-02-25T00:00:00",
          "2024-03-03T00:00:00",
          "2024-03-10T00:00:00",
          "2024-03-17T00:00:00",
          "2024-03-24T00:00:00",
          "2024-03-31T00:00:00",
          "2024-04-07T00:00:00",
          "2024-04-14T00:00:00"
         ],
         "y": [
          10,
          17,
          9,
          15,
          23,
          26,
          16,
          10,
          39,
          45,
          22,
          25,
          16,
          36,
          33,
          38,
          35,
          37,
          30,
          38,
          36,
          31,
          30,
          44,
          24,
          6,
          73,
          33,
          50,
          62,
          91,
          77,
          77,
          63,
          109,
          82,
          91,
          112,
          85,
          89,
          73,
          178,
          194,
          189,
          118,
          230,
          142,
          272,
          267,
          193,
          148,
          151,
          220,
          281,
          286,
          361,
          368,
          329,
          245,
          231,
          352,
          329,
          343,
          395,
          384,
          379,
          395,
          354,
          404,
          359,
          403,
          375,
          348,
          304,
          251,
          294,
          278,
          229,
          75,
          159,
          134,
          115,
          121,
          176,
          225,
          196,
          190,
          137,
          192,
          225,
          186,
          248,
          211,
          268,
          211,
          268,
          94,
          267,
          174,
          279,
          290,
          215,
          262,
          159,
          202,
          220,
          191,
          247,
          277,
          314,
          244,
          212,
          288,
          429,
          486,
          537,
          381,
          342,
          293
         ]
        },
        {
         "line": {
          "color": "#7ed6df"
         },
         "mode": "lines",
         "name": "Food Sourcing and Labeling",
         "type": "scatter",
         "x": [
          "2022-01-09T00:00:00",
          "2022-01-16T00:00:00",
          "2022-01-23T00:00:00",
          "2022-01-30T00:00:00",
          "2022-02-06T00:00:00",
          "2022-02-13T00:00:00",
          "2022-02-20T00:00:00",
          "2022-02-27T00:00:00",
          "2022-03-06T00:00:00",
          "2022-03-13T00:00:00",
          "2022-03-20T00:00:00",
          "2022-03-27T00:00:00",
          "2022-04-03T00:00:00",
          "2022-04-10T00:00:00",
          "2022-04-17T00:00:00",
          "2022-04-24T00:00:00",
          "2022-05-01T00:00:00",
          "2022-05-08T00:00:00",
          "2022-05-15T00:00:00",
          "2022-05-22T00:00:00",
          "2022-05-29T00:00:00",
          "2022-06-05T00:00:00",
          "2022-06-12T00:00:00",
          "2022-06-19T00:00:00",
          "2022-06-26T00:00:00",
          "2022-07-03T00:00:00",
          "2022-07-10T00:00:00",
          "2022-07-17T00:00:00",
          "2022-07-24T00:00:00",
          "2022-07-31T00:00:00",
          "2022-08-07T00:00:00",
          "2022-08-14T00:00:00",
          "2022-08-21T00:00:00",
          "2022-08-28T00:00:00",
          "2022-09-04T00:00:00",
          "2022-09-11T00:00:00",
          "2022-09-18T00:00:00",
          "2022-09-25T00:00:00",
          "2022-10-02T00:00:00",
          "2022-10-09T00:00:00",
          "2022-10-16T00:00:00",
          "2022-10-23T00:00:00",
          "2022-10-30T00:00:00",
          "2022-11-06T00:00:00",
          "2022-11-13T00:00:00",
          "2022-11-20T00:00:00",
          "2022-11-27T00:00:00",
          "2022-12-04T00:00:00",
          "2022-12-11T00:00:00",
          "2022-12-18T00:00:00",
          "2022-12-25T00:00:00",
          "2023-01-01T00:00:00",
          "2023-01-08T00:00:00",
          "2023-01-15T00:00:00",
          "2023-01-22T00:00:00",
          "2023-01-29T00:00:00",
          "2023-02-05T00:00:00",
          "2023-02-12T00:00:00",
          "2023-02-19T00:00:00",
          "2023-02-26T00:00:00",
          "2023-03-05T00:00:00",
          "2023-03-12T00:00:00",
          "2023-03-19T00:00:00",
          "2023-03-26T00:00:00",
          "2023-04-02T00:00:00",
          "2023-04-09T00:00:00",
          "2023-04-16T00:00:00",
          "2023-04-23T00:00:00",
          "2023-04-30T00:00:00",
          "2023-05-07T00:00:00",
          "2023-05-14T00:00:00",
          "2023-05-21T00:00:00",
          "2023-05-28T00:00:00",
          "2023-06-04T00:00:00",
          "2023-06-11T00:00:00",
          "2023-06-18T00:00:00",
          "2023-06-25T00:00:00",
          "2023-07-02T00:00:00",
          "2023-07-09T00:00:00",
          "2023-07-16T00:00:00",
          "2023-07-23T00:00:00",
          "2023-07-30T00:00:00",
          "2023-08-06T00:00:00",
          "2023-08-13T00:00:00",
          "2023-08-20T00:00:00",
          "2023-08-27T00:00:00",
          "2023-09-03T00:00:00",
          "2023-09-10T00:00:00",
          "2023-09-17T00:00:00",
          "2023-09-24T00:00:00",
          "2023-10-01T00:00:00",
          "2023-10-08T00:00:00",
          "2023-10-15T00:00:00",
          "2023-10-22T00:00:00",
          "2023-10-29T00:00:00",
          "2023-11-05T00:00:00",
          "2023-11-12T00:00:00",
          "2023-11-19T00:00:00",
          "2023-11-26T00:00:00",
          "2023-12-03T00:00:00",
          "2023-12-10T00:00:00",
          "2023-12-17T00:00:00",
          "2023-12-24T00:00:00",
          "2023-12-31T00:00:00",
          "2024-01-07T00:00:00",
          "2024-01-14T00:00:00",
          "2024-01-21T00:00:00",
          "2024-01-28T00:00:00",
          "2024-02-04T00:00:00",
          "2024-02-11T00:00:00",
          "2024-02-18T00:00:00",
          "2024-02-25T00:00:00",
          "2024-03-03T00:00:00",
          "2024-03-10T00:00:00",
          "2024-03-17T00:00:00",
          "2024-03-24T00:00:00",
          "2024-03-31T00:00:00",
          "2024-04-07T00:00:00",
          "2024-04-14T00:00:00"
         ],
         "y": [
          1,
          0,
          1,
          0,
          0,
          0,
          1,
          1,
          2,
          1,
          0,
          0,
          0,
          0,
          1,
          0,
          0,
          2,
          0,
          0,
          0,
          0,
          0,
          0,
          1,
          0,
          2,
          2,
          1,
          2,
          0,
          1,
          1,
          3,
          3,
          1,
          2,
          3,
          2,
          1,
          1,
          1,
          3,
          3,
          2,
          7,
          6,
          9,
          8,
          3,
          5,
          2,
          5,
          6,
          10,
          8,
          11,
          7,
          8,
          5,
          9,
          10,
          6,
          7,
          11,
          7,
          8,
          12,
          11,
          8,
          8,
          9,
          5,
          5,
          8,
          2,
          7,
          4,
          1,
          6,
          0,
          11,
          2,
          2,
          10,
          11,
          2,
          4,
          7,
          7,
          6,
          8,
          6,
          15,
          11,
          8,
          3,
          9,
          10,
          12,
          8,
          6,
          8,
          9,
          7,
          11,
          9,
          11,
          8,
          5,
          13,
          13,
          16,
          22,
          25,
          14,
          6,
          9,
          7
         ]
        },
        {
         "line": {
          "color": "#cbf7d4"
         },
         "mode": "lines",
         "name": "Pest Control",
         "type": "scatter",
         "x": [
          "2022-01-09T00:00:00",
          "2022-01-16T00:00:00",
          "2022-01-23T00:00:00",
          "2022-01-30T00:00:00",
          "2022-02-06T00:00:00",
          "2022-02-13T00:00:00",
          "2022-02-20T00:00:00",
          "2022-02-27T00:00:00",
          "2022-03-06T00:00:00",
          "2022-03-13T00:00:00",
          "2022-03-20T00:00:00",
          "2022-03-27T00:00:00",
          "2022-04-03T00:00:00",
          "2022-04-10T00:00:00",
          "2022-04-17T00:00:00",
          "2022-04-24T00:00:00",
          "2022-05-01T00:00:00",
          "2022-05-08T00:00:00",
          "2022-05-15T00:00:00",
          "2022-05-22T00:00:00",
          "2022-05-29T00:00:00",
          "2022-06-05T00:00:00",
          "2022-06-12T00:00:00",
          "2022-06-19T00:00:00",
          "2022-06-26T00:00:00",
          "2022-07-03T00:00:00",
          "2022-07-10T00:00:00",
          "2022-07-17T00:00:00",
          "2022-07-24T00:00:00",
          "2022-07-31T00:00:00",
          "2022-08-07T00:00:00",
          "2022-08-14T00:00:00",
          "2022-08-21T00:00:00",
          "2022-08-28T00:00:00",
          "2022-09-04T00:00:00",
          "2022-09-11T00:00:00",
          "2022-09-18T00:00:00",
          "2022-09-25T00:00:00",
          "2022-10-02T00:00:00",
          "2022-10-09T00:00:00",
          "2022-10-16T00:00:00",
          "2022-10-23T00:00:00",
          "2022-10-30T00:00:00",
          "2022-11-06T00:00:00",
          "2022-11-13T00:00:00",
          "2022-11-20T00:00:00",
          "2022-11-27T00:00:00",
          "2022-12-04T00:00:00",
          "2022-12-11T00:00:00",
          "2022-12-18T00:00:00",
          "2022-12-25T00:00:00",
          "2023-01-01T00:00:00",
          "2023-01-08T00:00:00",
          "2023-01-15T00:00:00",
          "2023-01-22T00:00:00",
          "2023-01-29T00:00:00",
          "2023-02-05T00:00:00",
          "2023-02-12T00:00:00",
          "2023-02-19T00:00:00",
          "2023-02-26T00:00:00",
          "2023-03-05T00:00:00",
          "2023-03-12T00:00:00",
          "2023-03-19T00:00:00",
          "2023-03-26T00:00:00",
          "2023-04-02T00:00:00",
          "2023-04-09T00:00:00",
          "2023-04-16T00:00:00",
          "2023-04-23T00:00:00",
          "2023-04-30T00:00:00",
          "2023-05-07T00:00:00",
          "2023-05-14T00:00:00",
          "2023-05-21T00:00:00",
          "2023-05-28T00:00:00",
          "2023-06-04T00:00:00",
          "2023-06-11T00:00:00",
          "2023-06-18T00:00:00",
          "2023-06-25T00:00:00",
          "2023-07-02T00:00:00",
          "2023-07-09T00:00:00",
          "2023-07-16T00:00:00",
          "2023-07-23T00:00:00",
          "2023-07-30T00:00:00",
          "2023-08-06T00:00:00",
          "2023-08-13T00:00:00",
          "2023-08-20T00:00:00",
          "2023-08-27T00:00:00",
          "2023-09-03T00:00:00",
          "2023-09-10T00:00:00",
          "2023-09-17T00:00:00",
          "2023-09-24T00:00:00",
          "2023-10-01T00:00:00",
          "2023-10-08T00:00:00",
          "2023-10-15T00:00:00",
          "2023-10-22T00:00:00",
          "2023-10-29T00:00:00",
          "2023-11-05T00:00:00",
          "2023-11-12T00:00:00",
          "2023-11-19T00:00:00",
          "2023-11-26T00:00:00",
          "2023-12-03T00:00:00",
          "2023-12-10T00:00:00",
          "2023-12-17T00:00:00",
          "2023-12-24T00:00:00",
          "2023-12-31T00:00:00",
          "2024-01-07T00:00:00",
          "2024-01-14T00:00:00",
          "2024-01-21T00:00:00",
          "2024-01-28T00:00:00",
          "2024-02-04T00:00:00",
          "2024-02-11T00:00:00",
          "2024-02-18T00:00:00",
          "2024-02-25T00:00:00",
          "2024-03-03T00:00:00",
          "2024-03-10T00:00:00",
          "2024-03-17T00:00:00",
          "2024-03-24T00:00:00",
          "2024-03-31T00:00:00",
          "2024-04-07T00:00:00",
          "2024-04-14T00:00:00"
         ],
         "y": [
          12,
          21,
          18,
          19,
          31,
          7,
          10,
          9,
          38,
          38,
          6,
          5,
          11,
          18,
          8,
          20,
          16,
          23,
          12,
          27,
          15,
          37,
          12,
          29,
          20,
          8,
          35,
          35,
          48,
          55,
          70,
          58,
          75,
          53,
          102,
          76,
          78,
          131,
          128,
          78,
          56,
          88,
          101,
          140,
          74,
          240,
          180,
          323,
          198,
          140,
          86,
          165,
          249,
          245,
          228,
          312,
          223,
          252,
          223,
          215,
          279,
          215,
          141,
          235,
          218,
          205,
          229,
          174,
          155,
          181,
          132,
          157,
          157,
          111,
          80,
          130,
          139,
          113,
          31,
          101,
          89,
          97,
          86,
          122,
          156,
          107,
          146,
          100,
          109,
          193,
          119,
          197,
          177,
          204,
          168,
          142,
          88,
          234,
          100,
          148,
          149,
          119,
          164,
          87,
          74,
          104,
          96,
          126,
          120,
          125,
          161,
          146,
          151,
          253,
          285,
          286,
          193,
          135,
          94
         ]
        },
        {
         "line": {
          "color": "#7a9d96"
         },
         "mode": "lines",
         "name": "Staff Hygiene",
         "type": "scatter",
         "x": [
          "2022-01-09T00:00:00",
          "2022-01-16T00:00:00",
          "2022-01-23T00:00:00",
          "2022-01-30T00:00:00",
          "2022-02-06T00:00:00",
          "2022-02-13T00:00:00",
          "2022-02-20T00:00:00",
          "2022-02-27T00:00:00",
          "2022-03-06T00:00:00",
          "2022-03-13T00:00:00",
          "2022-03-20T00:00:00",
          "2022-03-27T00:00:00",
          "2022-04-03T00:00:00",
          "2022-04-10T00:00:00",
          "2022-04-17T00:00:00",
          "2022-04-24T00:00:00",
          "2022-05-01T00:00:00",
          "2022-05-08T00:00:00",
          "2022-05-15T00:00:00",
          "2022-05-22T00:00:00",
          "2022-05-29T00:00:00",
          "2022-06-05T00:00:00",
          "2022-06-12T00:00:00",
          "2022-06-19T00:00:00",
          "2022-06-26T00:00:00",
          "2022-07-03T00:00:00",
          "2022-07-10T00:00:00",
          "2022-07-17T00:00:00",
          "2022-07-24T00:00:00",
          "2022-07-31T00:00:00",
          "2022-08-07T00:00:00",
          "2022-08-14T00:00:00",
          "2022-08-21T00:00:00",
          "2022-08-28T00:00:00",
          "2022-09-04T00:00:00",
          "2022-09-11T00:00:00",
          "2022-09-18T00:00:00",
          "2022-09-25T00:00:00",
          "2022-10-02T00:00:00",
          "2022-10-09T00:00:00",
          "2022-10-16T00:00:00",
          "2022-10-23T00:00:00",
          "2022-10-30T00:00:00",
          "2022-11-06T00:00:00",
          "2022-11-13T00:00:00",
          "2022-11-20T00:00:00",
          "2022-11-27T00:00:00",
          "2022-12-04T00:00:00",
          "2022-12-11T00:00:00",
          "2022-12-18T00:00:00",
          "2022-12-25T00:00:00",
          "2023-01-01T00:00:00",
          "2023-01-08T00:00:00",
          "2023-01-15T00:00:00",
          "2023-01-22T00:00:00",
          "2023-01-29T00:00:00",
          "2023-02-05T00:00:00",
          "2023-02-12T00:00:00",
          "2023-02-19T00:00:00",
          "2023-02-26T00:00:00",
          "2023-03-05T00:00:00",
          "2023-03-12T00:00:00",
          "2023-03-19T00:00:00",
          "2023-03-26T00:00:00",
          "2023-04-02T00:00:00",
          "2023-04-09T00:00:00",
          "2023-04-16T00:00:00",
          "2023-04-23T00:00:00",
          "2023-04-30T00:00:00",
          "2023-05-07T00:00:00",
          "2023-05-14T00:00:00",
          "2023-05-21T00:00:00",
          "2023-05-28T00:00:00",
          "2023-06-04T00:00:00",
          "2023-06-11T00:00:00",
          "2023-06-18T00:00:00",
          "2023-06-25T00:00:00",
          "2023-07-02T00:00:00",
          "2023-07-09T00:00:00",
          "2023-07-16T00:00:00",
          "2023-07-23T00:00:00",
          "2023-07-30T00:00:00",
          "2023-08-06T00:00:00",
          "2023-08-13T00:00:00",
          "2023-08-20T00:00:00",
          "2023-08-27T00:00:00",
          "2023-09-03T00:00:00",
          "2023-09-10T00:00:00",
          "2023-09-17T00:00:00",
          "2023-09-24T00:00:00",
          "2023-10-01T00:00:00",
          "2023-10-08T00:00:00",
          "2023-10-15T00:00:00",
          "2023-10-22T00:00:00",
          "2023-10-29T00:00:00",
          "2023-11-05T00:00:00",
          "2023-11-12T00:00:00",
          "2023-11-19T00:00:00",
          "2023-11-26T00:00:00",
          "2023-12-03T00:00:00",
          "2023-12-10T00:00:00",
          "2023-12-17T00:00:00",
          "2023-12-24T00:00:00",
          "2023-12-31T00:00:00",
          "2024-01-07T00:00:00",
          "2024-01-14T00:00:00",
          "2024-01-21T00:00:00",
          "2024-01-28T00:00:00",
          "2024-02-04T00:00:00",
          "2024-02-11T00:00:00",
          "2024-02-18T00:00:00",
          "2024-02-25T00:00:00",
          "2024-03-03T00:00:00",
          "2024-03-10T00:00:00",
          "2024-03-17T00:00:00",
          "2024-03-24T00:00:00",
          "2024-03-31T00:00:00",
          "2024-04-07T00:00:00",
          "2024-04-14T00:00:00"
         ],
         "y": [
          8,
          5,
          3,
          4,
          8,
          6,
          5,
          3,
          7,
          4,
          2,
          4,
          3,
          9,
          5,
          7,
          6,
          9,
          11,
          7,
          8,
          7,
          13,
          7,
          10,
          3,
          16,
          11,
          12,
          11,
          24,
          15,
          19,
          21,
          29,
          21,
          22,
          27,
          29,
          28,
          20,
          38,
          46,
          58,
          36,
          58,
          38,
          70,
          67,
          38,
          33,
          39,
          62,
          69,
          77,
          98,
          80,
          86,
          84,
          63,
          81,
          76,
          69,
          78,
          95,
          73,
          96,
          89,
          77,
          71,
          92,
          76,
          76,
          64,
          57,
          58,
          50,
          48,
          18,
          40,
          40,
          42,
          45,
          48,
          59,
          41,
          58,
          38,
          49,
          63,
          44,
          64,
          58,
          57,
          41,
          55,
          22,
          65,
          35,
          57,
          65,
          48,
          64,
          36,
          38,
          47,
          49,
          59,
          65,
          74,
          64,
          46,
          98,
          113,
          131,
          132,
          111,
          78,
          66
         ]
        },
        {
         "line": {
          "color": "#faf0af"
         },
         "mode": "lines",
         "name": "Temperature Control",
         "type": "scatter",
         "x": [
          "2022-01-09T00:00:00",
          "2022-01-16T00:00:00",
          "2022-01-23T00:00:00",
          "2022-01-30T00:00:00",
          "2022-02-06T00:00:00",
          "2022-02-13T00:00:00",
          "2022-02-20T00:00:00",
          "2022-02-27T00:00:00",
          "2022-03-06T00:00:00",
          "2022-03-13T00:00:00",
          "2022-03-20T00:00:00",
          "2022-03-27T00:00:00",
          "2022-04-03T00:00:00",
          "2022-04-10T00:00:00",
          "2022-04-17T00:00:00",
          "2022-04-24T00:00:00",
          "2022-05-01T00:00:00",
          "2022-05-08T00:00:00",
          "2022-05-15T00:00:00",
          "2022-05-22T00:00:00",
          "2022-05-29T00:00:00",
          "2022-06-05T00:00:00",
          "2022-06-12T00:00:00",
          "2022-06-19T00:00:00",
          "2022-06-26T00:00:00",
          "2022-07-03T00:00:00",
          "2022-07-10T00:00:00",
          "2022-07-17T00:00:00",
          "2022-07-24T00:00:00",
          "2022-07-31T00:00:00",
          "2022-08-07T00:00:00",
          "2022-08-14T00:00:00",
          "2022-08-21T00:00:00",
          "2022-08-28T00:00:00",
          "2022-09-04T00:00:00",
          "2022-09-11T00:00:00",
          "2022-09-18T00:00:00",
          "2022-09-25T00:00:00",
          "2022-10-02T00:00:00",
          "2022-10-09T00:00:00",
          "2022-10-16T00:00:00",
          "2022-10-23T00:00:00",
          "2022-10-30T00:00:00",
          "2022-11-06T00:00:00",
          "2022-11-13T00:00:00",
          "2022-11-20T00:00:00",
          "2022-11-27T00:00:00",
          "2022-12-04T00:00:00",
          "2022-12-11T00:00:00",
          "2022-12-18T00:00:00",
          "2022-12-25T00:00:00",
          "2023-01-01T00:00:00",
          "2023-01-08T00:00:00",
          "2023-01-15T00:00:00",
          "2023-01-22T00:00:00",
          "2023-01-29T00:00:00",
          "2023-02-05T00:00:00",
          "2023-02-12T00:00:00",
          "2023-02-19T00:00:00",
          "2023-02-26T00:00:00",
          "2023-03-05T00:00:00",
          "2023-03-12T00:00:00",
          "2023-03-19T00:00:00",
          "2023-03-26T00:00:00",
          "2023-04-02T00:00:00",
          "2023-04-09T00:00:00",
          "2023-04-16T00:00:00",
          "2023-04-23T00:00:00",
          "2023-04-30T00:00:00",
          "2023-05-07T00:00:00",
          "2023-05-14T00:00:00",
          "2023-05-21T00:00:00",
          "2023-05-28T00:00:00",
          "2023-06-04T00:00:00",
          "2023-06-11T00:00:00",
          "2023-06-18T00:00:00",
          "2023-06-25T00:00:00",
          "2023-07-02T00:00:00",
          "2023-07-09T00:00:00",
          "2023-07-16T00:00:00",
          "2023-07-23T00:00:00",
          "2023-07-30T00:00:00",
          "2023-08-06T00:00:00",
          "2023-08-13T00:00:00",
          "2023-08-20T00:00:00",
          "2023-08-27T00:00:00",
          "2023-09-03T00:00:00",
          "2023-09-10T00:00:00",
          "2023-09-17T00:00:00",
          "2023-09-24T00:00:00",
          "2023-10-01T00:00:00",
          "2023-10-08T00:00:00",
          "2023-10-15T00:00:00",
          "2023-10-22T00:00:00",
          "2023-10-29T00:00:00",
          "2023-11-05T00:00:00",
          "2023-11-12T00:00:00",
          "2023-11-19T00:00:00",
          "2023-11-26T00:00:00",
          "2023-12-03T00:00:00",
          "2023-12-10T00:00:00",
          "2023-12-17T00:00:00",
          "2023-12-24T00:00:00",
          "2023-12-31T00:00:00",
          "2024-01-07T00:00:00",
          "2024-01-14T00:00:00",
          "2024-01-21T00:00:00",
          "2024-01-28T00:00:00",
          "2024-02-04T00:00:00",
          "2024-02-11T00:00:00",
          "2024-02-18T00:00:00",
          "2024-02-25T00:00:00",
          "2024-03-03T00:00:00",
          "2024-03-10T00:00:00",
          "2024-03-17T00:00:00",
          "2024-03-24T00:00:00",
          "2024-03-31T00:00:00",
          "2024-04-07T00:00:00",
          "2024-04-14T00:00:00"
         ],
         "y": [
          7,
          4,
          1,
          13,
          14,
          8,
          3,
          2,
          13,
          17,
          7,
          8,
          5,
          21,
          7,
          10,
          4,
          11,
          6,
          12,
          6,
          10,
          20,
          10,
          9,
          0,
          24,
          17,
          17,
          21,
          35,
          22,
          24,
          24,
          29,
          33,
          36,
          47,
          45,
          42,
          20,
          35,
          49,
          66,
          27,
          69,
          56,
          114,
          89,
          53,
          52,
          87,
          108,
          106,
          99,
          123,
          103,
          120,
          118,
          104,
          116,
          117,
          78,
          127,
          102,
          128,
          120,
          132,
          87,
          97,
          105,
          84,
          85,
          80,
          58,
          102,
          79,
          57,
          23,
          46,
          49,
          48,
          34,
          61,
          72,
          59,
          62,
          54,
          61,
          101,
          55,
          77,
          54,
          88,
          72,
          61,
          27,
          91,
          39,
          77,
          84,
          55,
          84,
          48,
          48,
          49,
          49,
          61,
          75,
          75,
          73,
          71,
          94,
          171,
          172,
          191,
          149,
          111,
          116
         ]
        }
       ],
       "layout": {
        "plot_bgcolor": "rgba(250, 250, 250, 0.8)",
        "template": {
         "data": {
          "bar": [
           {
            "error_x": {
             "color": "#2a3f5f"
            },
            "error_y": {
             "color": "#2a3f5f"
            },
            "marker": {
             "line": {
              "color": "#E5ECF6",
              "width": 0.5
             },
             "pattern": {
              "fillmode": "overlay",
              "size": 10,
              "solidity": 0.2
             }
            },
            "type": "bar"
           }
          ],
          "barpolar": [
           {
            "marker": {
             "line": {
              "color": "#E5ECF6",
              "width": 0.5
             },
             "pattern": {
              "fillmode": "overlay",
              "size": 10,
              "solidity": 0.2
             }
            },
            "type": "barpolar"
           }
          ],
          "carpet": [
           {
            "aaxis": {
             "endlinecolor": "#2a3f5f",
             "gridcolor": "white",
             "linecolor": "white",
             "minorgridcolor": "white",
             "startlinecolor": "#2a3f5f"
            },
            "baxis": {
             "endlinecolor": "#2a3f5f",
             "gridcolor": "white",
             "linecolor": "white",
             "minorgridcolor": "white",
             "startlinecolor": "#2a3f5f"
            },
            "type": "carpet"
           }
          ],
          "choropleth": [
           {
            "colorbar": {
             "outlinewidth": 0,
             "ticks": ""
            },
            "type": "choropleth"
           }
          ],
          "contour": [
           {
            "colorbar": {
             "outlinewidth": 0,
             "ticks": ""
            },
            "colorscale": [
             [
              0,
              "#0d0887"
             ],
             [
              0.1111111111111111,
              "#46039f"
             ],
             [
              0.2222222222222222,
              "#7201a8"
             ],
             [
              0.3333333333333333,
              "#9c179e"
             ],
             [
              0.4444444444444444,
              "#bd3786"
             ],
             [
              0.5555555555555556,
              "#d8576b"
             ],
             [
              0.6666666666666666,
              "#ed7953"
             ],
             [
              0.7777777777777778,
              "#fb9f3a"
             ],
             [
              0.8888888888888888,
              "#fdca26"
             ],
             [
              1,
              "#f0f921"
             ]
            ],
            "type": "contour"
           }
          ],
          "contourcarpet": [
           {
            "colorbar": {
             "outlinewidth": 0,
             "ticks": ""
            },
            "type": "contourcarpet"
           }
          ],
          "heatmap": [
           {
            "colorbar": {
             "outlinewidth": 0,
             "ticks": ""
            },
            "colorscale": [
             [
              0,
              "#0d0887"
             ],
             [
              0.1111111111111111,
              "#46039f"
             ],
             [
              0.2222222222222222,
              "#7201a8"
             ],
             [
              0.3333333333333333,
              "#9c179e"
             ],
             [
              0.4444444444444444,
              "#bd3786"
             ],
             [
              0.5555555555555556,
              "#d8576b"
             ],
             [
              0.6666666666666666,
              "#ed7953"
             ],
             [
              0.7777777777777778,
              "#fb9f3a"
             ],
             [
              0.8888888888888888,
              "#fdca26"
             ],
             [
              1,
              "#f0f921"
             ]
            ],
            "type": "heatmap"
           }
          ],
          "heatmapgl": [
           {
            "colorbar": {
             "outlinewidth": 0,
             "ticks": ""
            },
            "colorscale": [
             [
              0,
              "#0d0887"
             ],
             [
              0.1111111111111111,
              "#46039f"
             ],
             [
              0.2222222222222222,
              "#7201a8"
             ],
             [
              0.3333333333333333,
              "#9c179e"
             ],
             [
              0.4444444444444444,
              "#bd3786"
             ],
             [
              0.5555555555555556,
              "#d8576b"
             ],
             [
              0.6666666666666666,
              "#ed7953"
             ],
             [
              0.7777777777777778,
              "#fb9f3a"
             ],
             [
              0.8888888888888888,
              "#fdca26"
             ],
             [
              1,
              "#f0f921"
             ]
            ],
            "type": "heatmapgl"
           }
          ],
          "histogram": [
           {
            "marker": {
             "pattern": {
              "fillmode": "overlay",
              "size": 10,
              "solidity": 0.2
             }
            },
            "type": "histogram"
           }
          ],
          "histogram2d": [
           {
            "colorbar": {
             "outlinewidth": 0,
             "ticks": ""
            },
            "colorscale": [
             [
              0,
              "#0d0887"
             ],
             [
              0.1111111111111111,
              "#46039f"
             ],
             [
              0.2222222222222222,
              "#7201a8"
             ],
             [
              0.3333333333333333,
              "#9c179e"
             ],
             [
              0.4444444444444444,
              "#bd3786"
             ],
             [
              0.5555555555555556,
              "#d8576b"
             ],
             [
              0.6666666666666666,
              "#ed7953"
             ],
             [
              0.7777777777777778,
              "#fb9f3a"
             ],
             [
              0.8888888888888888,
              "#fdca26"
             ],
             [
              1,
              "#f0f921"
             ]
            ],
            "type": "histogram2d"
           }
          ],
          "histogram2dcontour": [
           {
            "colorbar": {
             "outlinewidth": 0,
             "ticks": ""
            },
            "colorscale": [
             [
              0,
              "#0d0887"
             ],
             [
              0.1111111111111111,
              "#46039f"
             ],
             [
              0.2222222222222222,
              "#7201a8"
             ],
             [
              0.3333333333333333,
              "#9c179e"
             ],
             [
              0.4444444444444444,
              "#bd3786"
             ],
             [
              0.5555555555555556,
              "#d8576b"
             ],
             [
              0.6666666666666666,
              "#ed7953"
             ],
             [
              0.7777777777777778,
              "#fb9f3a"
             ],
             [
              0.8888888888888888,
              "#fdca26"
             ],
             [
              1,
              "#f0f921"
             ]
            ],
            "type": "histogram2dcontour"
           }
          ],
          "mesh3d": [
           {
            "colorbar": {
             "outlinewidth": 0,
             "ticks": ""
            },
            "type": "mesh3d"
           }
          ],
          "parcoords": [
           {
            "line": {
             "colorbar": {
              "outlinewidth": 0,
              "ticks": ""
             }
            },
            "type": "parcoords"
           }
          ],
          "pie": [
           {
            "automargin": true,
            "type": "pie"
           }
          ],
          "scatter": [
           {
            "fillpattern": {
             "fillmode": "overlay",
             "size": 10,
             "solidity": 0.2
            },
            "type": "scatter"
           }
          ],
          "scatter3d": [
           {
            "line": {
             "colorbar": {
              "outlinewidth": 0,
              "ticks": ""
             }
            },
            "marker": {
             "colorbar": {
              "outlinewidth": 0,
              "ticks": ""
             }
            },
            "type": "scatter3d"
           }
          ],
          "scattercarpet": [
           {
            "marker": {
             "colorbar": {
              "outlinewidth": 0,
              "ticks": ""
             }
            },
            "type": "scattercarpet"
           }
          ],
          "scattergeo": [
           {
            "marker": {
             "colorbar": {
              "outlinewidth": 0,
              "ticks": ""
             }
            },
            "type": "scattergeo"
           }
          ],
          "scattergl": [
           {
            "marker": {
             "colorbar": {
              "outlinewidth": 0,
              "ticks": ""
             }
            },
            "type": "scattergl"
           }
          ],
          "scattermapbox": [
           {
            "marker": {
             "colorbar": {
              "outlinewidth": 0,
              "ticks": ""
             }
            },
            "type": "scattermapbox"
           }
          ],
          "scatterpolar": [
           {
            "marker": {
             "colorbar": {
              "outlinewidth": 0,
              "ticks": ""
             }
            },
            "type": "scatterpolar"
           }
          ],
          "scatterpolargl": [
           {
            "marker": {
             "colorbar": {
              "outlinewidth": 0,
              "ticks": ""
             }
            },
            "type": "scatterpolargl"
           }
          ],
          "scatterternary": [
           {
            "marker": {
             "colorbar": {
              "outlinewidth": 0,
              "ticks": ""
             }
            },
            "type": "scatterternary"
           }
          ],
          "surface": [
           {
            "colorbar": {
             "outlinewidth": 0,
             "ticks": ""
            },
            "colorscale": [
             [
              0,
              "#0d0887"
             ],
             [
              0.1111111111111111,
              "#46039f"
             ],
             [
              0.2222222222222222,
              "#7201a8"
             ],
             [
              0.3333333333333333,
              "#9c179e"
             ],
             [
              0.4444444444444444,
              "#bd3786"
             ],
             [
              0.5555555555555556,
              "#d8576b"
             ],
             [
              0.6666666666666666,
              "#ed7953"
             ],
             [
              0.7777777777777778,
              "#fb9f3a"
             ],
             [
              0.8888888888888888,
              "#fdca26"
             ],
             [
              1,
              "#f0f921"
             ]
            ],
            "type": "surface"
           }
          ],
          "table": [
           {
            "cells": {
             "fill": {
              "color": "#EBF0F8"
             },
             "line": {
              "color": "white"
             }
            },
            "header": {
             "fill": {
              "color": "#C8D4E3"
             },
             "line": {
              "color": "white"
             }
            },
            "type": "table"
           }
          ]
         },
         "layout": {
          "annotationdefaults": {
           "arrowcolor": "#2a3f5f",
           "arrowhead": 0,
           "arrowwidth": 1
          },
          "autotypenumbers": "strict",
          "coloraxis": {
           "colorbar": {
            "outlinewidth": 0,
            "ticks": ""
           }
          },
          "colorscale": {
           "diverging": [
            [
             0,
             "#8e0152"
            ],
            [
             0.1,
             "#c51b7d"
            ],
            [
             0.2,
             "#de77ae"
            ],
            [
             0.3,
             "#f1b6da"
            ],
            [
             0.4,
             "#fde0ef"
            ],
            [
             0.5,
             "#f7f7f7"
            ],
            [
             0.6,
             "#e6f5d0"
            ],
            [
             0.7,
             "#b8e186"
            ],
            [
             0.8,
             "#7fbc41"
            ],
            [
             0.9,
             "#4d9221"
            ],
            [
             1,
             "#276419"
            ]
           ],
           "sequential": [
            [
             0,
             "#0d0887"
            ],
            [
             0.1111111111111111,
             "#46039f"
            ],
            [
             0.2222222222222222,
             "#7201a8"
            ],
            [
             0.3333333333333333,
             "#9c179e"
            ],
            [
             0.4444444444444444,
             "#bd3786"
            ],
            [
             0.5555555555555556,
             "#d8576b"
            ],
            [
             0.6666666666666666,
             "#ed7953"
            ],
            [
             0.7777777777777778,
             "#fb9f3a"
            ],
            [
             0.8888888888888888,
             "#fdca26"
            ],
            [
             1,
             "#f0f921"
            ]
           ],
           "sequentialminus": [
            [
             0,
             "#0d0887"
            ],
            [
             0.1111111111111111,
             "#46039f"
            ],
            [
             0.2222222222222222,
             "#7201a8"
            ],
            [
             0.3333333333333333,
             "#9c179e"
            ],
            [
             0.4444444444444444,
             "#bd3786"
            ],
            [
             0.5555555555555556,
             "#d8576b"
            ],
            [
             0.6666666666666666,
             "#ed7953"
            ],
            [
             0.7777777777777778,
             "#fb9f3a"
            ],
            [
             0.8888888888888888,
             "#fdca26"
            ],
            [
             1,
             "#f0f921"
            ]
           ]
          },
          "colorway": [
           "#636efa",
           "#EF553B",
           "#00cc96",
           "#ab63fa",
           "#FFA15A",
           "#19d3f3",
           "#FF6692",
           "#B6E880",
           "#FF97FF",
           "#FECB52"
          ],
          "font": {
           "color": "#2a3f5f"
          },
          "geo": {
           "bgcolor": "white",
           "lakecolor": "white",
           "landcolor": "#E5ECF6",
           "showlakes": true,
           "showland": true,
           "subunitcolor": "white"
          },
          "hoverlabel": {
           "align": "left"
          },
          "hovermode": "closest",
          "mapbox": {
           "style": "light"
          },
          "paper_bgcolor": "white",
          "plot_bgcolor": "#E5ECF6",
          "polar": {
           "angularaxis": {
            "gridcolor": "white",
            "linecolor": "white",
            "ticks": ""
           },
           "bgcolor": "#E5ECF6",
           "radialaxis": {
            "gridcolor": "white",
            "linecolor": "white",
            "ticks": ""
           }
          },
          "scene": {
           "xaxis": {
            "backgroundcolor": "#E5ECF6",
            "gridcolor": "white",
            "gridwidth": 2,
            "linecolor": "white",
            "showbackground": true,
            "ticks": "",
            "zerolinecolor": "white"
           },
           "yaxis": {
            "backgroundcolor": "#E5ECF6",
            "gridcolor": "white",
            "gridwidth": 2,
            "linecolor": "white",
            "showbackground": true,
            "ticks": "",
            "zerolinecolor": "white"
           },
           "zaxis": {
            "backgroundcolor": "#E5ECF6",
            "gridcolor": "white",
            "gridwidth": 2,
            "linecolor": "white",
            "showbackground": true,
            "ticks": "",
            "zerolinecolor": "white"
           }
          },
          "shapedefaults": {
           "line": {
            "color": "#2a3f5f"
           }
          },
          "ternary": {
           "aaxis": {
            "gridcolor": "white",
            "linecolor": "white",
            "ticks": ""
           },
           "baxis": {
            "gridcolor": "white",
            "linecolor": "white",
            "ticks": ""
           },
           "bgcolor": "#E5ECF6",
           "caxis": {
            "gridcolor": "white",
            "linecolor": "white",
            "ticks": ""
           }
          },
          "title": {
           "x": 0.05
          },
          "xaxis": {
           "automargin": true,
           "gridcolor": "white",
           "linecolor": "white",
           "ticks": "",
           "title": {
            "standoff": 15
           },
           "zerolinecolor": "white",
           "zerolinewidth": 2
          },
          "yaxis": {
           "automargin": true,
           "gridcolor": "white",
           "linecolor": "white",
           "ticks": "",
           "title": {
            "standoff": 15
           },
           "zerolinecolor": "white",
           "zerolinewidth": 2
          }
         }
        },
        "title": {
         "text": "Monthly Violation Counts Over Time (2021-2024)"
        },
        "xaxis": {
         "rangeselector": {
          "buttons": [
           {
            "count": 1,
            "label": "1m",
            "step": "month",
            "stepmode": "backward"
           },
           {
            "count": 6,
            "label": "6m",
            "step": "month",
            "stepmode": "backward"
           },
           {
            "count": 1,
            "label": "YTD",
            "step": "year",
            "stepmode": "todate"
           },
           {
            "count": 1,
            "label": "1y",
            "step": "year",
            "stepmode": "backward"
           },
           {
            "step": "all"
           }
          ]
         },
         "rangeslider": {
          "visible": true
         },
         "type": "date"
        },
        "yaxis": {
         "title": {
          "text": "Count of Violations"
         }
        }
       }
      }
     },
     "metadata": {},
     "output_type": "display_data"
    }
   ],
   "source": [
    "violation_colors = {\n",
    "    'Facility Sanitation': '#a2cffe',  # Light pastel blue\n",
    "    'Pest Control': '#cbf7d4',  # Light pastel green\n",
    "    'Temperature Control': '#faf0af',  # Light yellow\n",
    "    'Facility Maintenance': '#b8d8d8',  # Light blue\n",
    "    'Staff Hygiene': '#7a9d96',  # Soft teal\n",
    "    'Food Sourcing and Labeling': '#7ed6df',  # Soft cyan\n",
    "    'Chemical Safety': '#b8e4f0'   # Sky blue\n",
    "}\n",
    "\n",
    "import plotly.graph_objects as go\n",
    "\n",
    "# Assuming 'all_violations_df' is already prepared and has 'Inspection Date' as datetime\n",
    "all_violations_df['INSPECTION DATE'] = pd.to_datetime(all_violations_df['INSPECTION DATE'])\n",
    "\n",
    "# Filter data to include only the range from 2021 to 2024\n",
    "filtered_data = all_violations_df[(all_violations_df['INSPECTION DATE'] >= '2022-01-01') & (all_violations_df['INSPECTION DATE'] <= '2024-12-31')]\n",
    "\n",
    "# Group by 'Inspection Date' and 'Group', then count occurrences\n",
    "grouped_data = filtered_data.groupby(['INSPECTION DATE', 'Group']).size().unstack(fill_value=0)\n",
    "\n",
    "# Resample data to monthly frequency, summing the counts\n",
    "monthly_data = grouped_data.resample('W').sum()\n",
    "\n",
    "# Create the main plot\n",
    "fig = go.Figure()\n",
    "for col in monthly_data.columns:\n",
    "    fig.add_trace(go.Scatter(x=monthly_data.index, y=monthly_data[col], name=col, mode='lines', line=dict(color=violation_colors.get(col, '#000000'))))\n",
    "\n",
    "# Update layout to add the range slider and change the background color\n",
    "fig.update_layout(\n",
    "    title='Monthly Violation Counts Over Time (2021-2024)',\n",
    "    plot_bgcolor='rgba(250, 250, 250, 0.8)',  # Bright white background\n",
    "    xaxis=dict(\n",
    "        rangeselector=dict(\n",
    "            buttons=list([\n",
    "                dict(count=1, label='1m', step='month', stepmode='backward'),\n",
    "                dict(count=6, label='6m', step='month', stepmode='backward'),\n",
    "                dict(count=1, label='YTD', step='year', stepmode='todate'),\n",
    "                dict(count=1, label='1y', step='year', stepmode='backward'),\n",
    "                dict(step='all')\n",
    "            ])\n",
    "        ),\n",
    "        rangeslider=dict(\n",
    "            visible=True\n",
    "        ),\n",
    "        type='date'\n",
    "    ),\n",
    "    yaxis=dict(\n",
    "        title='Count of Violations'\n",
    "    )\n",
    ")\n",
    "\n",
    "# Show the plot\n",
    "fig.show()"
   ]
  },
  {
   "cell_type": "markdown",
   "metadata": {},
   "source": [
    "### 3.1 **Focus**: Cuisine Description\n",
    "First off we're interesting in finding out if there's any correlation between the cuisine and the critical flags or the cuisine of the violation codes - as those would be very interesting to find a pattern in. Though, we did not find this and this too was very equal when looking at the critical flag. "
   ]
  },
  {
   "cell_type": "code",
   "execution_count": 12,
   "metadata": {},
   "outputs": [
    {
     "data": {
      "image/png": "[encoded data removed]",
      "text/plain": [
       "<Figure size 640x480 with 1 Axes>"
      ]
     },
     "metadata": {},
     "output_type": "display_data"
    }
   ],
   "source": [
    "import matplotlib.pyplot as plt\n",
    "\n",
    "# Count the number of inspections for each cuisine and flag\n",
    "counts = df_filtered.groupby(['CUISINE DESCRIPTION', 'CRITICAL FLAG']).size().unstack(fill_value=0)\n",
    "\n",
    "# Calculate the total number of inspections for each cuisine\n",
    "totals = counts.sum(axis=1)\n",
    "\n",
    "# Calculate the percentage of inspections flagged as 'Critical' and 'Not Critical' for each cuisine\n",
    "percentages = counts.divide(totals, axis=0) * 100\n",
    "\n",
    "# Get the top 10 cuisines with the most inspections\n",
    "top_10_cuisines = totals.nlargest(10).index\n",
    "\n",
    "# Get the percentages for the top 10 cuisines\n",
    "top_10_percentages = percentages.loc[top_10_cuisines]\n",
    "\n",
    "# Plot a stacked bar chart of the percentages\n",
    "top_10_percentages.plot(kind='bar', stacked=True)\n",
    "plt.title('Percentage of Inspections Flagged as Critical and Not Critical for Top 10 Cuisines')\n",
    "plt.xlabel('Cuisine')\n",
    "plt.ylabel('Percentage')\n",
    "plt.legend(title='CRITICAL FLAG', bbox_to_anchor=(1.05, 1), loc='upper left')\n",
    "plt.show()"
   ]
  },
  {
   "cell_type": "markdown",
   "metadata": {},
   "source": [
    "### Maps"
   ]
  },
  {
   "cell_type": "markdown",
   "metadata": {},
   "source": [
    "### Name of Restaurant"
   ]
  },
  {
   "cell_type": "code",
   "execution_count": 13,
   "metadata": {},
   "outputs": [
    {
     "name": "stderr",
     "output_type": "stream",
     "text": [
      "Address already in use\n",
      "Port 8050 is in use by another program. Either identify and stop that program, or start the server with a different port.\n"
     ]
    },
    {
     "ename": "AttributeError",
     "evalue": "'tuple' object has no attribute 'tb_frame'",
     "output_type": "error",
     "traceback": [
      "\u001b[0;31m---------------------------------------------------------------------------\u001b[0m",
      "\u001b[0;31mOSError\u001b[0m                                   Traceback (most recent call last)",
      "File \u001b[0;32m/Applications/anaconda3/lib/python3.11/site-packages/werkzeug/serving.py:710\u001b[0m, in \u001b[0;36mBaseWSGIServer.__init__\u001b[0;34m(self, host, port, app, handler, passthrough_errors, ssl_context, fd)\u001b[0m\n\u001b[1;32m    709\u001b[0m \u001b[38;5;28;01mtry\u001b[39;00m:\n\u001b[0;32m--> 710\u001b[0m     \u001b[38;5;28mself\u001b[39m\u001b[38;5;241m.\u001b[39mserver_bind()\n\u001b[1;32m    711\u001b[0m     \u001b[38;5;28mself\u001b[39m\u001b[38;5;241m.\u001b[39mserver_activate()\n",
      "File \u001b[0;32m/Applications/anaconda3/lib/python3.11/http/server.py:136\u001b[0m, in \u001b[0;36mHTTPServer.server_bind\u001b[0;34m(self)\u001b[0m\n\u001b[1;32m    135\u001b[0m \u001b[38;5;250m\u001b[39m\u001b[38;5;124;03m\"\"\"Override server_bind to store the server name.\"\"\"\u001b[39;00m\n\u001b[0;32m--> 136\u001b[0m socketserver\u001b[38;5;241m.\u001b[39mTCPServer\u001b[38;5;241m.\u001b[39mserver_bind(\u001b[38;5;28mself\u001b[39m)\n\u001b[1;32m    137\u001b[0m host, port \u001b[38;5;241m=\u001b[39m \u001b[38;5;28mself\u001b[39m\u001b[38;5;241m.\u001b[39mserver_address[:\u001b[38;5;241m2\u001b[39m]\n",
      "File \u001b[0;32m/Applications/anaconda3/lib/python3.11/socketserver.py:472\u001b[0m, in \u001b[0;36mTCPServer.server_bind\u001b[0;34m(self)\u001b[0m\n\u001b[1;32m    471\u001b[0m     \u001b[38;5;28mself\u001b[39m\u001b[38;5;241m.\u001b[39msocket\u001b[38;5;241m.\u001b[39msetsockopt(socket\u001b[38;5;241m.\u001b[39mSOL_SOCKET, socket\u001b[38;5;241m.\u001b[39mSO_REUSEPORT, \u001b[38;5;241m1\u001b[39m)\n\u001b[0;32m--> 472\u001b[0m \u001b[38;5;28mself\u001b[39m\u001b[38;5;241m.\u001b[39msocket\u001b[38;5;241m.\u001b[39mbind(\u001b[38;5;28mself\u001b[39m\u001b[38;5;241m.\u001b[39mserver_address)\n\u001b[1;32m    473\u001b[0m \u001b[38;5;28mself\u001b[39m\u001b[38;5;241m.\u001b[39mserver_address \u001b[38;5;241m=\u001b[39m \u001b[38;5;28mself\u001b[39m\u001b[38;5;241m.\u001b[39msocket\u001b[38;5;241m.\u001b[39mgetsockname()\n",
      "\u001b[0;31mOSError\u001b[0m: [Errno 48] Address already in use",
      "\nDuring handling of the above exception, another exception occurred:\n",
      "\u001b[0;31mSystemExit\u001b[0m                                Traceback (most recent call last)",
      "    \u001b[0;31m[... skipping hidden 1 frame]\u001b[0m\n",
      "Cell \u001b[0;32mIn[13], line 55\u001b[0m\n\u001b[1;32m     54\u001b[0m \u001b[38;5;28;01mif\u001b[39;00m \u001b[38;5;18m__name__\u001b[39m \u001b[38;5;241m==\u001b[39m \u001b[38;5;124m'\u001b[39m\u001b[38;5;124m__main__\u001b[39m\u001b[38;5;124m'\u001b[39m:\n\u001b[0;32m---> 55\u001b[0m     app\u001b[38;5;241m.\u001b[39mrun_server(debug\u001b[38;5;241m=\u001b[39m\u001b[38;5;28;01mTrue\u001b[39;00m)\n",
      "File \u001b[0;32m/Applications/anaconda3/lib/python3.11/site-packages/dash/dash.py:2223\u001b[0m, in \u001b[0;36mDash.run_server\u001b[0;34m(self, *args, **kwargs)\u001b[0m\n\u001b[1;32m   2218\u001b[0m \u001b[38;5;250m\u001b[39m\u001b[38;5;124;03m\"\"\"`run_server` is a deprecated alias of `run` and may be removed in a\u001b[39;00m\n\u001b[1;32m   2219\u001b[0m \u001b[38;5;124;03mfuture version. We recommend using `app.run` instead.\u001b[39;00m\n\u001b[1;32m   2220\u001b[0m \n\u001b[1;32m   2221\u001b[0m \u001b[38;5;124;03mSee `app.run` for usage information.\u001b[39;00m\n\u001b[1;32m   2222\u001b[0m \u001b[38;5;124;03m\"\"\"\u001b[39;00m\n\u001b[0;32m-> 2223\u001b[0m \u001b[38;5;28mself\u001b[39m\u001b[38;5;241m.\u001b[39mrun(\u001b[38;5;241m*\u001b[39margs, \u001b[38;5;241m*\u001b[39m\u001b[38;5;241m*\u001b[39mkwargs)\n",
      "File \u001b[0;32m/Applications/anaconda3/lib/python3.11/site-packages/dash/dash.py:2114\u001b[0m, in \u001b[0;36mDash.run\u001b[0;34m(self, host, port, proxy, debug, jupyter_mode, jupyter_width, jupyter_height, jupyter_server_url, dev_tools_ui, dev_tools_props_check, dev_tools_serve_dev_bundles, dev_tools_hot_reload, dev_tools_hot_reload_interval, dev_tools_hot_reload_watch_interval, dev_tools_hot_reload_max_retry, dev_tools_silence_routes_logging, dev_tools_prune_errors, **flask_run_options)\u001b[0m\n\u001b[1;32m   2113\u001b[0m \u001b[38;5;28;01mif\u001b[39;00m jupyter_dash\u001b[38;5;241m.\u001b[39mactive:\n\u001b[0;32m-> 2114\u001b[0m     jupyter_dash\u001b[38;5;241m.\u001b[39mrun_app(\n\u001b[1;32m   2115\u001b[0m         \u001b[38;5;28mself\u001b[39m,\n\u001b[1;32m   2116\u001b[0m         mode\u001b[38;5;241m=\u001b[39mjupyter_mode,\n\u001b[1;32m   2117\u001b[0m         width\u001b[38;5;241m=\u001b[39mjupyter_width,\n\u001b[1;32m   2118\u001b[0m         height\u001b[38;5;241m=\u001b[39mjupyter_height,\n\u001b[1;32m   2119\u001b[0m         host\u001b[38;5;241m=\u001b[39mhost,\n\u001b[1;32m   2120\u001b[0m         port\u001b[38;5;241m=\u001b[39mport,\n\u001b[1;32m   2121\u001b[0m         server_url\u001b[38;5;241m=\u001b[39mjupyter_server_url,\n\u001b[1;32m   2122\u001b[0m     )\n\u001b[1;32m   2123\u001b[0m \u001b[38;5;28;01melse\u001b[39;00m:\n",
      "File \u001b[0;32m/Applications/anaconda3/lib/python3.11/site-packages/dash/_jupyter.py:332\u001b[0m, in \u001b[0;36mJupyterDash.run_app\u001b[0;34m(self, app, mode, width, height, host, port, server_url)\u001b[0m\n\u001b[1;32m    330\u001b[0m err_q \u001b[38;5;241m=\u001b[39m queue\u001b[38;5;241m.\u001b[39mQueue()\n\u001b[0;32m--> 332\u001b[0m server \u001b[38;5;241m=\u001b[39m make_server(host, port, app\u001b[38;5;241m.\u001b[39mserver, threaded\u001b[38;5;241m=\u001b[39m\u001b[38;5;28;01mTrue\u001b[39;00m, processes\u001b[38;5;241m=\u001b[39m\u001b[38;5;241m0\u001b[39m)\n\u001b[1;32m    333\u001b[0m logging\u001b[38;5;241m.\u001b[39mgetLogger(\u001b[38;5;124m\"\u001b[39m\u001b[38;5;124mwerkzeug\u001b[39m\u001b[38;5;124m\"\u001b[39m)\u001b[38;5;241m.\u001b[39msetLevel(logging\u001b[38;5;241m.\u001b[39mERROR)\n",
      "File \u001b[0;32m/Applications/anaconda3/lib/python3.11/site-packages/werkzeug/serving.py:877\u001b[0m, in \u001b[0;36mmake_server\u001b[0;34m(host, port, app, threaded, processes, request_handler, passthrough_errors, ssl_context, fd)\u001b[0m\n\u001b[1;32m    876\u001b[0m \u001b[38;5;28;01mif\u001b[39;00m threaded:\n\u001b[0;32m--> 877\u001b[0m     \u001b[38;5;28;01mreturn\u001b[39;00m ThreadedWSGIServer(\n\u001b[1;32m    878\u001b[0m         host, port, app, request_handler, passthrough_errors, ssl_context, fd\u001b[38;5;241m=\u001b[39mfd\n\u001b[1;32m    879\u001b[0m     )\n\u001b[1;32m    881\u001b[0m \u001b[38;5;28;01mif\u001b[39;00m processes \u001b[38;5;241m>\u001b[39m \u001b[38;5;241m1\u001b[39m:\n",
      "File \u001b[0;32m/Applications/anaconda3/lib/python3.11/site-packages/werkzeug/serving.py:733\u001b[0m, in \u001b[0;36mBaseWSGIServer.__init__\u001b[0;34m(self, host, port, app, handler, passthrough_errors, ssl_context, fd)\u001b[0m\n\u001b[1;32m    727\u001b[0m             \u001b[38;5;28mprint\u001b[39m(\n\u001b[1;32m    728\u001b[0m                 \u001b[38;5;124m\"\u001b[39m\u001b[38;5;124mOn macOS, try disabling the \u001b[39m\u001b[38;5;124m'\u001b[39m\u001b[38;5;124mAirPlay Receiver\u001b[39m\u001b[38;5;124m'\u001b[39m\u001b[38;5;124m service\u001b[39m\u001b[38;5;124m\"\u001b[39m\n\u001b[1;32m    729\u001b[0m                 \u001b[38;5;124m\"\u001b[39m\u001b[38;5;124m from System Preferences -> Sharing.\u001b[39m\u001b[38;5;124m\"\u001b[39m,\n\u001b[1;32m    730\u001b[0m                 file\u001b[38;5;241m=\u001b[39msys\u001b[38;5;241m.\u001b[39mstderr,\n\u001b[1;32m    731\u001b[0m             )\n\u001b[0;32m--> 733\u001b[0m     sys\u001b[38;5;241m.\u001b[39mexit(\u001b[38;5;241m1\u001b[39m)\n\u001b[1;32m    734\u001b[0m \u001b[38;5;28;01mexcept\u001b[39;00m \u001b[38;5;167;01mBaseException\u001b[39;00m:\n",
      "\u001b[0;31mSystemExit\u001b[0m: 1",
      "\nDuring handling of the above exception, another exception occurred:\n",
      "\u001b[0;31mAttributeError\u001b[0m                            Traceback (most recent call last)",
      "    \u001b[0;31m[... skipping hidden 1 frame]\u001b[0m\n",
      "File \u001b[0;32m/Applications/anaconda3/lib/python3.11/site-packages/IPython/core/interactiveshell.py:2097\u001b[0m, in \u001b[0;36mInteractiveShell.showtraceback\u001b[0;34m(self, exc_tuple, filename, tb_offset, exception_only, running_compiled_code)\u001b[0m\n\u001b[1;32m   2094\u001b[0m \u001b[38;5;28;01mif\u001b[39;00m exception_only:\n\u001b[1;32m   2095\u001b[0m     stb \u001b[38;5;241m=\u001b[39m [\u001b[38;5;124m'\u001b[39m\u001b[38;5;124mAn exception has occurred, use \u001b[39m\u001b[38;5;124m%\u001b[39m\u001b[38;5;124mtb to see \u001b[39m\u001b[38;5;124m'\u001b[39m\n\u001b[1;32m   2096\u001b[0m            \u001b[38;5;124m'\u001b[39m\u001b[38;5;124mthe full traceback.\u001b[39m\u001b[38;5;130;01m\\n\u001b[39;00m\u001b[38;5;124m'\u001b[39m]\n\u001b[0;32m-> 2097\u001b[0m     stb\u001b[38;5;241m.\u001b[39mextend(\u001b[38;5;28mself\u001b[39m\u001b[38;5;241m.\u001b[39mInteractiveTB\u001b[38;5;241m.\u001b[39mget_exception_only(etype,\n\u001b[1;32m   2098\u001b[0m                                                      value))\n\u001b[1;32m   2099\u001b[0m \u001b[38;5;28;01melse\u001b[39;00m:\n\u001b[1;32m   2101\u001b[0m     \u001b[38;5;28;01mdef\u001b[39;00m \u001b[38;5;21mcontains_exceptiongroup\u001b[39m(val):\n",
      "File \u001b[0;32m/Applications/anaconda3/lib/python3.11/site-packages/IPython/core/ultratb.py:710\u001b[0m, in \u001b[0;36mListTB.get_exception_only\u001b[0;34m(self, etype, value)\u001b[0m\n\u001b[1;32m    702\u001b[0m \u001b[38;5;28;01mdef\u001b[39;00m \u001b[38;5;21mget_exception_only\u001b[39m(\u001b[38;5;28mself\u001b[39m, etype, value):\n\u001b[1;32m    703\u001b[0m \u001b[38;5;250m    \u001b[39m\u001b[38;5;124;03m\"\"\"Only print the exception type and message, without a traceback.\u001b[39;00m\n\u001b[1;32m    704\u001b[0m \n\u001b[1;32m    705\u001b[0m \u001b[38;5;124;03m    Parameters\u001b[39;00m\n\u001b[0;32m   (...)\u001b[0m\n\u001b[1;32m    708\u001b[0m \u001b[38;5;124;03m    value : exception value\u001b[39;00m\n\u001b[1;32m    709\u001b[0m \u001b[38;5;124;03m    \"\"\"\u001b[39;00m\n\u001b[0;32m--> 710\u001b[0m     \u001b[38;5;28;01mreturn\u001b[39;00m ListTB\u001b[38;5;241m.\u001b[39mstructured_traceback(\u001b[38;5;28mself\u001b[39m, etype, value)\n",
      "File \u001b[0;32m/Applications/anaconda3/lib/python3.11/site-packages/IPython/core/ultratb.py:568\u001b[0m, in \u001b[0;36mListTB.structured_traceback\u001b[0;34m(self, etype, evalue, etb, tb_offset, context)\u001b[0m\n\u001b[1;32m    565\u001b[0m     chained_exc_ids\u001b[38;5;241m.\u001b[39madd(\u001b[38;5;28mid\u001b[39m(exception[\u001b[38;5;241m1\u001b[39m]))\n\u001b[1;32m    566\u001b[0m     chained_exceptions_tb_offset \u001b[38;5;241m=\u001b[39m \u001b[38;5;241m0\u001b[39m\n\u001b[1;32m    567\u001b[0m     out_list \u001b[38;5;241m=\u001b[39m (\n\u001b[0;32m--> 568\u001b[0m         \u001b[38;5;28mself\u001b[39m\u001b[38;5;241m.\u001b[39mstructured_traceback(\n\u001b[1;32m    569\u001b[0m             etype,\n\u001b[1;32m    570\u001b[0m             evalue,\n\u001b[1;32m    571\u001b[0m             (etb, chained_exc_ids),  \u001b[38;5;66;03m# type: ignore\u001b[39;00m\n\u001b[1;32m    572\u001b[0m             chained_exceptions_tb_offset,\n\u001b[1;32m    573\u001b[0m             context,\n\u001b[1;32m    574\u001b[0m         )\n\u001b[1;32m    575\u001b[0m         \u001b[38;5;241m+\u001b[39m chained_exception_message\n\u001b[1;32m    576\u001b[0m         \u001b[38;5;241m+\u001b[39m out_list)\n\u001b[1;32m    578\u001b[0m \u001b[38;5;28;01mreturn\u001b[39;00m out_list\n",
      "File \u001b[0;32m/Applications/anaconda3/lib/python3.11/site-packages/IPython/core/ultratb.py:1435\u001b[0m, in \u001b[0;36mAutoFormattedTB.structured_traceback\u001b[0;34m(self, etype, evalue, etb, tb_offset, number_of_lines_of_context)\u001b[0m\n\u001b[1;32m   1433\u001b[0m \u001b[38;5;28;01melse\u001b[39;00m:\n\u001b[1;32m   1434\u001b[0m     \u001b[38;5;28mself\u001b[39m\u001b[38;5;241m.\u001b[39mtb \u001b[38;5;241m=\u001b[39m etb\n\u001b[0;32m-> 1435\u001b[0m \u001b[38;5;28;01mreturn\u001b[39;00m FormattedTB\u001b[38;5;241m.\u001b[39mstructured_traceback(\n\u001b[1;32m   1436\u001b[0m     \u001b[38;5;28mself\u001b[39m, etype, evalue, etb, tb_offset, number_of_lines_of_context\n\u001b[1;32m   1437\u001b[0m )\n",
      "File \u001b[0;32m/Applications/anaconda3/lib/python3.11/site-packages/IPython/core/ultratb.py:1326\u001b[0m, in \u001b[0;36mFormattedTB.structured_traceback\u001b[0;34m(self, etype, value, tb, tb_offset, number_of_lines_of_context)\u001b[0m\n\u001b[1;32m   1323\u001b[0m mode \u001b[38;5;241m=\u001b[39m \u001b[38;5;28mself\u001b[39m\u001b[38;5;241m.\u001b[39mmode\n\u001b[1;32m   1324\u001b[0m \u001b[38;5;28;01mif\u001b[39;00m mode \u001b[38;5;129;01min\u001b[39;00m \u001b[38;5;28mself\u001b[39m\u001b[38;5;241m.\u001b[39mverbose_modes:\n\u001b[1;32m   1325\u001b[0m     \u001b[38;5;66;03m# Verbose modes need a full traceback\u001b[39;00m\n\u001b[0;32m-> 1326\u001b[0m     \u001b[38;5;28;01mreturn\u001b[39;00m VerboseTB\u001b[38;5;241m.\u001b[39mstructured_traceback(\n\u001b[1;32m   1327\u001b[0m         \u001b[38;5;28mself\u001b[39m, etype, value, tb, tb_offset, number_of_lines_of_context\n\u001b[1;32m   1328\u001b[0m     )\n\u001b[1;32m   1329\u001b[0m \u001b[38;5;28;01melif\u001b[39;00m mode \u001b[38;5;241m==\u001b[39m \u001b[38;5;124m'\u001b[39m\u001b[38;5;124mMinimal\u001b[39m\u001b[38;5;124m'\u001b[39m:\n\u001b[1;32m   1330\u001b[0m     \u001b[38;5;28;01mreturn\u001b[39;00m ListTB\u001b[38;5;241m.\u001b[39mget_exception_only(\u001b[38;5;28mself\u001b[39m, etype, value)\n",
      "File \u001b[0;32m/Applications/anaconda3/lib/python3.11/site-packages/IPython/core/ultratb.py:1173\u001b[0m, in \u001b[0;36mVerboseTB.structured_traceback\u001b[0;34m(self, etype, evalue, etb, tb_offset, number_of_lines_of_context)\u001b[0m\n\u001b[1;32m   1164\u001b[0m \u001b[38;5;28;01mdef\u001b[39;00m \u001b[38;5;21mstructured_traceback\u001b[39m(\n\u001b[1;32m   1165\u001b[0m     \u001b[38;5;28mself\u001b[39m,\n\u001b[1;32m   1166\u001b[0m     etype: \u001b[38;5;28mtype\u001b[39m,\n\u001b[0;32m   (...)\u001b[0m\n\u001b[1;32m   1170\u001b[0m     number_of_lines_of_context: \u001b[38;5;28mint\u001b[39m \u001b[38;5;241m=\u001b[39m \u001b[38;5;241m5\u001b[39m,\n\u001b[1;32m   1171\u001b[0m ):\n\u001b[1;32m   1172\u001b[0m \u001b[38;5;250m    \u001b[39m\u001b[38;5;124;03m\"\"\"Return a nice text document describing the traceback.\"\"\"\u001b[39;00m\n\u001b[0;32m-> 1173\u001b[0m     formatted_exception \u001b[38;5;241m=\u001b[39m \u001b[38;5;28mself\u001b[39m\u001b[38;5;241m.\u001b[39mformat_exception_as_a_whole(etype, evalue, etb, number_of_lines_of_context,\n\u001b[1;32m   1174\u001b[0m                                                            tb_offset)\n\u001b[1;32m   1176\u001b[0m     colors \u001b[38;5;241m=\u001b[39m \u001b[38;5;28mself\u001b[39m\u001b[38;5;241m.\u001b[39mColors  \u001b[38;5;66;03m# just a shorthand + quicker name lookup\u001b[39;00m\n\u001b[1;32m   1177\u001b[0m     colorsnormal \u001b[38;5;241m=\u001b[39m colors\u001b[38;5;241m.\u001b[39mNormal  \u001b[38;5;66;03m# used a lot\u001b[39;00m\n",
      "File \u001b[0;32m/Applications/anaconda3/lib/python3.11/site-packages/IPython/core/ultratb.py:1063\u001b[0m, in \u001b[0;36mVerboseTB.format_exception_as_a_whole\u001b[0;34m(self, etype, evalue, etb, number_of_lines_of_context, tb_offset)\u001b[0m\n\u001b[1;32m   1060\u001b[0m \u001b[38;5;28;01massert\u001b[39;00m \u001b[38;5;28misinstance\u001b[39m(tb_offset, \u001b[38;5;28mint\u001b[39m)\n\u001b[1;32m   1061\u001b[0m head \u001b[38;5;241m=\u001b[39m \u001b[38;5;28mself\u001b[39m\u001b[38;5;241m.\u001b[39mprepare_header(\u001b[38;5;28mstr\u001b[39m(etype), \u001b[38;5;28mself\u001b[39m\u001b[38;5;241m.\u001b[39mlong_header)\n\u001b[1;32m   1062\u001b[0m records \u001b[38;5;241m=\u001b[39m (\n\u001b[0;32m-> 1063\u001b[0m     \u001b[38;5;28mself\u001b[39m\u001b[38;5;241m.\u001b[39mget_records(etb, number_of_lines_of_context, tb_offset) \u001b[38;5;28;01mif\u001b[39;00m etb \u001b[38;5;28;01melse\u001b[39;00m []\n\u001b[1;32m   1064\u001b[0m )\n\u001b[1;32m   1066\u001b[0m frames \u001b[38;5;241m=\u001b[39m []\n\u001b[1;32m   1067\u001b[0m skipped \u001b[38;5;241m=\u001b[39m \u001b[38;5;241m0\u001b[39m\n",
      "File \u001b[0;32m/Applications/anaconda3/lib/python3.11/site-packages/IPython/core/ultratb.py:1131\u001b[0m, in \u001b[0;36mVerboseTB.get_records\u001b[0;34m(self, etb, number_of_lines_of_context, tb_offset)\u001b[0m\n\u001b[1;32m   1129\u001b[0m \u001b[38;5;28;01mwhile\u001b[39;00m cf \u001b[38;5;129;01mis\u001b[39;00m \u001b[38;5;129;01mnot\u001b[39;00m \u001b[38;5;28;01mNone\u001b[39;00m:\n\u001b[1;32m   1130\u001b[0m     \u001b[38;5;28;01mtry\u001b[39;00m:\n\u001b[0;32m-> 1131\u001b[0m         mod \u001b[38;5;241m=\u001b[39m inspect\u001b[38;5;241m.\u001b[39mgetmodule(cf\u001b[38;5;241m.\u001b[39mtb_frame)\n\u001b[1;32m   1132\u001b[0m         \u001b[38;5;28;01mif\u001b[39;00m mod \u001b[38;5;129;01mis\u001b[39;00m \u001b[38;5;129;01mnot\u001b[39;00m \u001b[38;5;28;01mNone\u001b[39;00m:\n\u001b[1;32m   1133\u001b[0m             mod_name \u001b[38;5;241m=\u001b[39m mod\u001b[38;5;241m.\u001b[39m\u001b[38;5;18m__name__\u001b[39m\n",
      "\u001b[0;31mAttributeError\u001b[0m: 'tuple' object has no attribute 'tb_frame'"
     ]
    }
   ],
   "source": [
    "import dash\n",
    "from dash import html, dcc, Input, Output\n",
    "import plotly.express as px\n",
    "import pandas as pd\n",
    "\n",
    "app = dash.Dash(__name__)\n",
    "\n",
    "\n",
    "app.layout = html.Div([\n",
    "    html.H1(\"Proportional DBA Histogram for Critical Flags\"),\n",
    "    dcc.Dropdown(\n",
    "        id='food-category-dropdown',\n",
    "        options=[{'label': k, 'value': k} for k in food_categories.keys()],\n",
    "        value=list(food_categories.keys())[0],  # default to first category\n",
    "        clearable=False\n",
    "    ),\n",
    "    dcc.Graph(id='dba-proportional-histogram')\n",
    "])\n",
    "\n",
    "@app.callback(\n",
    "    Output('dba-proportional-histogram', 'figure'),\n",
    "    [Input('food-category-dropdown', 'value')]\n",
    ")\n",
    "def update_histogram(selected_category):\n",
    "    # Filter based on selected food category\n",
    "    relevant_cuisines = food_categories[selected_category]\n",
    "    category_df = df_filtered[df_filtered['CUISINE DESCRIPTION'].isin(relevant_cuisines)]\n",
    "    \n",
    "    # Compute total and critical counts per DBA\n",
    "    total_counts = category_df['DBA'].value_counts()\n",
    "    critical_counts = category_df[category_df['CRITICAL FLAG'] == 'Critical']['DBA'].value_counts()\n",
    "    \n",
    "    # Filter DBAs that have a count higher than 10\n",
    "    total_counts = total_counts[total_counts > 10]\n",
    "    critical_counts = critical_counts[critical_counts.index.isin(total_counts.index)]\n",
    "    \n",
    "    # Calculate the proportion of critical inspections\n",
    "    proportion_critical = (critical_counts / total_counts).fillna(0)  # fill NA for DBAs with no critical flags\n",
    "    \n",
    "    # Get the top 15 DBAs based on the highest proportion of critical flags\n",
    "    top_dba_proportions = proportion_critical.nlargest(15)\n",
    "    \n",
    "    # Create a bar chart using Plotly\n",
    "    fig = px.bar(top_dba_proportions, \n",
    "                 x=top_dba_proportions.index, \n",
    "                 y=top_dba_proportions.values, \n",
    "                 title=f'Top 15 DBAs by Proportion of Critical Flags in {selected_category}',\n",
    "                 labels={'index': 'DBA', 'y': 'Proportion of Critical Inspections'},\n",
    "                 color=top_dba_proportions.values,\n",
    "                 color_continuous_scale=px.colors.sequential.Viridis)\n",
    "    \n",
    "    return fig\n",
    "\n",
    "if __name__ == '__main__':\n",
    "    app.run_server(debug=True)\n"
   ]
  },
  {
   "cell_type": "markdown",
   "metadata": {},
   "source": [
    "## **4.0 Genre**\n",
    "We have chosen to use the Magazine Style Genre, since we believe this genre has the best combination of text and visualization for us to correctly communicate with the readers when making statements in the text and supporting them with the visualizations. \n",
    "\n",
    "The tools used to create our Data Story were:\n",
    "* *Categories of Visual Narrative*:\n",
    "    * *Visual Structuring*: We focused on using a consistent color scheme and using the same fonts in order to create a Consistent Visual Platform. \n",
    "    \n",
    "    * *Highlighting*: We used Close-Ups/Zoomings since some of the plots have the feature to zoom into maps or limit a time period in order to get a close-up on it. Furthermore, Feature Distinction is used multiple times when the plots focus on separated cuisines and violation codes, comparing them to each other and themselves.\n",
    "\n",
    "    * *Transition Guidance*: The transition between plots is simply the text between them. \n",
    "\n",
    "* *Categories of Narrative Structure*: \n",
    "    * *Ordering*: The narrative ordering is Linear, as the intention is for the reader to read the story chronologically from the beginning to the end\n",
    "\n",
    "    * *Interactivity*: One of the most used is Filtering/Selection/Search, given the fact that we want the reader to explore based on their desire for their dinner. Some plots allow the reader to filter between cuisines, and some allow the reader to select a given time period to focus on. Furthermore, all plots include Hover Highlighting since all plots are interactive with pop-up tooltip descriptions that provide further information about the visualization.\n",
    "    \n",
    "    * *Messaging*: The data story begins with a caption and an introductory text that is supposed to catch the attention of the reader. Furthermore, at the end of our data story, we come with a few concluding and summarizing lines. Lastly, all plots have figure descriptions and headlines."
   ]
  },
  {
   "cell_type": "markdown",
   "metadata": {},
   "source": [
    "## **5.0 Visualizations**\n",
    "The description for each plot is below it."
   ]
  },
  {
   "cell_type": "code",
   "execution_count": null,
   "metadata": {},
   "outputs": [
    {
     "data": {
      "application/vnd.plotly.v1+json": {
       "config": {
        "plotlyServerURL": "https://plot.ly"
       },
       "data": [
        {
         "line": {
          "color": "#a8d4e0"
         },
         "mode": "lines",
         "name": "Chemical Safety",
         "type": "scatter",
         "x": [
          "2022-01-31T00:00:00",
          "2022-02-28T00:00:00",
          "2022-03-31T00:00:00",
          "2022-04-30T00:00:00",
          "2022-05-31T00:00:00",
          "2022-06-30T00:00:00",
          "2022-07-31T00:00:00",
          "2022-08-31T00:00:00",
          "2022-09-30T00:00:00",
          "2022-10-31T00:00:00",
          "2022-11-30T00:00:00",
          "2022-12-31T00:00:00",
          "2023-01-31T00:00:00",
          "2023-02-28T00:00:00",
          "2023-03-31T00:00:00",
          "2023-04-30T00:00:00",
          "2023-05-31T00:00:00",
          "2023-06-30T00:00:00",
          "2023-07-31T00:00:00",
          "2023-08-31T00:00:00",
          "2023-09-30T00:00:00",
          "2023-10-31T00:00:00",
          "2023-11-30T00:00:00",
          "2023-12-31T00:00:00",
          "2024-01-31T00:00:00",
          "2024-02-29T00:00:00",
          "2024-03-31T00:00:00",
          "2024-04-30T00:00:00"
         ],
         "y": [
          0,
          0,
          0,
          0,
          0,
          0,
          0,
          1,
          2,
          0,
          7,
          3,
          5,
          7,
          6,
          1,
          6,
          3,
          2,
          1,
          0,
          4,
          2,
          5,
          3,
          5,
          16,
          2
         ]
        },
        {
         "line": {
          "color": "#a8c8c8"
         },
         "mode": "lines",
         "name": "Facility Maintenance",
         "type": "scatter",
         "x": [
          "2022-01-31T00:00:00",
          "2022-02-28T00:00:00",
          "2022-03-31T00:00:00",
          "2022-04-30T00:00:00",
          "2022-05-31T00:00:00",
          "2022-06-30T00:00:00",
          "2022-07-31T00:00:00",
          "2022-08-31T00:00:00",
          "2022-09-30T00:00:00",
          "2022-10-31T00:00:00",
          "2022-11-30T00:00:00",
          "2022-12-31T00:00:00",
          "2023-01-31T00:00:00",
          "2023-02-28T00:00:00",
          "2023-03-31T00:00:00",
          "2023-04-30T00:00:00",
          "2023-05-31T00:00:00",
          "2023-06-30T00:00:00",
          "2023-07-31T00:00:00",
          "2023-08-31T00:00:00",
          "2023-09-30T00:00:00",
          "2023-10-31T00:00:00",
          "2023-11-30T00:00:00",
          "2023-12-31T00:00:00",
          "2024-01-31T00:00:00",
          "2024-02-29T00:00:00",
          "2024-03-31T00:00:00",
          "2024-04-30T00:00:00"
         ],
         "y": [
          16,
          28,
          27,
          34,
          43,
          43,
          50,
          128,
          94,
          134,
          189,
          214,
          354,
          325,
          409,
          387,
          417,
          354,
          188,
          305,
          251,
          336,
          225,
          290,
          342,
          375,
          572,
          211
         ]
        },
        {
         "line": {
          "color": "#91b8e4"
         },
         "mode": "lines",
         "name": "Facility Sanitation",
         "type": "scatter",
         "x": [
          "2022-01-31T00:00:00",
          "2022-02-28T00:00:00",
          "2022-03-31T00:00:00",
          "2022-04-30T00:00:00",
          "2022-05-31T00:00:00",
          "2022-06-30T00:00:00",
          "2022-07-31T00:00:00",
          "2022-08-31T00:00:00",
          "2022-09-30T00:00:00",
          "2022-10-31T00:00:00",
          "2022-11-30T00:00:00",
          "2022-12-31T00:00:00",
          "2023-01-31T00:00:00",
          "2023-02-28T00:00:00",
          "2023-03-31T00:00:00",
          "2023-04-30T00:00:00",
          "2023-05-31T00:00:00",
          "2023-06-30T00:00:00",
          "2023-07-31T00:00:00",
          "2023-08-31T00:00:00",
          "2023-09-30T00:00:00",
          "2023-10-31T00:00:00",
          "2023-11-30T00:00:00",
          "2023-12-31T00:00:00",
          "2024-01-31T00:00:00",
          "2024-02-29T00:00:00",
          "2024-03-31T00:00:00",
          "2024-04-30T00:00:00"
         ],
         "y": [
          54,
          79,
          140,
          142,
          147,
          127,
          220,
          386,
          401,
          566,
          802,
          876,
          1319,
          1198,
          1596,
          1543,
          1648,
          1193,
          515,
          854,
          761,
          1065,
          908,
          974,
          1037,
          1107,
          1884,
          635
         ]
        },
        {
         "line": {
          "color": "#6dc6bf"
         },
         "mode": "lines",
         "name": "Food Sourcing and Labeling",
         "type": "scatter",
         "x": [
          "2022-01-31T00:00:00",
          "2022-02-28T00:00:00",
          "2022-03-31T00:00:00",
          "2022-04-30T00:00:00",
          "2022-05-31T00:00:00",
          "2022-06-30T00:00:00",
          "2022-07-31T00:00:00",
          "2022-08-31T00:00:00",
          "2022-09-30T00:00:00",
          "2022-10-31T00:00:00",
          "2022-11-30T00:00:00",
          "2022-12-31T00:00:00",
          "2023-01-31T00:00:00",
          "2023-02-28T00:00:00",
          "2023-03-31T00:00:00",
          "2023-04-30T00:00:00",
          "2023-05-31T00:00:00",
          "2023-06-30T00:00:00",
          "2023-07-31T00:00:00",
          "2023-08-31T00:00:00",
          "2023-09-30T00:00:00",
          "2023-10-31T00:00:00",
          "2023-11-30T00:00:00",
          "2023-12-31T00:00:00",
          "2024-01-31T00:00:00",
          "2024-02-29T00:00:00",
          "2024-03-31T00:00:00",
          "2024-04-30T00:00:00"
         ],
         "y": [
          2,
          4,
          1,
          1,
          2,
          1,
          7,
          7,
          9,
          7,
          24,
          20,
          35,
          29,
          39,
          38,
          32,
          24,
          18,
          27,
          24,
          43,
          37,
          33,
          43,
          47,
          70,
          16
         ]
        },
        {
         "line": {
          "color": "#97c8a2"
         },
         "mode": "lines",
         "name": "Pest Control",
         "type": "scatter",
         "x": [
          "2022-01-31T00:00:00",
          "2022-02-28T00:00:00",
          "2022-03-31T00:00:00",
          "2022-04-30T00:00:00",
          "2022-05-31T00:00:00",
          "2022-06-30T00:00:00",
          "2022-07-31T00:00:00",
          "2022-08-31T00:00:00",
          "2022-09-30T00:00:00",
          "2022-10-31T00:00:00",
          "2022-11-30T00:00:00",
          "2022-12-31T00:00:00",
          "2023-01-31T00:00:00",
          "2023-02-28T00:00:00",
          "2023-03-31T00:00:00",
          "2023-04-30T00:00:00",
          "2023-05-31T00:00:00",
          "2023-06-30T00:00:00",
          "2023-07-31T00:00:00",
          "2023-08-31T00:00:00",
          "2023-09-30T00:00:00",
          "2023-10-31T00:00:00",
          "2023-11-30T00:00:00",
          "2023-12-31T00:00:00",
          "2024-01-31T00:00:00",
          "2024-02-29T00:00:00",
          "2024-03-31T00:00:00",
          "2024-04-30T00:00:00"
         ],
         "y": [
          79,
          53,
          93,
          62,
          92,
          86,
          178,
          321,
          450,
          349,
          800,
          720,
          1126,
          964,
          937,
          771,
          694,
          506,
          338,
          577,
          541,
          818,
          624,
          535,
          474,
          595,
          1051,
          229
         ]
        },
        {
         "line": {
          "color": "#6a8d86"
         },
         "mode": "lines",
         "name": "Staff Hygiene",
         "type": "scatter",
         "x": [
          "2022-01-31T00:00:00",
          "2022-02-28T00:00:00",
          "2022-03-31T00:00:00",
          "2022-04-30T00:00:00",
          "2022-05-31T00:00:00",
          "2022-06-30T00:00:00",
          "2022-07-31T00:00:00",
          "2022-08-31T00:00:00",
          "2022-09-30T00:00:00",
          "2022-10-31T00:00:00",
          "2022-11-30T00:00:00",
          "2022-12-31T00:00:00",
          "2023-01-31T00:00:00",
          "2023-02-28T00:00:00",
          "2023-03-31T00:00:00",
          "2023-04-30T00:00:00",
          "2023-05-31T00:00:00",
          "2023-06-30T00:00:00",
          "2023-07-31T00:00:00",
          "2023-08-31T00:00:00",
          "2023-09-30T00:00:00",
          "2023-10-31T00:00:00",
          "2023-11-30T00:00:00",
          "2023-12-31T00:00:00",
          "2024-01-31T00:00:00",
          "2024-02-29T00:00:00",
          "2024-03-31T00:00:00",
          "2024-04-30T00:00:00"
         ],
         "y": [
          22,
          23,
          17,
          27,
          37,
          37,
          51,
          95,
          112,
          143,
          214,
          212,
          344,
          322,
          351,
          336,
          353,
          239,
          146,
          237,
          202,
          239,
          204,
          224,
          230,
          299,
          498,
          144
         ]
        },
        {
         "line": {
          "color": "#e4d77d"
         },
         "mode": "lines",
         "name": "Temperature Control",
         "type": "scatter",
         "x": [
          "2022-01-31T00:00:00",
          "2022-02-28T00:00:00",
          "2022-03-31T00:00:00",
          "2022-04-30T00:00:00",
          "2022-05-31T00:00:00",
          "2022-06-30T00:00:00",
          "2022-07-31T00:00:00",
          "2022-08-31T00:00:00",
          "2022-09-30T00:00:00",
          "2022-10-31T00:00:00",
          "2022-11-30T00:00:00",
          "2022-12-31T00:00:00",
          "2023-01-31T00:00:00",
          "2023-02-28T00:00:00",
          "2023-03-31T00:00:00",
          "2023-04-30T00:00:00",
          "2023-05-31T00:00:00",
          "2023-06-30T00:00:00",
          "2023-07-31T00:00:00",
          "2023-08-31T00:00:00",
          "2023-09-30T00:00:00",
          "2023-10-31T00:00:00",
          "2023-11-30T00:00:00",
          "2023-12-31T00:00:00",
          "2024-01-31T00:00:00",
          "2024-02-29T00:00:00",
          "2024-03-31T00:00:00",
          "2024-04-30T00:00:00"
         ],
         "y": [
          26,
          29,
          46,
          43,
          38,
          46,
          79,
          123,
          172,
          160,
          275,
          324,
          493,
          463,
          462,
          470,
          415,
          332,
          172,
          276,
          277,
          325,
          255,
          277,
          260,
          315,
          703,
          227
         ]
        }
       ],
       "layout": {
        "annotations": [
         {
          "align": "center",
          "font": {
           "color": "black",
           "size": 12
          },
          "showarrow": false,
          "text": "Select Range",
          "x": 0.5,
          "xref": "paper",
          "y": -0.15,
          "yref": "paper"
         }
        ],
        "plot_bgcolor": "rgba(240, 240, 240, 0.8)",
        "template": {
         "data": {
          "bar": [
           {
            "error_x": {
             "color": "#2a3f5f"
            },
            "error_y": {
             "color": "#2a3f5f"
            },
            "marker": {
             "line": {
              "color": "#E5ECF6",
              "width": 0.5
             },
             "pattern": {
              "fillmode": "overlay",
              "size": 10,
              "solidity": 0.2
             }
            },
            "type": "bar"
           }
          ],
          "barpolar": [
           {
            "marker": {
             "line": {
              "color": "#E5ECF6",
              "width": 0.5
             },
             "pattern": {
              "fillmode": "overlay",
              "size": 10,
              "solidity": 0.2
             }
            },
            "type": "barpolar"
           }
          ],
          "carpet": [
           {
            "aaxis": {
             "endlinecolor": "#2a3f5f",
             "gridcolor": "white",
             "linecolor": "white",
             "minorgridcolor": "white",
             "startlinecolor": "#2a3f5f"
            },
            "baxis": {
             "endlinecolor": "#2a3f5f",
             "gridcolor": "white",
             "linecolor": "white",
             "minorgridcolor": "white",
             "startlinecolor": "#2a3f5f"
            },
            "type": "carpet"
           }
          ],
          "choropleth": [
           {
            "colorbar": {
             "outlinewidth": 0,
             "ticks": ""
            },
            "type": "choropleth"
           }
          ],
          "contour": [
           {
            "colorbar": {
             "outlinewidth": 0,
             "ticks": ""
            },
            "colorscale": [
             [
              0,
              "#0d0887"
             ],
             [
              0.1111111111111111,
              "#46039f"
             ],
             [
              0.2222222222222222,
              "#7201a8"
             ],
             [
              0.3333333333333333,
              "#9c179e"
             ],
             [
              0.4444444444444444,
              "#bd3786"
             ],
             [
              0.5555555555555556,
              "#d8576b"
             ],
             [
              0.6666666666666666,
              "#ed7953"
             ],
             [
              0.7777777777777778,
              "#fb9f3a"
             ],
             [
              0.8888888888888888,
              "#fdca26"
             ],
             [
              1,
              "#f0f921"
             ]
            ],
            "type": "contour"
           }
          ],
          "contourcarpet": [
           {
            "colorbar": {
             "outlinewidth": 0,
             "ticks": ""
            },
            "type": "contourcarpet"
           }
          ],
          "heatmap": [
           {
            "colorbar": {
             "outlinewidth": 0,
             "ticks": ""
            },
            "colorscale": [
             [
              0,
              "#0d0887"
             ],
             [
              0.1111111111111111,
              "#46039f"
             ],
             [
              0.2222222222222222,
              "#7201a8"
             ],
             [
              0.3333333333333333,
              "#9c179e"
             ],
             [
              0.4444444444444444,
              "#bd3786"
             ],
             [
              0.5555555555555556,
              "#d8576b"
             ],
             [
              0.6666666666666666,
              "#ed7953"
             ],
             [
              0.7777777777777778,
              "#fb9f3a"
             ],
             [
              0.8888888888888888,
              "#fdca26"
             ],
             [
              1,
              "#f0f921"
             ]
            ],
            "type": "heatmap"
           }
          ],
          "heatmapgl": [
           {
            "colorbar": {
             "outlinewidth": 0,
             "ticks": ""
            },
            "colorscale": [
             [
              0,
              "#0d0887"
             ],
             [
              0.1111111111111111,
              "#46039f"
             ],
             [
              0.2222222222222222,
              "#7201a8"
             ],
             [
              0.3333333333333333,
              "#9c179e"
             ],
             [
              0.4444444444444444,
              "#bd3786"
             ],
             [
              0.5555555555555556,
              "#d8576b"
             ],
             [
              0.6666666666666666,
              "#ed7953"
             ],
             [
              0.7777777777777778,
              "#fb9f3a"
             ],
             [
              0.8888888888888888,
              "#fdca26"
             ],
             [
              1,
              "#f0f921"
             ]
            ],
            "type": "heatmapgl"
           }
          ],
          "histogram": [
           {
            "marker": {
             "pattern": {
              "fillmode": "overlay",
              "size": 10,
              "solidity": 0.2
             }
            },
            "type": "histogram"
           }
          ],
          "histogram2d": [
           {
            "colorbar": {
             "outlinewidth": 0,
             "ticks": ""
            },
            "colorscale": [
             [
              0,
              "#0d0887"
             ],
             [
              0.1111111111111111,
              "#46039f"
             ],
             [
              0.2222222222222222,
              "#7201a8"
             ],
             [
              0.3333333333333333,
              "#9c179e"
             ],
             [
              0.4444444444444444,
              "#bd3786"
             ],
             [
              0.5555555555555556,
              "#d8576b"
             ],
             [
              0.6666666666666666,
              "#ed7953"
             ],
             [
              0.7777777777777778,
              "#fb9f3a"
             ],
             [
              0.8888888888888888,
              "#fdca26"
             ],
             [
              1,
              "#f0f921"
             ]
            ],
            "type": "histogram2d"
           }
          ],
          "histogram2dcontour": [
           {
            "colorbar": {
             "outlinewidth": 0,
             "ticks": ""
            },
            "colorscale": [
             [
              0,
              "#0d0887"
             ],
             [
              0.1111111111111111,
              "#46039f"
             ],
             [
              0.2222222222222222,
              "#7201a8"
             ],
             [
              0.3333333333333333,
              "#9c179e"
             ],
             [
              0.4444444444444444,
              "#bd3786"
             ],
             [
              0.5555555555555556,
              "#d8576b"
             ],
             [
              0.6666666666666666,
              "#ed7953"
             ],
             [
              0.7777777777777778,
              "#fb9f3a"
             ],
             [
              0.8888888888888888,
              "#fdca26"
             ],
             [
              1,
              "#f0f921"
             ]
            ],
            "type": "histogram2dcontour"
           }
          ],
          "mesh3d": [
           {
            "colorbar": {
             "outlinewidth": 0,
             "ticks": ""
            },
            "type": "mesh3d"
           }
          ],
          "parcoords": [
           {
            "line": {
             "colorbar": {
              "outlinewidth": 0,
              "ticks": ""
             }
            },
            "type": "parcoords"
           }
          ],
          "pie": [
           {
            "automargin": true,
            "type": "pie"
           }
          ],
          "scatter": [
           {
            "fillpattern": {
             "fillmode": "overlay",
             "size": 10,
             "solidity": 0.2
            },
            "type": "scatter"
           }
          ],
          "scatter3d": [
           {
            "line": {
             "colorbar": {
              "outlinewidth": 0,
              "ticks": ""
             }
            },
            "marker": {
             "colorbar": {
              "outlinewidth": 0,
              "ticks": ""
             }
            },
            "type": "scatter3d"
           }
          ],
          "scattercarpet": [
           {
            "marker": {
             "colorbar": {
              "outlinewidth": 0,
              "ticks": ""
             }
            },
            "type": "scattercarpet"
           }
          ],
          "scattergeo": [
           {
            "marker": {
             "colorbar": {
              "outlinewidth": 0,
              "ticks": ""
             }
            },
            "type": "scattergeo"
           }
          ],
          "scattergl": [
           {
            "marker": {
             "colorbar": {
              "outlinewidth": 0,
              "ticks": ""
             }
            },
            "type": "scattergl"
           }
          ],
          "scattermapbox": [
           {
            "marker": {
             "colorbar": {
              "outlinewidth": 0,
              "ticks": ""
             }
            },
            "type": "scattermapbox"
           }
          ],
          "scatterpolar": [
           {
            "marker": {
             "colorbar": {
              "outlinewidth": 0,
              "ticks": ""
             }
            },
            "type": "scatterpolar"
           }
          ],
          "scatterpolargl": [
           {
            "marker": {
             "colorbar": {
              "outlinewidth": 0,
              "ticks": ""
             }
            },
            "type": "scatterpolargl"
           }
          ],
          "scatterternary": [
           {
            "marker": {
             "colorbar": {
              "outlinewidth": 0,
              "ticks": ""
             }
            },
            "type": "scatterternary"
           }
          ],
          "surface": [
           {
            "colorbar": {
             "outlinewidth": 0,
             "ticks": ""
            },
            "colorscale": [
             [
              0,
              "#0d0887"
             ],
             [
              0.1111111111111111,
              "#46039f"
             ],
             [
              0.2222222222222222,
              "#7201a8"
             ],
             [
              0.3333333333333333,
              "#9c179e"
             ],
             [
              0.4444444444444444,
              "#bd3786"
             ],
             [
              0.5555555555555556,
              "#d8576b"
             ],
             [
              0.6666666666666666,
              "#ed7953"
             ],
             [
              0.7777777777777778,
              "#fb9f3a"
             ],
             [
              0.8888888888888888,
              "#fdca26"
             ],
             [
              1,
              "#f0f921"
             ]
            ],
            "type": "surface"
           }
          ],
          "table": [
           {
            "cells": {
             "fill": {
              "color": "#EBF0F8"
             },
             "line": {
              "color": "white"
             }
            },
            "header": {
             "fill": {
              "color": "#C8D4E3"
             },
             "line": {
              "color": "white"
             }
            },
            "type": "table"
           }
          ]
         },
         "layout": {
          "annotationdefaults": {
           "arrowcolor": "#2a3f5f",
           "arrowhead": 0,
           "arrowwidth": 1
          },
          "autotypenumbers": "strict",
          "coloraxis": {
           "colorbar": {
            "outlinewidth": 0,
            "ticks": ""
           }
          },
          "colorscale": {
           "diverging": [
            [
             0,
             "#8e0152"
            ],
            [
             0.1,
             "#c51b7d"
            ],
            [
             0.2,
             "#de77ae"
            ],
            [
             0.3,
             "#f1b6da"
            ],
            [
             0.4,
             "#fde0ef"
            ],
            [
             0.5,
             "#f7f7f7"
            ],
            [
             0.6,
             "#e6f5d0"
            ],
            [
             0.7,
             "#b8e186"
            ],
            [
             0.8,
             "#7fbc41"
            ],
            [
             0.9,
             "#4d9221"
            ],
            [
             1,
             "#276419"
            ]
           ],
           "sequential": [
            [
             0,
             "#0d0887"
            ],
            [
             0.1111111111111111,
             "#46039f"
            ],
            [
             0.2222222222222222,
             "#7201a8"
            ],
            [
             0.3333333333333333,
             "#9c179e"
            ],
            [
             0.4444444444444444,
             "#bd3786"
            ],
            [
             0.5555555555555556,
             "#d8576b"
            ],
            [
             0.6666666666666666,
             "#ed7953"
            ],
            [
             0.7777777777777778,
             "#fb9f3a"
            ],
            [
             0.8888888888888888,
             "#fdca26"
            ],
            [
             1,
             "#f0f921"
            ]
           ],
           "sequentialminus": [
            [
             0,
             "#0d0887"
            ],
            [
             0.1111111111111111,
             "#46039f"
            ],
            [
             0.2222222222222222,
             "#7201a8"
            ],
            [
             0.3333333333333333,
             "#9c179e"
            ],
            [
             0.4444444444444444,
             "#bd3786"
            ],
            [
             0.5555555555555556,
             "#d8576b"
            ],
            [
             0.6666666666666666,
             "#ed7953"
            ],
            [
             0.7777777777777778,
             "#fb9f3a"
            ],
            [
             0.8888888888888888,
             "#fdca26"
            ],
            [
             1,
             "#f0f921"
            ]
           ]
          },
          "colorway": [
           "#636efa",
           "#EF553B",
           "#00cc96",
           "#ab63fa",
           "#FFA15A",
           "#19d3f3",
           "#FF6692",
           "#B6E880",
           "#FF97FF",
           "#FECB52"
          ],
          "font": {
           "color": "#2a3f5f"
          },
          "geo": {
           "bgcolor": "white",
           "lakecolor": "white",
           "landcolor": "#E5ECF6",
           "showlakes": true,
           "showland": true,
           "subunitcolor": "white"
          },
          "hoverlabel": {
           "align": "left"
          },
          "hovermode": "closest",
          "mapbox": {
           "style": "light"
          },
          "paper_bgcolor": "white",
          "plot_bgcolor": "#E5ECF6",
          "polar": {
           "angularaxis": {
            "gridcolor": "white",
            "linecolor": "white",
            "ticks": ""
           },
           "bgcolor": "#E5ECF6",
           "radialaxis": {
            "gridcolor": "white",
            "linecolor": "white",
            "ticks": ""
           }
          },
          "scene": {
           "xaxis": {
            "backgroundcolor": "#E5ECF6",
            "gridcolor": "white",
            "gridwidth": 2,
            "linecolor": "white",
            "showbackground": true,
            "ticks": "",
            "zerolinecolor": "white"
           },
           "yaxis": {
            "backgroundcolor": "#E5ECF6",
            "gridcolor": "white",
            "gridwidth": 2,
            "linecolor": "white",
            "showbackground": true,
            "ticks": "",
            "zerolinecolor": "white"
           },
           "zaxis": {
            "backgroundcolor": "#E5ECF6",
            "gridcolor": "white",
            "gridwidth": 2,
            "linecolor": "white",
            "showbackground": true,
            "ticks": "",
            "zerolinecolor": "white"
           }
          },
          "shapedefaults": {
           "line": {
            "color": "#2a3f5f"
           }
          },
          "ternary": {
           "aaxis": {
            "gridcolor": "white",
            "linecolor": "white",
            "ticks": ""
           },
           "baxis": {
            "gridcolor": "white",
            "linecolor": "white",
            "ticks": ""
           },
           "bgcolor": "#E5ECF6",
           "caxis": {
            "gridcolor": "white",
            "linecolor": "white",
            "ticks": ""
           }
          },
          "title": {
           "x": 0.05
          },
          "xaxis": {
           "automargin": true,
           "gridcolor": "white",
           "linecolor": "white",
           "ticks": "",
           "title": {
            "standoff": 15
           },
           "zerolinecolor": "white",
           "zerolinewidth": 2
          },
          "yaxis": {
           "automargin": true,
           "gridcolor": "white",
           "linecolor": "white",
           "ticks": "",
           "title": {
            "standoff": 15
           },
           "zerolinecolor": "white",
           "zerolinewidth": 2
          }
         }
        },
        "title": {
         "text": "Monthly Violation Counts Over Time (2022-2024)"
        },
        "xaxis": {
         "rangeselector": {
          "buttons": [
           {
            "count": 1,
            "label": "1m",
            "step": "month",
            "stepmode": "backward"
           },
           {
            "count": 6,
            "label": "6m",
            "step": "month",
            "stepmode": "backward"
           },
           {
            "count": 1,
            "label": "YTD",
            "step": "year",
            "stepmode": "todate"
           },
           {
            "count": 1,
            "label": "1y",
            "step": "year",
            "stepmode": "backward"
           },
           {
            "step": "all"
           }
          ]
         },
         "rangeslider": {
          "visible": true
         },
         "title": {
          "text": "Date"
         },
         "type": "date"
        },
        "yaxis": {
         "title": {
          "text": "Count of Violations"
         }
        }
       }
      }
     },
     "metadata": {},
     "output_type": "display_data"
    }
   ],
   "source": [
    "violation_colors = {\n",
    "    'Facility Sanitation': '#91b8e4',  # Darker pastel blue\n",
    "    'Pest Control': '#97c8a2',  # Darker pastel green\n",
    "    'Temperature Control': '#e4d77d',  # Darker light yellow\n",
    "    'Facility Maintenance': '#a8c8c8',  # Darker light blue\n",
    "    'Staff Hygiene': '#6a8d86',  # Darker soft teal\n",
    "    'Food Sourcing and Labeling': '#6dc6bf',  # Darker soft cyan\n",
    "    'Chemical Safety': '#a8d4e0'   # Darker sky blue\n",
    "}\n",
    "\n",
    "import plotly.graph_objects as go\n",
    "\n",
    "\n",
    "# Assuming 'all_violations_df' is already prepared and has 'INSPECTION DATE' as datetime\n",
    "all_violations_df['INSPECTION DATE'] = pd.to_datetime(all_violations_df['INSPECTION DATE'])\n",
    "\n",
    "# Filter data to include only the range from 2021 to 2024\n",
    "filtered_data = all_violations_df[(all_violations_df['INSPECTION DATE'] >= '2022-01-01') & (all_violations_df['INSPECTION DATE'] <= '2024-12-31')]\n",
    "\n",
    "# Group by 'Inspection Date' and 'Group', then count occurrences\n",
    "grouped_data = filtered_data.groupby(['INSPECTION DATE', 'Group']).size().unstack(fill_value=0)\n",
    "\n",
    "# Resample data to monthly frequency, summing the counts\n",
    "monthly_data = grouped_data.resample('ME').sum()\n",
    "\n",
    "# Create the main plot\n",
    "violation_colors = {\n",
    "    'Facility Sanitation': '#91b8e4',  # Darker pastel blue\n",
    "    'Pest Control': '#97c8a2',  # Darker pastel green\n",
    "    'Temperature Control': '#e4d77d',  # Darker light yellow\n",
    "    'Facility Maintenance': '#a8c8c8',  # Darker light blue\n",
    "    'Staff Hygiene': '#6a8d86',  # Darker soft teal\n",
    "    'Food Sourcing and Labeling': '#6dc6bf',  # Darker soft cyan\n",
    "    'Chemical Safety': '#a8d4e0'   # Darker sky blue\n",
    "}\n",
    "\n",
    "fig = go.Figure()\n",
    "for col in monthly_data.columns:\n",
    "    fig.add_trace(go.Scatter(x=monthly_data.index, y=monthly_data[col], name=col, mode='lines', line=dict(color=violation_colors.get(col, '#000000'))))\n",
    "\n",
    "# Update layout to add the range slider and change the background color\n",
    "fig.update_layout(\n",
    "    title='Monthly Violation Counts Over Time (2022-2024)',\n",
    "    plot_bgcolor='rgba(240, 240, 240, 0.8)',  # Light grey background for better visibility\n",
    "    xaxis=dict(\n",
    "        title='Date',\n",
    "        rangeselector=dict(\n",
    "            buttons=list([\n",
    "                dict(count=1, label='1m', step='month', stepmode='backward'),\n",
    "                dict(count=6, label='6m', step='month', stepmode='backward'),\n",
    "                dict(count=1, label='YTD', step='year', stepmode='todate'),\n",
    "                dict(count=1, label='1y', step='year', stepmode='backward'),\n",
    "                dict(step='all')\n",
    "            ])\n",
    "        ),\n",
    "        rangeslider=dict(\n",
    "            visible=True\n",
    "        ),\n",
    "        type='date'\n",
    "    ),\n",
    "    yaxis=dict(\n",
    "        title='Count of Violations'\n",
    "    ),\n",
    "    annotations=[\n",
    "        dict(\n",
    "            x=0.5,\n",
    "            y=-0.15,\n",
    "            xref='paper',\n",
    "            yref='paper',\n",
    "            text='Select Range',\n",
    "            showarrow=False,\n",
    "            font=dict(\n",
    "                size=12,\n",
    "                color=\"black\"\n",
    "            ),\n",
    "            align='center'\n",
    "        )\n",
    "    ]\n",
    ")\n",
    "\n",
    "# Save the plot as an HTML file\n",
    "fig.write_html(\"monthly_violation_counts.html\")\n",
    "\n",
    "# Show the plot\n",
    "fig.show()\n"
   ]
  },
  {
   "cell_type": "markdown",
   "metadata": {},
   "source": [
    "## 5.1 Line-Plot\n",
    "The first plot we introduce is an interactive line plot that provides readers with insights into both the counts of each violation and the distribution between the most common and uncommon violations. Readers can adjust the time period displayed on the plot and choose which violation codes to view. Additionally, a pop-up tooltip displays the exact count of violations for each month. By showing the counts over time, the plot also offers insights into the frequency of these documented results. We believe this plot is an excellent starting point because it is relatively simple to understand, despite its numerous features. Readers have the option to dive deeper into the details as they choose."
   ]
  },
  {
   "cell_type": "code",
   "execution_count": null,
   "metadata": {},
   "outputs": [
    {
     "data": {
      "application/vnd.plotly.v1+json": {
       "config": {
        "plotlyServerURL": "https://plot.ly"
       },
       "data": [
        {
         "hoverinfo": "text",
         "hovertext": [
          "7229.0 inspections (99.86%)",
          "7042.0 inspections (30.87%)",
          "265.0 inspections (40.77%)",
          "5477.0 inspections (99.93%)",
          "770.0 inspections (11.82%)",
          "7344.0 inspections (50.81%)",
          "82.0 inspections (100.0%)"
         ],
         "marker": {
          "color": "#f4a3a8"
         },
         "name": "Critical",
         "type": "bar",
         "x": [
          "Temperature Control",
          "Facility Sanitation",
          "Food Sourcing and Labeling",
          "Staff Hygiene",
          "Facility Maintenance",
          "Pest Control",
          "Chemical Safety"
         ],
         "y": [
          7229,
          7042,
          265,
          5477,
          770,
          7344,
          82
         ]
        },
        {
         "hoverinfo": "text",
         "hovertext": [
          "0.0 inspections (0.0%)",
          "15716.0 inspections (68.9%)",
          "383.0 inspections (58.92%)",
          "0.0 inspections (0.0%)",
          "5737.0 inspections (88.03%)",
          "7092.0 inspections (49.06%)",
          "0.0 inspections (0.0%)"
         ],
         "marker": {
          "color": "#a8d8ba"
         },
         "name": "Not Critical",
         "type": "bar",
         "x": [
          "Temperature Control",
          "Facility Sanitation",
          "Food Sourcing and Labeling",
          "Staff Hygiene",
          "Facility Maintenance",
          "Pest Control",
          "Chemical Safety"
         ],
         "y": [
          0,
          15716,
          383,
          0,
          5737,
          7092,
          0
         ]
        }
       ],
       "layout": {
        "barmode": "stack",
        "height": 600,
        "legend": {
         "title": {
          "text": "CRITICAL FLAG"
         }
        },
        "template": {
         "data": {
          "bar": [
           {
            "error_x": {
             "color": "#2a3f5f"
            },
            "error_y": {
             "color": "#2a3f5f"
            },
            "marker": {
             "line": {
              "color": "#E5ECF6",
              "width": 0.5
             },
             "pattern": {
              "fillmode": "overlay",
              "size": 10,
              "solidity": 0.2
             }
            },
            "type": "bar"
           }
          ],
          "barpolar": [
           {
            "marker": {
             "line": {
              "color": "#E5ECF6",
              "width": 0.5
             },
             "pattern": {
              "fillmode": "overlay",
              "size": 10,
              "solidity": 0.2
             }
            },
            "type": "barpolar"
           }
          ],
          "carpet": [
           {
            "aaxis": {
             "endlinecolor": "#2a3f5f",
             "gridcolor": "white",
             "linecolor": "white",
             "minorgridcolor": "white",
             "startlinecolor": "#2a3f5f"
            },
            "baxis": {
             "endlinecolor": "#2a3f5f",
             "gridcolor": "white",
             "linecolor": "white",
             "minorgridcolor": "white",
             "startlinecolor": "#2a3f5f"
            },
            "type": "carpet"
           }
          ],
          "choropleth": [
           {
            "colorbar": {
             "outlinewidth": 0,
             "ticks": ""
            },
            "type": "choropleth"
           }
          ],
          "contour": [
           {
            "colorbar": {
             "outlinewidth": 0,
             "ticks": ""
            },
            "colorscale": [
             [
              0,
              "#0d0887"
             ],
             [
              0.1111111111111111,
              "#46039f"
             ],
             [
              0.2222222222222222,
              "#7201a8"
             ],
             [
              0.3333333333333333,
              "#9c179e"
             ],
             [
              0.4444444444444444,
              "#bd3786"
             ],
             [
              0.5555555555555556,
              "#d8576b"
             ],
             [
              0.6666666666666666,
              "#ed7953"
             ],
             [
              0.7777777777777778,
              "#fb9f3a"
             ],
             [
              0.8888888888888888,
              "#fdca26"
             ],
             [
              1,
              "#f0f921"
             ]
            ],
            "type": "contour"
           }
          ],
          "contourcarpet": [
           {
            "colorbar": {
             "outlinewidth": 0,
             "ticks": ""
            },
            "type": "contourcarpet"
           }
          ],
          "heatmap": [
           {
            "colorbar": {
             "outlinewidth": 0,
             "ticks": ""
            },
            "colorscale": [
             [
              0,
              "#0d0887"
             ],
             [
              0.1111111111111111,
              "#46039f"
             ],
             [
              0.2222222222222222,
              "#7201a8"
             ],
             [
              0.3333333333333333,
              "#9c179e"
             ],
             [
              0.4444444444444444,
              "#bd3786"
             ],
             [
              0.5555555555555556,
              "#d8576b"
             ],
             [
              0.6666666666666666,
              "#ed7953"
             ],
             [
              0.7777777777777778,
              "#fb9f3a"
             ],
             [
              0.8888888888888888,
              "#fdca26"
             ],
             [
              1,
              "#f0f921"
             ]
            ],
            "type": "heatmap"
           }
          ],
          "heatmapgl": [
           {
            "colorbar": {
             "outlinewidth": 0,
             "ticks": ""
            },
            "colorscale": [
             [
              0,
              "#0d0887"
             ],
             [
              0.1111111111111111,
              "#46039f"
             ],
             [
              0.2222222222222222,
              "#7201a8"
             ],
             [
              0.3333333333333333,
              "#9c179e"
             ],
             [
              0.4444444444444444,
              "#bd3786"
             ],
             [
              0.5555555555555556,
              "#d8576b"
             ],
             [
              0.6666666666666666,
              "#ed7953"
             ],
             [
              0.7777777777777778,
              "#fb9f3a"
             ],
             [
              0.8888888888888888,
              "#fdca26"
             ],
             [
              1,
              "#f0f921"
             ]
            ],
            "type": "heatmapgl"
           }
          ],
          "histogram": [
           {
            "marker": {
             "pattern": {
              "fillmode": "overlay",
              "size": 10,
              "solidity": 0.2
             }
            },
            "type": "histogram"
           }
          ],
          "histogram2d": [
           {
            "colorbar": {
             "outlinewidth": 0,
             "ticks": ""
            },
            "colorscale": [
             [
              0,
              "#0d0887"
             ],
             [
              0.1111111111111111,
              "#46039f"
             ],
             [
              0.2222222222222222,
              "#7201a8"
             ],
             [
              0.3333333333333333,
              "#9c179e"
             ],
             [
              0.4444444444444444,
              "#bd3786"
             ],
             [
              0.5555555555555556,
              "#d8576b"
             ],
             [
              0.6666666666666666,
              "#ed7953"
             ],
             [
              0.7777777777777778,
              "#fb9f3a"
             ],
             [
              0.8888888888888888,
              "#fdca26"
             ],
             [
              1,
              "#f0f921"
             ]
            ],
            "type": "histogram2d"
           }
          ],
          "histogram2dcontour": [
           {
            "colorbar": {
             "outlinewidth": 0,
             "ticks": ""
            },
            "colorscale": [
             [
              0,
              "#0d0887"
             ],
             [
              0.1111111111111111,
              "#46039f"
             ],
             [
              0.2222222222222222,
              "#7201a8"
             ],
             [
              0.3333333333333333,
              "#9c179e"
             ],
             [
              0.4444444444444444,
              "#bd3786"
             ],
             [
              0.5555555555555556,
              "#d8576b"
             ],
             [
              0.6666666666666666,
              "#ed7953"
             ],
             [
              0.7777777777777778,
              "#fb9f3a"
             ],
             [
              0.8888888888888888,
              "#fdca26"
             ],
             [
              1,
              "#f0f921"
             ]
            ],
            "type": "histogram2dcontour"
           }
          ],
          "mesh3d": [
           {
            "colorbar": {
             "outlinewidth": 0,
             "ticks": ""
            },
            "type": "mesh3d"
           }
          ],
          "parcoords": [
           {
            "line": {
             "colorbar": {
              "outlinewidth": 0,
              "ticks": ""
             }
            },
            "type": "parcoords"
           }
          ],
          "pie": [
           {
            "automargin": true,
            "type": "pie"
           }
          ],
          "scatter": [
           {
            "fillpattern": {
             "fillmode": "overlay",
             "size": 10,
             "solidity": 0.2
            },
            "type": "scatter"
           }
          ],
          "scatter3d": [
           {
            "line": {
             "colorbar": {
              "outlinewidth": 0,
              "ticks": ""
             }
            },
            "marker": {
             "colorbar": {
              "outlinewidth": 0,
              "ticks": ""
             }
            },
            "type": "scatter3d"
           }
          ],
          "scattercarpet": [
           {
            "marker": {
             "colorbar": {
              "outlinewidth": 0,
              "ticks": ""
             }
            },
            "type": "scattercarpet"
           }
          ],
          "scattergeo": [
           {
            "marker": {
             "colorbar": {
              "outlinewidth": 0,
              "ticks": ""
             }
            },
            "type": "scattergeo"
           }
          ],
          "scattergl": [
           {
            "marker": {
             "colorbar": {
              "outlinewidth": 0,
              "ticks": ""
             }
            },
            "type": "scattergl"
           }
          ],
          "scattermapbox": [
           {
            "marker": {
             "colorbar": {
              "outlinewidth": 0,
              "ticks": ""
             }
            },
            "type": "scattermapbox"
           }
          ],
          "scatterpolar": [
           {
            "marker": {
             "colorbar": {
              "outlinewidth": 0,
              "ticks": ""
             }
            },
            "type": "scatterpolar"
           }
          ],
          "scatterpolargl": [
           {
            "marker": {
             "colorbar": {
              "outlinewidth": 0,
              "ticks": ""
             }
            },
            "type": "scatterpolargl"
           }
          ],
          "scatterternary": [
           {
            "marker": {
             "colorbar": {
              "outlinewidth": 0,
              "ticks": ""
             }
            },
            "type": "scatterternary"
           }
          ],
          "surface": [
           {
            "colorbar": {
             "outlinewidth": 0,
             "ticks": ""
            },
            "colorscale": [
             [
              0,
              "#0d0887"
             ],
             [
              0.1111111111111111,
              "#46039f"
             ],
             [
              0.2222222222222222,
              "#7201a8"
             ],
             [
              0.3333333333333333,
              "#9c179e"
             ],
             [
              0.4444444444444444,
              "#bd3786"
             ],
             [
              0.5555555555555556,
              "#d8576b"
             ],
             [
              0.6666666666666666,
              "#ed7953"
             ],
             [
              0.7777777777777778,
              "#fb9f3a"
             ],
             [
              0.8888888888888888,
              "#fdca26"
             ],
             [
              1,
              "#f0f921"
             ]
            ],
            "type": "surface"
           }
          ],
          "table": [
           {
            "cells": {
             "fill": {
              "color": "#EBF0F8"
             },
             "line": {
              "color": "white"
             }
            },
            "header": {
             "fill": {
              "color": "#C8D4E3"
             },
             "line": {
              "color": "white"
             }
            },
            "type": "table"
           }
          ]
         },
         "layout": {
          "annotationdefaults": {
           "arrowcolor": "#2a3f5f",
           "arrowhead": 0,
           "arrowwidth": 1
          },
          "autotypenumbers": "strict",
          "coloraxis": {
           "colorbar": {
            "outlinewidth": 0,
            "ticks": ""
           }
          },
          "colorscale": {
           "diverging": [
            [
             0,
             "#8e0152"
            ],
            [
             0.1,
             "#c51b7d"
            ],
            [
             0.2,
             "#de77ae"
            ],
            [
             0.3,
             "#f1b6da"
            ],
            [
             0.4,
             "#fde0ef"
            ],
            [
             0.5,
             "#f7f7f7"
            ],
            [
             0.6,
             "#e6f5d0"
            ],
            [
             0.7,
             "#b8e186"
            ],
            [
             0.8,
             "#7fbc41"
            ],
            [
             0.9,
             "#4d9221"
            ],
            [
             1,
             "#276419"
            ]
           ],
           "sequential": [
            [
             0,
             "#0d0887"
            ],
            [
             0.1111111111111111,
             "#46039f"
            ],
            [
             0.2222222222222222,
             "#7201a8"
            ],
            [
             0.3333333333333333,
             "#9c179e"
            ],
            [
             0.4444444444444444,
             "#bd3786"
            ],
            [
             0.5555555555555556,
             "#d8576b"
            ],
            [
             0.6666666666666666,
             "#ed7953"
            ],
            [
             0.7777777777777778,
             "#fb9f3a"
            ],
            [
             0.8888888888888888,
             "#fdca26"
            ],
            [
             1,
             "#f0f921"
            ]
           ],
           "sequentialminus": [
            [
             0,
             "#0d0887"
            ],
            [
             0.1111111111111111,
             "#46039f"
            ],
            [
             0.2222222222222222,
             "#7201a8"
            ],
            [
             0.3333333333333333,
             "#9c179e"
            ],
            [
             0.4444444444444444,
             "#bd3786"
            ],
            [
             0.5555555555555556,
             "#d8576b"
            ],
            [
             0.6666666666666666,
             "#ed7953"
            ],
            [
             0.7777777777777778,
             "#fb9f3a"
            ],
            [
             0.8888888888888888,
             "#fdca26"
            ],
            [
             1,
             "#f0f921"
            ]
           ]
          },
          "colorway": [
           "#636efa",
           "#EF553B",
           "#00cc96",
           "#ab63fa",
           "#FFA15A",
           "#19d3f3",
           "#FF6692",
           "#B6E880",
           "#FF97FF",
           "#FECB52"
          ],
          "font": {
           "color": "#2a3f5f"
          },
          "geo": {
           "bgcolor": "white",
           "lakecolor": "white",
           "landcolor": "#E5ECF6",
           "showlakes": true,
           "showland": true,
           "subunitcolor": "white"
          },
          "hoverlabel": {
           "align": "left"
          },
          "hovermode": "closest",
          "mapbox": {
           "style": "light"
          },
          "paper_bgcolor": "white",
          "plot_bgcolor": "#E5ECF6",
          "polar": {
           "angularaxis": {
            "gridcolor": "white",
            "linecolor": "white",
            "ticks": ""
           },
           "bgcolor": "#E5ECF6",
           "radialaxis": {
            "gridcolor": "white",
            "linecolor": "white",
            "ticks": ""
           }
          },
          "scene": {
           "xaxis": {
            "backgroundcolor": "#E5ECF6",
            "gridcolor": "white",
            "gridwidth": 2,
            "linecolor": "white",
            "showbackground": true,
            "ticks": "",
            "zerolinecolor": "white"
           },
           "yaxis": {
            "backgroundcolor": "#E5ECF6",
            "gridcolor": "white",
            "gridwidth": 2,
            "linecolor": "white",
            "showbackground": true,
            "ticks": "",
            "zerolinecolor": "white"
           },
           "zaxis": {
            "backgroundcolor": "#E5ECF6",
            "gridcolor": "white",
            "gridwidth": 2,
            "linecolor": "white",
            "showbackground": true,
            "ticks": "",
            "zerolinecolor": "white"
           }
          },
          "shapedefaults": {
           "line": {
            "color": "#2a3f5f"
           }
          },
          "ternary": {
           "aaxis": {
            "gridcolor": "white",
            "linecolor": "white",
            "ticks": ""
           },
           "baxis": {
            "gridcolor": "white",
            "linecolor": "white",
            "ticks": ""
           },
           "bgcolor": "#E5ECF6",
           "caxis": {
            "gridcolor": "white",
            "linecolor": "white",
            "ticks": ""
           }
          },
          "title": {
           "x": 0.05
          },
          "xaxis": {
           "automargin": true,
           "gridcolor": "white",
           "linecolor": "white",
           "ticks": "",
           "title": {
            "standoff": 15
           },
           "zerolinecolor": "white",
           "zerolinewidth": 2
          },
          "yaxis": {
           "automargin": true,
           "gridcolor": "white",
           "linecolor": "white",
           "ticks": "",
           "title": {
            "standoff": 15
           },
           "zerolinecolor": "white",
           "zerolinewidth": 2
          }
         }
        },
        "title": {
         "text": "Total Inspections and Criticality by Violation Group"
        },
        "xaxis": {
         "tickangle": -45,
         "title": {
          "text": "Violation Group"
         }
        },
        "yaxis": {
         "title": {
          "text": "Count of Inspections"
         }
        }
       }
      }
     },
     "metadata": {},
     "output_type": "display_data"
    }
   ],
   "source": [
    "import plotly.graph_objects as go\n",
    "import pandas as pd\n",
    "\n",
    "# Re-check how data is aggregated and ensure all categories are captured\n",
    "def get_data_for_group(group_list):\n",
    "    filtered_df = all_violations_df[all_violations_df['Group'].isin(group_list)]\n",
    "    counts = filtered_df.groupby('CRITICAL FLAG').size()\n",
    "    return counts\n",
    "\n",
    "# Collect and aggregate the data\n",
    "group_data = {}\n",
    "for group in all_violations_df['Group'].unique():\n",
    "    group_data[group] = get_data_for_group([group])\n",
    "\n",
    "# Convert data into a DataFrame and fill missing values\n",
    "group_counts = pd.DataFrame(group_data).T.fillna(0)\n",
    "\n",
    "# Calculate the total number of inspections for each category\n",
    "totals = group_counts.sum(axis=1)\n",
    "\n",
    "# Add percentages to the dataframe for hover information\n",
    "group_counts['Critical (%)'] = (group_counts['Critical'] / totals * 100).round(2)\n",
    "group_counts['Not Critical (%)'] = (group_counts['Not Critical'] / totals * 100).round(2)\n",
    "\n",
    "fig = go.Figure()\n",
    "\n",
    "# Add bars for critical inspections\n",
    "fig.add_trace(go.Bar(\n",
    "    x=group_counts.index,\n",
    "    y=group_counts['Critical'],\n",
    "    name='Critical',\n",
    "    hovertext=[f'{c} inspections ({p}%)' for c, p in zip(group_counts['Critical'], group_counts['Critical (%)'])],\n",
    "    hoverinfo='text',\n",
    "    marker_color='#f4a3a8' \n",
    "))\n",
    "\n",
    "# Add bars for not critical inspections\n",
    "fig.add_trace(go.Bar(\n",
    "    x=group_counts.index,\n",
    "    y=group_counts['Not Critical'],\n",
    "    name='Not Critical',\n",
    "    hovertext=[f'{c} inspections ({p}%)' for c, p in zip(group_counts['Not Critical'], group_counts['Not Critical (%)'])],\n",
    "    hoverinfo='text',\n",
    "    marker_color='#a8d8ba' \n",
    "))\n",
    "\n",
    "# Update the layout to stack the bars, and adjust height\n",
    "fig.update_layout(\n",
    "    barmode='stack',\n",
    "    title='Total Inspections and Criticality by Violation Group',\n",
    "    xaxis_title='Violation Group',\n",
    "    yaxis_title='Count of Inspections',\n",
    "    legend_title='CRITICAL FLAG',\n",
    "    xaxis_tickangle=-45,\n",
    "    height=600  \n",
    ")\n",
    "\n",
    "# Save the figure as an HTML file\n",
    "fig.write_html(\"total_inspections_criticality.html\")\n",
    "\n",
    "# Show the figure\n",
    "fig.show()"
   ]
  },
  {
   "cell_type": "markdown",
   "metadata": {},
   "source": [
    "## 5.2 Bar-plot\n",
    "The second plot provides readers with insights into the significance of hygiene criticality conditions. It demonstrates that if a violation of temperature control is recorded, the likelihood of the restaurant being flagged as critical is 100%. In contrast, although Facility Sanitation is the most frequent violation, it only results in a critical flag about 30% of the time."
   ]
  },
  {
   "cell_type": "code",
   "execution_count": null,
   "metadata": {},
   "outputs": [
    {
     "name": "stderr",
     "output_type": "stream",
     "text": [
      "/var/folders/m4/lvsr74wx0q925cvzc6z0g13r0000gn/T/ipykernel_82014/2782268677.py:13: SettingWithCopyWarning:\n",
      "\n",
      "\n",
      "A value is trying to be set on a copy of a slice from a DataFrame.\n",
      "Try using .loc[row_indexer,col_indexer] = value instead\n",
      "\n",
      "See the caveats in the documentation: https://pandas.pydata.org/pandas-docs/stable/user_guide/indexing.html#returning-a-view-versus-a-copy\n",
      "\n",
      "/var/folders/m4/lvsr74wx0q925cvzc6z0g13r0000gn/T/ipykernel_82014/2782268677.py:14: SettingWithCopyWarning:\n",
      "\n",
      "\n",
      "A value is trying to be set on a copy of a slice from a DataFrame\n",
      "\n",
      "See the caveats in the documentation: https://pandas.pydata.org/pandas-docs/stable/user_guide/indexing.html#returning-a-view-versus-a-copy\n",
      "\n",
      "/var/folders/m4/lvsr74wx0q925cvzc6z0g13r0000gn/T/ipykernel_82014/2782268677.py:13: SettingWithCopyWarning:\n",
      "\n",
      "\n",
      "A value is trying to be set on a copy of a slice from a DataFrame.\n",
      "Try using .loc[row_indexer,col_indexer] = value instead\n",
      "\n",
      "See the caveats in the documentation: https://pandas.pydata.org/pandas-docs/stable/user_guide/indexing.html#returning-a-view-versus-a-copy\n",
      "\n",
      "/var/folders/m4/lvsr74wx0q925cvzc6z0g13r0000gn/T/ipykernel_82014/2782268677.py:14: SettingWithCopyWarning:\n",
      "\n",
      "\n",
      "A value is trying to be set on a copy of a slice from a DataFrame\n",
      "\n",
      "See the caveats in the documentation: https://pandas.pydata.org/pandas-docs/stable/user_guide/indexing.html#returning-a-view-versus-a-copy\n",
      "\n",
      "/var/folders/m4/lvsr74wx0q925cvzc6z0g13r0000gn/T/ipykernel_82014/2782268677.py:13: SettingWithCopyWarning:\n",
      "\n",
      "\n",
      "A value is trying to be set on a copy of a slice from a DataFrame.\n",
      "Try using .loc[row_indexer,col_indexer] = value instead\n",
      "\n",
      "See the caveats in the documentation: https://pandas.pydata.org/pandas-docs/stable/user_guide/indexing.html#returning-a-view-versus-a-copy\n",
      "\n",
      "/var/folders/m4/lvsr74wx0q925cvzc6z0g13r0000gn/T/ipykernel_82014/2782268677.py:14: SettingWithCopyWarning:\n",
      "\n",
      "\n",
      "A value is trying to be set on a copy of a slice from a DataFrame\n",
      "\n",
      "See the caveats in the documentation: https://pandas.pydata.org/pandas-docs/stable/user_guide/indexing.html#returning-a-view-versus-a-copy\n",
      "\n",
      "/var/folders/m4/lvsr74wx0q925cvzc6z0g13r0000gn/T/ipykernel_82014/2782268677.py:13: SettingWithCopyWarning:\n",
      "\n",
      "\n",
      "A value is trying to be set on a copy of a slice from a DataFrame.\n",
      "Try using .loc[row_indexer,col_indexer] = value instead\n",
      "\n",
      "See the caveats in the documentation: https://pandas.pydata.org/pandas-docs/stable/user_guide/indexing.html#returning-a-view-versus-a-copy\n",
      "\n",
      "/var/folders/m4/lvsr74wx0q925cvzc6z0g13r0000gn/T/ipykernel_82014/2782268677.py:14: SettingWithCopyWarning:\n",
      "\n",
      "\n",
      "A value is trying to be set on a copy of a slice from a DataFrame\n",
      "\n",
      "See the caveats in the documentation: https://pandas.pydata.org/pandas-docs/stable/user_guide/indexing.html#returning-a-view-versus-a-copy\n",
      "\n",
      "/var/folders/m4/lvsr74wx0q925cvzc6z0g13r0000gn/T/ipykernel_82014/2782268677.py:13: SettingWithCopyWarning:\n",
      "\n",
      "\n",
      "A value is trying to be set on a copy of a slice from a DataFrame.\n",
      "Try using .loc[row_indexer,col_indexer] = value instead\n",
      "\n",
      "See the caveats in the documentation: https://pandas.pydata.org/pandas-docs/stable/user_guide/indexing.html#returning-a-view-versus-a-copy\n",
      "\n",
      "/var/folders/m4/lvsr74wx0q925cvzc6z0g13r0000gn/T/ipykernel_82014/2782268677.py:14: SettingWithCopyWarning:\n",
      "\n",
      "\n",
      "A value is trying to be set on a copy of a slice from a DataFrame\n",
      "\n",
      "See the caveats in the documentation: https://pandas.pydata.org/pandas-docs/stable/user_guide/indexing.html#returning-a-view-versus-a-copy\n",
      "\n",
      "/var/folders/m4/lvsr74wx0q925cvzc6z0g13r0000gn/T/ipykernel_82014/2782268677.py:13: SettingWithCopyWarning:\n",
      "\n",
      "\n",
      "A value is trying to be set on a copy of a slice from a DataFrame.\n",
      "Try using .loc[row_indexer,col_indexer] = value instead\n",
      "\n",
      "See the caveats in the documentation: https://pandas.pydata.org/pandas-docs/stable/user_guide/indexing.html#returning-a-view-versus-a-copy\n",
      "\n",
      "/var/folders/m4/lvsr74wx0q925cvzc6z0g13r0000gn/T/ipykernel_82014/2782268677.py:14: SettingWithCopyWarning:\n",
      "\n",
      "\n",
      "A value is trying to be set on a copy of a slice from a DataFrame\n",
      "\n",
      "See the caveats in the documentation: https://pandas.pydata.org/pandas-docs/stable/user_guide/indexing.html#returning-a-view-versus-a-copy\n",
      "\n",
      "/var/folders/m4/lvsr74wx0q925cvzc6z0g13r0000gn/T/ipykernel_82014/2782268677.py:13: SettingWithCopyWarning:\n",
      "\n",
      "\n",
      "A value is trying to be set on a copy of a slice from a DataFrame.\n",
      "Try using .loc[row_indexer,col_indexer] = value instead\n",
      "\n",
      "See the caveats in the documentation: https://pandas.pydata.org/pandas-docs/stable/user_guide/indexing.html#returning-a-view-versus-a-copy\n",
      "\n",
      "/var/folders/m4/lvsr74wx0q925cvzc6z0g13r0000gn/T/ipykernel_82014/2782268677.py:14: SettingWithCopyWarning:\n",
      "\n",
      "\n",
      "A value is trying to be set on a copy of a slice from a DataFrame\n",
      "\n",
      "See the caveats in the documentation: https://pandas.pydata.org/pandas-docs/stable/user_guide/indexing.html#returning-a-view-versus-a-copy\n",
      "\n",
      "/var/folders/m4/lvsr74wx0q925cvzc6z0g13r0000gn/T/ipykernel_82014/2782268677.py:13: SettingWithCopyWarning:\n",
      "\n",
      "\n",
      "A value is trying to be set on a copy of a slice from a DataFrame.\n",
      "Try using .loc[row_indexer,col_indexer] = value instead\n",
      "\n",
      "See the caveats in the documentation: https://pandas.pydata.org/pandas-docs/stable/user_guide/indexing.html#returning-a-view-versus-a-copy\n",
      "\n",
      "/var/folders/m4/lvsr74wx0q925cvzc6z0g13r0000gn/T/ipykernel_82014/2782268677.py:14: SettingWithCopyWarning:\n",
      "\n",
      "\n",
      "A value is trying to be set on a copy of a slice from a DataFrame\n",
      "\n",
      "See the caveats in the documentation: https://pandas.pydata.org/pandas-docs/stable/user_guide/indexing.html#returning-a-view-versus-a-copy\n",
      "\n",
      "/var/folders/m4/lvsr74wx0q925cvzc6z0g13r0000gn/T/ipykernel_82014/2782268677.py:13: SettingWithCopyWarning:\n",
      "\n",
      "\n",
      "A value is trying to be set on a copy of a slice from a DataFrame.\n",
      "Try using .loc[row_indexer,col_indexer] = value instead\n",
      "\n",
      "See the caveats in the documentation: https://pandas.pydata.org/pandas-docs/stable/user_guide/indexing.html#returning-a-view-versus-a-copy\n",
      "\n",
      "/var/folders/m4/lvsr74wx0q925cvzc6z0g13r0000gn/T/ipykernel_82014/2782268677.py:14: SettingWithCopyWarning:\n",
      "\n",
      "\n",
      "A value is trying to be set on a copy of a slice from a DataFrame\n",
      "\n",
      "See the caveats in the documentation: https://pandas.pydata.org/pandas-docs/stable/user_guide/indexing.html#returning-a-view-versus-a-copy\n",
      "\n",
      "/var/folders/m4/lvsr74wx0q925cvzc6z0g13r0000gn/T/ipykernel_82014/2782268677.py:13: SettingWithCopyWarning:\n",
      "\n",
      "\n",
      "A value is trying to be set on a copy of a slice from a DataFrame.\n",
      "Try using .loc[row_indexer,col_indexer] = value instead\n",
      "\n",
      "See the caveats in the documentation: https://pandas.pydata.org/pandas-docs/stable/user_guide/indexing.html#returning-a-view-versus-a-copy\n",
      "\n",
      "/var/folders/m4/lvsr74wx0q925cvzc6z0g13r0000gn/T/ipykernel_82014/2782268677.py:14: SettingWithCopyWarning:\n",
      "\n",
      "\n",
      "A value is trying to be set on a copy of a slice from a DataFrame\n",
      "\n",
      "See the caveats in the documentation: https://pandas.pydata.org/pandas-docs/stable/user_guide/indexing.html#returning-a-view-versus-a-copy\n",
      "\n"
     ]
    },
    {
     "data": {
      "application/vnd.plotly.v1+json": {
       "config": {
        "plotlyServerURL": "https://plot.ly"
       },
       "data": [
        {
         "domain": {
          "x": [
           0,
           0.16799999999999998
          ],
          "y": [
           0.55,
           1
          ]
         },
         "hoverinfo": "label+percent+name",
         "hovertemplate": "%{label}: %{value} (<b>%{percent}</b>)",
         "labels": [
          "Facility Sanitation",
          "Pest Control",
          "Facility Maintenance",
          "Temperature Control",
          "Staff Hygiene",
          "Food Sourcing and Labeling",
          "Chemical Safety"
         ],
         "marker": {
          "colors": [
           "#91b8e4",
           "#97c8a2",
           "#a8c8c8",
           "#e4d77d",
           "#6a8d86",
           "#6dc6bf",
           "#a8d4e0"
          ]
         },
         "name": "Burgers",
         "textinfo": "percent",
         "type": "pie",
         "values": [
          5746,
          3089,
          1541,
          1369,
          1131,
          134,
          14
         ]
        },
        {
         "domain": {
          "x": [
           0.208,
           0.376
          ],
          "y": [
           0.55,
           1
          ]
         },
         "hoverinfo": "label+percent+name",
         "hovertemplate": "%{label}: %{value} (<b>%{percent}</b>)",
         "labels": [
          "Facility Sanitation",
          "Pest Control",
          "Facility Maintenance",
          "Temperature Control",
          "Staff Hygiene",
          "Food Sourcing and Labeling",
          "Chemical Safety"
         ],
         "marker": {
          "colors": [
           "#91b8e4",
           "#97c8a2",
           "#a8c8c8",
           "#e4d77d",
           "#6a8d86",
           "#6dc6bf",
           "#a8d4e0"
          ]
         },
         "name": "Sandwiches",
         "textinfo": "percent",
         "type": "pie",
         "values": [
          630,
          314,
          200,
          176,
          115,
          14,
          1
         ]
        },
        {
         "domain": {
          "x": [
           0.416,
           0.584
          ],
          "y": [
           0.55,
           1
          ]
         },
         "hoverinfo": "label+percent+name",
         "hovertemplate": "%{label}: %{value} (<b>%{percent}</b>)",
         "labels": [
          "Facility Sanitation",
          "Pest Control",
          "Facility Maintenance",
          "Staff Hygiene",
          "Temperature Control",
          "Food Sourcing and Labeling"
         ],
         "marker": {
          "colors": [
           "#91b8e4",
           "#97c8a2",
           "#a8c8c8",
           "#6a8d86",
           "#e4d77d",
           "#6dc6bf"
          ]
         },
         "name": "Hotdogs",
         "textinfo": "percent",
         "type": "pie",
         "values": [
          35,
          17,
          12,
          9,
          6,
          4
         ]
        },
        {
         "domain": {
          "x": [
           0.624,
           0.792
          ],
          "y": [
           0.55,
           1
          ]
         },
         "hoverinfo": "label+percent+name",
         "hovertemplate": "%{label}: %{value} (<b>%{percent}</b>)",
         "labels": [
          "Facility Sanitation",
          "Pest Control",
          "Temperature Control",
          "Facility Maintenance",
          "Staff Hygiene",
          "Food Sourcing and Labeling",
          "Chemical Safety"
         ],
         "marker": {
          "colors": [
           "#91b8e4",
           "#97c8a2",
           "#e4d77d",
           "#a8c8c8",
           "#6a8d86",
           "#6dc6bf",
           "#a8d4e0"
          ]
         },
         "name": "Mexican",
         "textinfo": "percent",
         "type": "pie",
         "values": [
          2565,
          2086,
          1014,
          855,
          617,
          87,
          6
         ]
        },
        {
         "domain": {
          "x": [
           0.832,
           1
          ],
          "y": [
           0.55,
           1
          ]
         },
         "hoverinfo": "label+percent+name",
         "hovertemplate": "%{label}: %{value} (<b>%{percent}</b>)",
         "labels": [
          "Facility Sanitation",
          "Pest Control",
          "Temperature Control",
          "Facility Maintenance",
          "Staff Hygiene",
          "Food Sourcing and Labeling",
          "Chemical Safety"
         ],
         "marker": {
          "colors": [
           "#91b8e4",
           "#97c8a2",
           "#e4d77d",
           "#a8c8c8",
           "#6a8d86",
           "#6dc6bf",
           "#a8d4e0"
          ]
         },
         "name": "Pizza",
         "textinfo": "percent",
         "type": "pie",
         "values": [
          2080,
          1546,
          883,
          588,
          516,
          47,
          7
         ]
        },
        {
         "domain": {
          "x": [
           0,
           0.16799999999999998
          ],
          "y": [
           0,
           0.45
          ]
         },
         "hoverinfo": "label+percent+name",
         "hovertemplate": "%{label}: %{value} (<b>%{percent}</b>)",
         "labels": [
          "Facility Sanitation",
          "Pest Control",
          "Temperature Control",
          "Staff Hygiene",
          "Facility Maintenance",
          "Food Sourcing and Labeling",
          "Chemical Safety"
         ],
         "marker": {
          "colors": [
           "#91b8e4",
           "#97c8a2",
           "#e4d77d",
           "#6a8d86",
           "#a8c8c8",
           "#6dc6bf",
           "#a8d4e0"
          ]
         },
         "name": "Asian",
         "textinfo": "percent",
         "type": "pie",
         "values": [
          4210,
          3164,
          2025,
          1371,
          1097,
          149,
          17
         ]
        },
        {
         "domain": {
          "x": [
           0.208,
           0.376
          ],
          "y": [
           0,
           0.45
          ]
         },
         "hoverinfo": "label+percent+name",
         "hovertemplate": "%{label}: %{value} (<b>%{percent}</b>)",
         "labels": [
          "Facility Sanitation",
          "Pest Control",
          "Facility Maintenance",
          "Staff Hygiene",
          "Temperature Control",
          "Food Sourcing and Labeling",
          "Chemical Safety"
         ],
         "marker": {
          "colors": [
           "#91b8e4",
           "#97c8a2",
           "#a8c8c8",
           "#6a8d86",
           "#e4d77d",
           "#6dc6bf",
           "#a8d4e0"
          ]
         },
         "name": "Bakery, Desserts & Snacks",
         "textinfo": "percent",
         "type": "pie",
         "values": [
          1833,
          904,
          478,
          425,
          333,
          50,
          2
         ]
        },
        {
         "domain": {
          "x": [
           0.416,
           0.584
          ],
          "y": [
           0,
           0.45
          ]
         },
         "hoverinfo": "label+percent+name",
         "hovertemplate": "%{label}: %{value} (<b>%{percent}</b>)",
         "labels": [
          "Facility Sanitation",
          "Pest Control",
          "Facility Maintenance",
          "Staff Hygiene",
          "Temperature Control",
          "Food Sourcing and Labeling",
          "Chemical Safety"
         ],
         "marker": {
          "colors": [
           "#91b8e4",
           "#97c8a2",
           "#a8c8c8",
           "#6a8d86",
           "#e4d77d",
           "#6dc6bf",
           "#a8d4e0"
          ]
         },
         "name": "Salads/Vegan",
         "textinfo": "percent",
         "type": "pie",
         "values": [
          678,
          317,
          227,
          138,
          122,
          26,
          2
         ]
        },
        {
         "domain": {
          "x": [
           0.624,
           0.792
          ],
          "y": [
           0,
           0.45
          ]
         },
         "hoverinfo": "label+percent+name",
         "hovertemplate": "%{label}: %{value} (<b>%{percent}</b>)",
         "labels": [
          "Facility Sanitation",
          "Pest Control",
          "Facility Maintenance",
          "Staff Hygiene",
          "Temperature Control",
          "Food Sourcing and Labeling",
          "Chemical Safety"
         ],
         "marker": {
          "colors": [
           "#91b8e4",
           "#97c8a2",
           "#a8c8c8",
           "#6a8d86",
           "#e4d77d",
           "#6dc6bf",
           "#a8d4e0"
          ]
         },
         "name": "Beverages & More",
         "textinfo": "percent",
         "type": "pie",
         "values": [
          2057,
          778,
          541,
          373,
          284,
          57,
          3
         ]
        },
        {
         "domain": {
          "x": [
           0.832,
           1
          ],
          "y": [
           0,
           0.45
          ]
         },
         "hoverinfo": "label+percent+name",
         "hovertemplate": "%{label}: %{value} (<b>%{percent}</b>)",
         "labels": [
          "Facility Sanitation",
          "Pest Control",
          "Temperature Control",
          "Facility Maintenance",
          "Staff Hygiene",
          "Food Sourcing and Labeling",
          "Chemical Safety"
         ],
         "marker": {
          "colors": [
           "#91b8e4",
           "#97c8a2",
           "#e4d77d",
           "#a8c8c8",
           "#6a8d86",
           "#6dc6bf",
           "#a8d4e0"
          ]
         },
         "name": "Seafood",
         "textinfo": "percent",
         "type": "pie",
         "values": [
          211,
          180,
          72,
          56,
          36,
          7,
          1
         ]
        }
       ],
       "layout": {
        "annotations": [
         {
          "font": {
           "size": 16
          },
          "showarrow": false,
          "text": "<b>Burgers</b>",
          "x": 0.08399999999999999,
          "xanchor": "center",
          "xref": "paper",
          "y": 1,
          "yanchor": "bottom",
          "yref": "paper"
         },
         {
          "font": {
           "size": 16
          },
          "showarrow": false,
          "text": "<b>Sandwiches</b>",
          "x": 0.292,
          "xanchor": "center",
          "xref": "paper",
          "y": 1,
          "yanchor": "bottom",
          "yref": "paper"
         },
         {
          "font": {
           "size": 16
          },
          "showarrow": false,
          "text": "<b>Hotdogs</b>",
          "x": 0.5,
          "xanchor": "center",
          "xref": "paper",
          "y": 1,
          "yanchor": "bottom",
          "yref": "paper"
         },
         {
          "font": {
           "size": 16
          },
          "showarrow": false,
          "text": "<b>Mexican</b>",
          "x": 0.708,
          "xanchor": "center",
          "xref": "paper",
          "y": 1,
          "yanchor": "bottom",
          "yref": "paper"
         },
         {
          "font": {
           "size": 16
          },
          "showarrow": false,
          "text": "<b>Pizza</b>",
          "x": 0.9159999999999999,
          "xanchor": "center",
          "xref": "paper",
          "y": 1,
          "yanchor": "bottom",
          "yref": "paper"
         },
         {
          "font": {
           "size": 16
          },
          "showarrow": false,
          "text": "<b>Asian</b>",
          "x": 0.08399999999999999,
          "xanchor": "center",
          "xref": "paper",
          "y": 0.45,
          "yanchor": "bottom",
          "yref": "paper"
         },
         {
          "font": {
           "size": 16
          },
          "showarrow": false,
          "text": "<b>Bakery, Desserts & Snacks</b>",
          "x": 0.292,
          "xanchor": "center",
          "xref": "paper",
          "y": 0.45,
          "yanchor": "bottom",
          "yref": "paper"
         },
         {
          "font": {
           "size": 16
          },
          "showarrow": false,
          "text": "<b>Salads/Vegan</b>",
          "x": 0.5,
          "xanchor": "center",
          "xref": "paper",
          "y": 0.45,
          "yanchor": "bottom",
          "yref": "paper"
         },
         {
          "font": {
           "size": 16
          },
          "showarrow": false,
          "text": "<b>Beverages & More</b>",
          "x": 0.708,
          "xanchor": "center",
          "xref": "paper",
          "y": 0.45,
          "yanchor": "bottom",
          "yref": "paper"
         },
         {
          "font": {
           "size": 16
          },
          "showarrow": false,
          "text": "<b>Seafood</b>",
          "x": 0.9159999999999999,
          "xanchor": "center",
          "xref": "paper",
          "y": 0.45,
          "yanchor": "bottom",
          "yref": "paper"
         }
        ],
        "height": 1000,
        "legend": {
         "bgcolor": "white",
         "bordercolor": "Black",
         "borderwidth": 1,
         "font": {
          "color": "black",
          "size": 10
         },
         "itemsizing": "constant",
         "itemwidth": 50,
         "orientation": "h",
         "title": {
          "text": "Violation Groups"
         },
         "x": 0.5,
         "xanchor": "center",
         "y": -0.1
        },
        "margin": {
         "b": 200
        },
        "template": {
         "data": {
          "bar": [
           {
            "error_x": {
             "color": "#2a3f5f"
            },
            "error_y": {
             "color": "#2a3f5f"
            },
            "marker": {
             "line": {
              "color": "#E5ECF6",
              "width": 0.5
             },
             "pattern": {
              "fillmode": "overlay",
              "size": 10,
              "solidity": 0.2
             }
            },
            "type": "bar"
           }
          ],
          "barpolar": [
           {
            "marker": {
             "line": {
              "color": "#E5ECF6",
              "width": 0.5
             },
             "pattern": {
              "fillmode": "overlay",
              "size": 10,
              "solidity": 0.2
             }
            },
            "type": "barpolar"
           }
          ],
          "carpet": [
           {
            "aaxis": {
             "endlinecolor": "#2a3f5f",
             "gridcolor": "white",
             "linecolor": "white",
             "minorgridcolor": "white",
             "startlinecolor": "#2a3f5f"
            },
            "baxis": {
             "endlinecolor": "#2a3f5f",
             "gridcolor": "white",
             "linecolor": "white",
             "minorgridcolor": "white",
             "startlinecolor": "#2a3f5f"
            },
            "type": "carpet"
           }
          ],
          "choropleth": [
           {
            "colorbar": {
             "outlinewidth": 0,
             "ticks": ""
            },
            "type": "choropleth"
           }
          ],
          "contour": [
           {
            "colorbar": {
             "outlinewidth": 0,
             "ticks": ""
            },
            "colorscale": [
             [
              0,
              "#0d0887"
             ],
             [
              0.1111111111111111,
              "#46039f"
             ],
             [
              0.2222222222222222,
              "#7201a8"
             ],
             [
              0.3333333333333333,
              "#9c179e"
             ],
             [
              0.4444444444444444,
              "#bd3786"
             ],
             [
              0.5555555555555556,
              "#d8576b"
             ],
             [
              0.6666666666666666,
              "#ed7953"
             ],
             [
              0.7777777777777778,
              "#fb9f3a"
             ],
             [
              0.8888888888888888,
              "#fdca26"
             ],
             [
              1,
              "#f0f921"
             ]
            ],
            "type": "contour"
           }
          ],
          "contourcarpet": [
           {
            "colorbar": {
             "outlinewidth": 0,
             "ticks": ""
            },
            "type": "contourcarpet"
           }
          ],
          "heatmap": [
           {
            "colorbar": {
             "outlinewidth": 0,
             "ticks": ""
            },
            "colorscale": [
             [
              0,
              "#0d0887"
             ],
             [
              0.1111111111111111,
              "#46039f"
             ],
             [
              0.2222222222222222,
              "#7201a8"
             ],
             [
              0.3333333333333333,
              "#9c179e"
             ],
             [
              0.4444444444444444,
              "#bd3786"
             ],
             [
              0.5555555555555556,
              "#d8576b"
             ],
             [
              0.6666666666666666,
              "#ed7953"
             ],
             [
              0.7777777777777778,
              "#fb9f3a"
             ],
             [
              0.8888888888888888,
              "#fdca26"
             ],
             [
              1,
              "#f0f921"
             ]
            ],
            "type": "heatmap"
           }
          ],
          "heatmapgl": [
           {
            "colorbar": {
             "outlinewidth": 0,
             "ticks": ""
            },
            "colorscale": [
             [
              0,
              "#0d0887"
             ],
             [
              0.1111111111111111,
              "#46039f"
             ],
             [
              0.2222222222222222,
              "#7201a8"
             ],
             [
              0.3333333333333333,
              "#9c179e"
             ],
             [
              0.4444444444444444,
              "#bd3786"
             ],
             [
              0.5555555555555556,
              "#d8576b"
             ],
             [
              0.6666666666666666,
              "#ed7953"
             ],
             [
              0.7777777777777778,
              "#fb9f3a"
             ],
             [
              0.8888888888888888,
              "#fdca26"
             ],
             [
              1,
              "#f0f921"
             ]
            ],
            "type": "heatmapgl"
           }
          ],
          "histogram": [
           {
            "marker": {
             "pattern": {
              "fillmode": "overlay",
              "size": 10,
              "solidity": 0.2
             }
            },
            "type": "histogram"
           }
          ],
          "histogram2d": [
           {
            "colorbar": {
             "outlinewidth": 0,
             "ticks": ""
            },
            "colorscale": [
             [
              0,
              "#0d0887"
             ],
             [
              0.1111111111111111,
              "#46039f"
             ],
             [
              0.2222222222222222,
              "#7201a8"
             ],
             [
              0.3333333333333333,
              "#9c179e"
             ],
             [
              0.4444444444444444,
              "#bd3786"
             ],
             [
              0.5555555555555556,
              "#d8576b"
             ],
             [
              0.6666666666666666,
              "#ed7953"
             ],
             [
              0.7777777777777778,
              "#fb9f3a"
             ],
             [
              0.8888888888888888,
              "#fdca26"
             ],
             [
              1,
              "#f0f921"
             ]
            ],
            "type": "histogram2d"
           }
          ],
          "histogram2dcontour": [
           {
            "colorbar": {
             "outlinewidth": 0,
             "ticks": ""
            },
            "colorscale": [
             [
              0,
              "#0d0887"
             ],
             [
              0.1111111111111111,
              "#46039f"
             ],
             [
              0.2222222222222222,
              "#7201a8"
             ],
             [
              0.3333333333333333,
              "#9c179e"
             ],
             [
              0.4444444444444444,
              "#bd3786"
             ],
             [
              0.5555555555555556,
              "#d8576b"
             ],
             [
              0.6666666666666666,
              "#ed7953"
             ],
             [
              0.7777777777777778,
              "#fb9f3a"
             ],
             [
              0.8888888888888888,
              "#fdca26"
             ],
             [
              1,
              "#f0f921"
             ]
            ],
            "type": "histogram2dcontour"
           }
          ],
          "mesh3d": [
           {
            "colorbar": {
             "outlinewidth": 0,
             "ticks": ""
            },
            "type": "mesh3d"
           }
          ],
          "parcoords": [
           {
            "line": {
             "colorbar": {
              "outlinewidth": 0,
              "ticks": ""
             }
            },
            "type": "parcoords"
           }
          ],
          "pie": [
           {
            "automargin": true,
            "type": "pie"
           }
          ],
          "scatter": [
           {
            "fillpattern": {
             "fillmode": "overlay",
             "size": 10,
             "solidity": 0.2
            },
            "type": "scatter"
           }
          ],
          "scatter3d": [
           {
            "line": {
             "colorbar": {
              "outlinewidth": 0,
              "ticks": ""
             }
            },
            "marker": {
             "colorbar": {
              "outlinewidth": 0,
              "ticks": ""
             }
            },
            "type": "scatter3d"
           }
          ],
          "scattercarpet": [
           {
            "marker": {
             "colorbar": {
              "outlinewidth": 0,
              "ticks": ""
             }
            },
            "type": "scattercarpet"
           }
          ],
          "scattergeo": [
           {
            "marker": {
             "colorbar": {
              "outlinewidth": 0,
              "ticks": ""
             }
            },
            "type": "scattergeo"
           }
          ],
          "scattergl": [
           {
            "marker": {
             "colorbar": {
              "outlinewidth": 0,
              "ticks": ""
             }
            },
            "type": "scattergl"
           }
          ],
          "scattermapbox": [
           {
            "marker": {
             "colorbar": {
              "outlinewidth": 0,
              "ticks": ""
             }
            },
            "type": "scattermapbox"
           }
          ],
          "scatterpolar": [
           {
            "marker": {
             "colorbar": {
              "outlinewidth": 0,
              "ticks": ""
             }
            },
            "type": "scatterpolar"
           }
          ],
          "scatterpolargl": [
           {
            "marker": {
             "colorbar": {
              "outlinewidth": 0,
              "ticks": ""
             }
            },
            "type": "scatterpolargl"
           }
          ],
          "scatterternary": [
           {
            "marker": {
             "colorbar": {
              "outlinewidth": 0,
              "ticks": ""
             }
            },
            "type": "scatterternary"
           }
          ],
          "surface": [
           {
            "colorbar": {
             "outlinewidth": 0,
             "ticks": ""
            },
            "colorscale": [
             [
              0,
              "#0d0887"
             ],
             [
              0.1111111111111111,
              "#46039f"
             ],
             [
              0.2222222222222222,
              "#7201a8"
             ],
             [
              0.3333333333333333,
              "#9c179e"
             ],
             [
              0.4444444444444444,
              "#bd3786"
             ],
             [
              0.5555555555555556,
              "#d8576b"
             ],
             [
              0.6666666666666666,
              "#ed7953"
             ],
             [
              0.7777777777777778,
              "#fb9f3a"
             ],
             [
              0.8888888888888888,
              "#fdca26"
             ],
             [
              1,
              "#f0f921"
             ]
            ],
            "type": "surface"
           }
          ],
          "table": [
           {
            "cells": {
             "fill": {
              "color": "#EBF0F8"
             },
             "line": {
              "color": "white"
             }
            },
            "header": {
             "fill": {
              "color": "#C8D4E3"
             },
             "line": {
              "color": "white"
             }
            },
            "type": "table"
           }
          ]
         },
         "layout": {
          "annotationdefaults": {
           "arrowcolor": "#2a3f5f",
           "arrowhead": 0,
           "arrowwidth": 1
          },
          "autotypenumbers": "strict",
          "coloraxis": {
           "colorbar": {
            "outlinewidth": 0,
            "ticks": ""
           }
          },
          "colorscale": {
           "diverging": [
            [
             0,
             "#8e0152"
            ],
            [
             0.1,
             "#c51b7d"
            ],
            [
             0.2,
             "#de77ae"
            ],
            [
             0.3,
             "#f1b6da"
            ],
            [
             0.4,
             "#fde0ef"
            ],
            [
             0.5,
             "#f7f7f7"
            ],
            [
             0.6,
             "#e6f5d0"
            ],
            [
             0.7,
             "#b8e186"
            ],
            [
             0.8,
             "#7fbc41"
            ],
            [
             0.9,
             "#4d9221"
            ],
            [
             1,
             "#276419"
            ]
           ],
           "sequential": [
            [
             0,
             "#0d0887"
            ],
            [
             0.1111111111111111,
             "#46039f"
            ],
            [
             0.2222222222222222,
             "#7201a8"
            ],
            [
             0.3333333333333333,
             "#9c179e"
            ],
            [
             0.4444444444444444,
             "#bd3786"
            ],
            [
             0.5555555555555556,
             "#d8576b"
            ],
            [
             0.6666666666666666,
             "#ed7953"
            ],
            [
             0.7777777777777778,
             "#fb9f3a"
            ],
            [
             0.8888888888888888,
             "#fdca26"
            ],
            [
             1,
             "#f0f921"
            ]
           ],
           "sequentialminus": [
            [
             0,
             "#0d0887"
            ],
            [
             0.1111111111111111,
             "#46039f"
            ],
            [
             0.2222222222222222,
             "#7201a8"
            ],
            [
             0.3333333333333333,
             "#9c179e"
            ],
            [
             0.4444444444444444,
             "#bd3786"
            ],
            [
             0.5555555555555556,
             "#d8576b"
            ],
            [
             0.6666666666666666,
             "#ed7953"
            ],
            [
             0.7777777777777778,
             "#fb9f3a"
            ],
            [
             0.8888888888888888,
             "#fdca26"
            ],
            [
             1,
             "#f0f921"
            ]
           ]
          },
          "colorway": [
           "#636efa",
           "#EF553B",
           "#00cc96",
           "#ab63fa",
           "#FFA15A",
           "#19d3f3",
           "#FF6692",
           "#B6E880",
           "#FF97FF",
           "#FECB52"
          ],
          "font": {
           "color": "#2a3f5f"
          },
          "geo": {
           "bgcolor": "white",
           "lakecolor": "white",
           "landcolor": "#E5ECF6",
           "showlakes": true,
           "showland": true,
           "subunitcolor": "white"
          },
          "hoverlabel": {
           "align": "left"
          },
          "hovermode": "closest",
          "mapbox": {
           "style": "light"
          },
          "paper_bgcolor": "white",
          "plot_bgcolor": "#E5ECF6",
          "polar": {
           "angularaxis": {
            "gridcolor": "white",
            "linecolor": "white",
            "ticks": ""
           },
           "bgcolor": "#E5ECF6",
           "radialaxis": {
            "gridcolor": "white",
            "linecolor": "white",
            "ticks": ""
           }
          },
          "scene": {
           "xaxis": {
            "backgroundcolor": "#E5ECF6",
            "gridcolor": "white",
            "gridwidth": 2,
            "linecolor": "white",
            "showbackground": true,
            "ticks": "",
            "zerolinecolor": "white"
           },
           "yaxis": {
            "backgroundcolor": "#E5ECF6",
            "gridcolor": "white",
            "gridwidth": 2,
            "linecolor": "white",
            "showbackground": true,
            "ticks": "",
            "zerolinecolor": "white"
           },
           "zaxis": {
            "backgroundcolor": "#E5ECF6",
            "gridcolor": "white",
            "gridwidth": 2,
            "linecolor": "white",
            "showbackground": true,
            "ticks": "",
            "zerolinecolor": "white"
           }
          },
          "shapedefaults": {
           "line": {
            "color": "#2a3f5f"
           }
          },
          "ternary": {
           "aaxis": {
            "gridcolor": "white",
            "linecolor": "white",
            "ticks": ""
           },
           "baxis": {
            "gridcolor": "white",
            "linecolor": "white",
            "ticks": ""
           },
           "bgcolor": "#E5ECF6",
           "caxis": {
            "gridcolor": "white",
            "linecolor": "white",
            "ticks": ""
           }
          },
          "title": {
           "x": 0.05
          },
          "xaxis": {
           "automargin": true,
           "gridcolor": "white",
           "linecolor": "white",
           "ticks": "",
           "title": {
            "standoff": 15
           },
           "zerolinecolor": "white",
           "zerolinewidth": 2
          },
          "yaxis": {
           "automargin": true,
           "gridcolor": "white",
           "linecolor": "white",
           "ticks": "",
           "title": {
            "standoff": 15
           },
           "zerolinecolor": "white",
           "zerolinewidth": 2
          }
         }
        },
        "title": {
         "text": "Violation Group Distribution by Cuisine"
        },
        "width": 1500
       }
      }
     },
     "metadata": {},
     "output_type": "display_data"
    }
   ],
   "source": [
    "import plotly.graph_objects as go\n",
    "from plotly.subplots import make_subplots\n",
    "\n",
    "def assign_group(code):\n",
    "    for group, codes in violation_groups.items():\n",
    "        if code in codes:\n",
    "            return group\n",
    "    return None  # Return None if code doesn't belong to any group\n",
    "\n",
    "def prepare_data(cuisine):\n",
    "    cuisine_list = food_categories[cuisine]\n",
    "    filtered_df = df_filtered[df_filtered['CUISINE DESCRIPTION'].isin(cuisine_list)]\n",
    "    filtered_df['Group'] = filtered_df['VIOLATION CODE'].apply(assign_group)\n",
    "    filtered_df.dropna(subset=['Group'], inplace=True)  # Drop rows with None in 'Group' column\n",
    "    return filtered_df['Group'].value_counts()\n",
    "\n",
    "# Define a custom color sequence based on violation groups\n",
    "colors = {\n",
    "    'Facility Sanitation': '#91b8e4',  # Darker pastel blue\n",
    "    'Pest Control': '#97c8a2',  # Darker pastel green\n",
    "    'Temperature Control': '#e4d77d',  # Darker light yellow\n",
    "    'Facility Maintenance': '#a8c8c8',  # Darker light blue\n",
    "    'Staff Hygiene': '#6a8d86',  # Darker soft teal\n",
    "    'Food Sourcing and Labeling': '#6dc6bf',  # Darker soft cyan\n",
    "    'Chemical Safety': '#a8d4e0',   # Darker sky blue\n",
    "    'Other': '#d3d3d3'  # Light grey for other groups\n",
    "}\n",
    "\n",
    "def plot_all_cuisines():\n",
    "    # Generate titles with bold text using HTML tags\n",
    "    titles = ['<b>{}</b>'.format(cuisine) for cuisine in food_categories.keys()]\n",
    "\n",
    "    # Create a subplot grid: 2 rows x 5 columns with adequate spacing\n",
    "    fig = make_subplots(rows=2, cols=5, specs=[[{'type': 'domain'}] * 5] * 2,\n",
    "                        subplot_titles=titles,\n",
    "                        vertical_spacing=0.1)  # Adjust vertical spacing\n",
    "\n",
    "    row = 1\n",
    "    col = 1\n",
    "    for i, cuisine in enumerate(food_categories.keys()):\n",
    "        group_counts = prepare_data(cuisine)\n",
    "        if not group_counts.empty:\n",
    "            sorted_counts = group_counts.sort_values(ascending=False)  # Sort counts in descending order\n",
    "            sorted_groups = sorted_counts.index.tolist()  # Get the sorted groups\n",
    "            sorted_colors = [colors[group] for group in sorted_groups]  # Assign colors based on violation groups\n",
    "\n",
    "            fig.add_trace(go.Pie(labels=sorted_counts.index, values=sorted_counts.values, name=cuisine,\n",
    "                                 hoverinfo='label+percent+name', textinfo='percent',\n",
    "                                 hovertemplate=\"%{label}: %{value} (<b>%{percent}</b>)\",\n",
    "                                 marker_colors=sorted_colors),  # Use the sorted color sequence\n",
    "                          row=row, col=col)\n",
    "        col += 1\n",
    "        if col > 5:\n",
    "            col = 1\n",
    "            row += 1\n",
    "\n",
    "    # Update the layout to improve legibility and aesthetics\n",
    "    fig.update_layout(\n",
    "        height=1000,  \n",
    "        width=1500,  \n",
    "        title_text=\"Violation Group Distribution by Cuisine\",\n",
    "        legend_title=\"Violation Groups\",\n",
    "        legend=dict(\n",
    "            x=0.5,  \n",
    "            y=-0.1,  \n",
    "            xanchor=\"center\",  \n",
    "            orientation=\"h\", \n",
    "            font=dict(size=10, color=\"black\"),  \n",
    "            bgcolor=\"white\",  \n",
    "            bordercolor=\"Black\",\n",
    "            borderwidth=1,\n",
    "            itemsizing='constant', \n",
    "            itemwidth=50  \n",
    "        ),\n",
    "        margin=dict(b=200) \n",
    "    )\n",
    "    \n",
    "    # Save fig as png \n",
    "    fig.write_image(\"piechart.png\")\n",
    "\n",
    "    fig.show()\n",
    "\n",
    "plot_all_cuisines()"
   ]
  },
  {
   "cell_type": "markdown",
   "metadata": {},
   "source": [
    "#### **5.3 Pie-charts**\n",
    "The third plot showcases pie charts for various cuisines, illustrating the distribution of different violation codes recorded for each. These visuals offer readers insights into the dominant violations in each cuisine. Despite all pie charts sharing the same hierarchy regarding the most prevalent violation, they still provide valuable insights. When considering the information from the second plot, we can draw conclusions about each cuisine. For example, we understand that violations related to Temperature Control or Staff Hygiene are more critical than those related to Facility Sanitation."
   ]
  },
  {
   "cell_type": "code",
   "execution_count": null,
   "metadata": {},
   "outputs": [
    {
     "data": {
      "application/vnd.jupyter.widget-view+json": {
       "model_id": "1c8709839f9a4532974fc4ef08fc0e90",
       "version_major": 2,
       "version_minor": 0
      },
      "text/plain": [
       "interactive(children=(IntSlider(value=25, description='inspections_threshold', max=150, min=1), Dropdown(descr…"
      ]
     },
     "metadata": {},
     "output_type": "display_data"
    },
    {
     "data": {
      "text/plain": [
       "<function __main__.plot_data(inspections_threshold, selected_category)>"
      ]
     },
     "execution_count": 71,
     "metadata": {},
     "output_type": "execute_result"
    }
   ],
   "source": [
    "import ipywidgets as widgets\n",
    "import matplotlib.pyplot as plt\n",
    "import pandas as pd\n",
    "\n",
    "# Define colors for plotting\n",
    "colors = [\n",
    "    '#a2cffe', '#cbf7d4', '#faf0af', '#b8d8d8', '#7a9d96', '#7ed6df', '#b8e4f0', '#e7d7c1', '#ffcba4', '#a0ced9', '#d1e8e2', '#f9d5e5', '#eeac99', '#9dc3c1', '#c4def6', '#f6e5f5', '#f3eac2', '#d5e1df', '#f4c2c2', '#99c1de' \n",
    "]\n",
    "\n",
    "\n",
    "\n",
    "def plot_data(inspections_threshold, selected_category):\n",
    "    relevant_cuisines = food_categories[selected_category]\n",
    "    filtered_df = df[(df['CUISINE DESCRIPTION'].isin(relevant_cuisines)) & (df['CRITICAL FLAG'] == 'Not Critical')]\n",
    "\n",
    "    # Calculate 'Critical' flags for each DBA in the filtered DataFrame\n",
    "    critical_counts = filtered_df['DBA'].value_counts()\n",
    "\n",
    "    # Only consider DBAs with a minimum number of inspections\n",
    "    total_inspections = df[df['DBA'].isin(critical_counts.index)]['DBA'].value_counts()\n",
    "    valid_dbas = total_inspections[total_inspections >= inspections_threshold].index\n",
    "\n",
    "    critical_counts_filtered = critical_counts[critical_counts.index.isin(valid_dbas)]\n",
    "    proportion_critical = (critical_counts_filtered / total_inspections.loc[critical_counts_filtered.index]).fillna(0)\n",
    "\n",
    "    # Create a DataFrame to display both the proportion and total count\n",
    "    result_df = pd.DataFrame({\n",
    "        'Proportion Not Critical': proportion_critical,\n",
    "        'Total Inspections': total_inspections.loc[proportion_critical.index]\n",
    "    }).sort_values(by='Proportion Not Critical', ascending=False).head(20)\n",
    "\n",
    "    # Plot\n",
    "    plt.figure(figsize=(10, 6))\n",
    "    plt.barh(result_df.index, result_df['Proportion Not Critical'], color=colors[:len(result_df)])\n",
    "    plt.xlabel('Proportion Not Critical')\n",
    "    plt.ylabel('DBA')\n",
    "    plt.title(f'Proportion of Not Critical Flags for Top 20 DBAs in {selected_category} with at least {inspections_threshold} Inspections')\n",
    "    plt.gca().invert_yaxis()\n",
    "    plt.show()\n",
    "\n",
    "# Widget to select cuisine category\n",
    "category_selector = widgets.Dropdown(\n",
    "    options=list(food_categories.keys()),\n",
    "    value='Burgers',\n",
    "    description='Category:',\n",
    "    disabled=False,\n",
    ")\n",
    "\n",
    "# Interactive plot adjustment\n",
    "widgets.interact(plot_data, inspections_threshold=widgets.IntSlider(min=1, max=150, step=1, value=25), selected_category=category_selector)\n"
   ]
  },
  {
   "cell_type": "markdown",
   "metadata": {},
   "source": [
    "#### **5.4 Bar-Plot**\n",
    "The final plot is another bar plot. Its purpose is to assist readers in selecting the best dining option based on their preferred cuisine. However, another crucial factor to consider is the total number of inspections each restaurant or chain has had. For instance, there are numerous McDonald's locations in NYC, resulting in a high count for this chain. If we were to set the minimum inspection count to just 1, many restaurants would have a 100% Not Critical/Critical proportion, especially if they closed down or changed names after their first inspection.\n",
    "\n",
    "Thus, by setting the minimum inspection count to a higher number, we can focus on displaying the largest restaurant chains. This approach aids readers in making informed decisions among these leading options."
   ]
  },
  {
   "cell_type": "code",
   "execution_count": 25,
   "metadata": {},
   "outputs": [
    {
     "name": "stdout",
     "output_type": "stream",
     "text": [
      "Index(['ZIPCODE', 'geometry', 'AVERAGE SCORE BURGER',\n",
      "       'AVERAGE SCORE SANDWICHES', 'AVERAGE SCORE HOTDOGS',\n",
      "       'AVERAGE SCORE MEXICAN', 'AVERAGE SCORE PIZZA', 'AVERAGE SCORE ASIAN',\n",
      "       'AVERAGE SCORE BAKERY', 'AVERAGE SCORE SALADS',\n",
      "       'AVERAGE SCORE BEVERAGES', 'AVERAGE SCORE SEAFOOD', 'color_column'],\n",
      "      dtype='object')\n",
      "Index(['ZIPCODE', 'geometry', 'AVERAGE SCORE BURGER',\n",
      "       'AVERAGE SCORE SANDWICHES', 'AVERAGE SCORE HOTDOGS',\n",
      "       'AVERAGE SCORE MEXICAN', 'AVERAGE SCORE PIZZA', 'AVERAGE SCORE ASIAN',\n",
      "       'AVERAGE SCORE BAKERY', 'AVERAGE SCORE SALADS',\n",
      "       'AVERAGE SCORE BEVERAGES', 'AVERAGE SCORE SEAFOOD', 'color_column'],\n",
      "      dtype='object')\n",
      "Index(['ZIPCODE', 'geometry', 'AVERAGE SCORE BURGER',\n",
      "       'AVERAGE SCORE SANDWICHES', 'AVERAGE SCORE HOTDOGS',\n",
      "       'AVERAGE SCORE MEXICAN', 'AVERAGE SCORE PIZZA', 'AVERAGE SCORE ASIAN',\n",
      "       'AVERAGE SCORE BAKERY', 'AVERAGE SCORE SALADS',\n",
      "       'AVERAGE SCORE BEVERAGES', 'AVERAGE SCORE SEAFOOD', 'color_column'],\n",
      "      dtype='object')\n",
      "Index(['ZIPCODE', 'geometry', 'AVERAGE SCORE BURGER',\n",
      "       'AVERAGE SCORE SANDWICHES', 'AVERAGE SCORE HOTDOGS',\n",
      "       'AVERAGE SCORE MEXICAN', 'AVERAGE SCORE PIZZA', 'AVERAGE SCORE ASIAN',\n",
      "       'AVERAGE SCORE BAKERY', 'AVERAGE SCORE SALADS',\n",
      "       'AVERAGE SCORE BEVERAGES', 'AVERAGE SCORE SEAFOOD', 'color_column'],\n",
      "      dtype='object')\n",
      "Index(['ZIPCODE', 'geometry', 'AVERAGE SCORE BURGER',\n",
      "       'AVERAGE SCORE SANDWICHES', 'AVERAGE SCORE HOTDOGS',\n",
      "       'AVERAGE SCORE MEXICAN', 'AVERAGE SCORE PIZZA', 'AVERAGE SCORE ASIAN',\n",
      "       'AVERAGE SCORE BAKERY', 'AVERAGE SCORE SALADS',\n",
      "       'AVERAGE SCORE BEVERAGES', 'AVERAGE SCORE SEAFOOD', 'color_column'],\n",
      "      dtype='object')\n",
      "Index(['ZIPCODE', 'geometry', 'AVERAGE SCORE BURGER',\n",
      "       'AVERAGE SCORE SANDWICHES', 'AVERAGE SCORE HOTDOGS',\n",
      "       'AVERAGE SCORE MEXICAN', 'AVERAGE SCORE PIZZA', 'AVERAGE SCORE ASIAN',\n",
      "       'AVERAGE SCORE BAKERY', 'AVERAGE SCORE SALADS',\n",
      "       'AVERAGE SCORE BEVERAGES', 'AVERAGE SCORE SEAFOOD', 'color_column'],\n",
      "      dtype='object')\n",
      "Index(['ZIPCODE', 'geometry', 'AVERAGE SCORE BURGER',\n",
      "       'AVERAGE SCORE SANDWICHES', 'AVERAGE SCORE HOTDOGS',\n",
      "       'AVERAGE SCORE MEXICAN', 'AVERAGE SCORE PIZZA', 'AVERAGE SCORE ASIAN',\n",
      "       'AVERAGE SCORE BAKERY', 'AVERAGE SCORE SALADS',\n",
      "       'AVERAGE SCORE BEVERAGES', 'AVERAGE SCORE SEAFOOD', 'color_column'],\n",
      "      dtype='object')\n",
      "Index(['ZIPCODE', 'geometry', 'AVERAGE SCORE BURGER',\n",
      "       'AVERAGE SCORE SANDWICHES', 'AVERAGE SCORE HOTDOGS',\n",
      "       'AVERAGE SCORE MEXICAN', 'AVERAGE SCORE PIZZA', 'AVERAGE SCORE ASIAN',\n",
      "       'AVERAGE SCORE BAKERY', 'AVERAGE SCORE SALADS',\n",
      "       'AVERAGE SCORE BEVERAGES', 'AVERAGE SCORE SEAFOOD', 'color_column'],\n",
      "      dtype='object')\n",
      "Index(['ZIPCODE', 'geometry', 'AVERAGE SCORE BURGER',\n",
      "       'AVERAGE SCORE SANDWICHES', 'AVERAGE SCORE HOTDOGS',\n",
      "       'AVERAGE SCORE MEXICAN', 'AVERAGE SCORE PIZZA', 'AVERAGE SCORE ASIAN',\n",
      "       'AVERAGE SCORE BAKERY', 'AVERAGE SCORE SALADS',\n",
      "       'AVERAGE SCORE BEVERAGES', 'AVERAGE SCORE SEAFOOD', 'color_column'],\n",
      "      dtype='object')\n",
      "Index(['ZIPCODE', 'geometry', 'AVERAGE SCORE BURGER',\n",
      "       'AVERAGE SCORE SANDWICHES', 'AVERAGE SCORE HOTDOGS',\n",
      "       'AVERAGE SCORE MEXICAN', 'AVERAGE SCORE PIZZA', 'AVERAGE SCORE ASIAN',\n",
      "       'AVERAGE SCORE BAKERY', 'AVERAGE SCORE SALADS',\n",
      "       'AVERAGE SCORE BEVERAGES', 'AVERAGE SCORE SEAFOOD', 'color_column'],\n",
      "      dtype='object')\n"
     ]
    }
   ],
   "source": [
    "import geopandas as gpd\n",
    "\n",
    "geojson = 'Modified Zip Code Tabulation Areas (MODZCTA)_20240414.geojson'\n",
    "\n",
    "geojson_data = gpd.read_file(geojson)\n",
    "\n",
    "# Sort df by ZIPCODE acecnding\n",
    "df = df.sort_values(by='ZIPCODE')\n",
    "\n",
    "# String of 5 first digits of ZIPCODE\n",
    "df['ZIPCODE'] = df['ZIPCODE'].astype(str).str[:5]\n",
    "\n",
    "# Merge the two dataframes\n",
    "df = df.merge(geojson_data, left_on='ZIPCODE', right_on='modzcta')\n",
    "\n",
    "# Sort df_filtered by ZIPCODE ascending\n",
    "df_filtered = df_filtered.sort_values(by='ZIPCODE')\n",
    "\n",
    "# String of 5 first digits of ZIPCODE\n",
    "df_filtered['ZIPCODE'] = df_filtered['ZIPCODE'].astype(str).str[:5]\n",
    "\n",
    "# Merge the two dataframes\n",
    "df_filtered = df_filtered.merge(geojson_data, left_on='ZIPCODE', right_on='modzcta')\n",
    "\n",
    "unique_zipcodes = df_filtered['ZIPCODE'].unique()\n",
    "# Drop rows with NaN values in the 'SCORE' column\n",
    "df_filtered = df_filtered.dropna(subset=['SCORE'])\n",
    "\n",
    "unique_zipcodes = df_filtered['ZIPCODE'].unique()\n",
    "\n",
    "# Initialize lists to store average scores for each cuisine category\n",
    "average_score_burger = []\n",
    "average_score_sandwiches = []\n",
    "average_score_hotdogs = []\n",
    "average_score_mexican = []\n",
    "average_score_pizza = []\n",
    "average_score_asian = []\n",
    "average_score_bakery = []\n",
    "average_score_salads = []\n",
    "average_score_beverages = []\n",
    "average_score_seafood = []\n",
    "\n",
    "for zipcode in unique_zipcodes:\n",
    "    average_score_burger.append(df_filtered[(df_filtered['ZIPCODE'] == zipcode) & df_filtered['CUISINE DESCRIPTION'].isin(food_categories['Burgers'])]['SCORE'].mean())\n",
    "    average_score_sandwiches.append(df_filtered[(df_filtered['ZIPCODE'] == zipcode) & df_filtered['CUISINE DESCRIPTION'].isin(food_categories['Sandwiches'])]['SCORE'].mean())\n",
    "    average_score_hotdogs.append(df_filtered[(df_filtered['ZIPCODE'] == zipcode) & df_filtered['CUISINE DESCRIPTION'].isin(food_categories['Hotdogs'])]['SCORE'].mean())\n",
    "    average_score_mexican.append(df_filtered[(df_filtered['ZIPCODE'] == zipcode) & df_filtered['CUISINE DESCRIPTION'].isin(food_categories['Mexican'])]['SCORE'].mean())\n",
    "    average_score_pizza.append(df_filtered[(df_filtered['ZIPCODE'] == zipcode) & df_filtered['CUISINE DESCRIPTION'].isin(food_categories['Pizza'])]['SCORE'].mean())\n",
    "    average_score_asian.append(df_filtered[(df_filtered['ZIPCODE'] == zipcode) & df_filtered['CUISINE DESCRIPTION'].isin(food_categories['Asian'])]['SCORE'].mean())\n",
    "    average_score_bakery.append(df_filtered[(df_filtered['ZIPCODE'] == zipcode) & df_filtered['CUISINE DESCRIPTION'].isin(food_categories['Bakery, Desserts & Snacks'])]['SCORE'].mean())\n",
    "    average_score_salads.append(df_filtered[(df_filtered['ZIPCODE'] == zipcode) & df_filtered['CUISINE DESCRIPTION'].isin(food_categories['Salads/Vegan'])]['SCORE'].mean())\n",
    "    average_score_beverages.append(df_filtered[(df_filtered['ZIPCODE'] == zipcode) & df_filtered['CUISINE DESCRIPTION'].isin(food_categories['Beverages & More'])]['SCORE'].mean())\n",
    "    average_score_seafood.append(df_filtered[(df_filtered['ZIPCODE'] == zipcode) & df_filtered['CUISINE DESCRIPTION'].isin(food_categories['Seafood'])]['SCORE'].mean())\n",
    "    \n",
    "polygon = geojson_data['geometry']\n",
    "\n",
    "# Add all to new df \n",
    "df_zipcode = pd.DataFrame({'ZIPCODE': unique_zipcodes,'geometry': polygon[1:], 'AVERAGE SCORE BURGER': average_score_burger, 'AVERAGE SCORE SANDWICHES': average_score_sandwiches, 'AVERAGE SCORE HOTDOGS': average_score_hotdogs, 'AVERAGE SCORE MEXICAN': average_score_mexican, 'AVERAGE SCORE PIZZA': average_score_pizza, 'AVERAGE SCORE ASIAN': average_score_asian, 'AVERAGE SCORE BAKERY': average_score_bakery, 'AVERAGE SCORE SALADS': average_score_salads, 'AVERAGE SCORE BEVERAGES': average_score_beverages, 'AVERAGE SCORE SEAFOOD': average_score_seafood})\n",
    "\n",
    "gdf = gpd.GeoDataFrame(df_zipcode, geometry='geometry')\n",
    "\n",
    "import plotly.express as px\n",
    "import geopandas as gpd\n",
    "\n",
    "initial_location = [40.7128, -74.0060]  # New York City coordinates for the map center\n",
    "\n",
    "# Define the average scores mapping\n",
    "average_scores = {\n",
    "    'Burgers': 'AVERAGE SCORE BURGER',\n",
    "    'Sandwiches': 'AVERAGE SCORE SANDWICHES',\n",
    "    'Hotdogs': 'AVERAGE SCORE HOTDOGS',\n",
    "    'Mexican': 'AVERAGE SCORE MEXICAN',\n",
    "    'Pizza': 'AVERAGE SCORE PIZZA',\n",
    "    'Asian': 'AVERAGE SCORE ASIAN',\n",
    "    'Bakery, Desserts & Snacks': 'AVERAGE SCORE BAKERY',\n",
    "    'Salads\\Vegan': 'AVERAGE SCORE SALADS',\n",
    "    'Beverages & More': 'AVERAGE SCORE BEVERAGES',\n",
    "    'Seafood': 'AVERAGE SCORE SEAFOOD'\n",
    "}\n",
    "# Function to create and save a choropleth map for each food category\n",
    "def create_plotly_map(category, path_save, gdf):\n",
    "    # Handle null values by creating a new column for visualization\n",
    "    gdf['color_column'] = gdf[category].fillna(-1)  # Set null scores to -1\n",
    "    \n",
    "    # Check your column names\n",
    "    print(gdf.columns)\n",
    "\n",
    "    # Define discrete color scale, including gray for null values\n",
    "    color_scale = [\n",
    "        [0.00, \"#808080\"],  # Gray for null values\n",
    "        [0.01, \"#77dd77\"],  # Green for scores from 0 to 14\n",
    "        [0.35, \"#77dd77\"],  # Green continues until 14\n",
    "        [0.35, \"#fdfd96\"],  # Yellow starts from 14\n",
    "        [0.70, \"#fdfd96\"],  # Yellow continues until 28\n",
    "        [0.70, \"#ff6961\"],  # Red starts from 28\n",
    "        [1.00, \"#ff6961\"]   # Red continues above 28\n",
    "    ]\n",
    "\n",
    "    fig = px.choropleth_mapbox(gdf, \n",
    "                               geojson=gdf.geometry.__geo_interface__, \n",
    "                               locations=gdf.index, \n",
    "                               color='color_column',  # Use new column for color\n",
    "                               color_continuous_scale=color_scale,\n",
    "                               range_color=(-1, 42),\n",
    "                               mapbox_style=\"carto-positron\",\n",
    "                               zoom=8, \n",
    "                               center={\"lat\": initial_location[0], \"lon\": initial_location[1]},\n",
    "                               opacity=0.5,\n",
    "                               labels={'ZIPCODE': 'Zip Code', 'color_column': 'Average Score'},\n",
    "                               hover_data={'ZIPCODE': True, 'color_column': True}\n",
    "                              )\n",
    "\n",
    "    # Customize the hover data using the correct references\n",
    "    fig.update_traces(hovertemplate='Zip Code: %{customdata[0]}<br>Average Score: %{customdata[1]:.2f}<extra></extra>')\n",
    "\n",
    "    # Update hover label layout\n",
    "    fig.update_layout(hoverlabel=dict(bgcolor=\"white\", font_size=16, font_family=\"Rockwell\"))\n",
    "    \n",
    "    # Define legend title and color scale guide\n",
    "    fig.update_layout(coloraxis_colorbar=dict(\n",
    "        title=\"Average Score\",\n",
    "        tickvals=[-2, 0, 15, 30],\n",
    "        ticktext=['No Data', '0', '14', '28+'],\n",
    "        ))\n",
    "\n",
    "    # Save the figure without spaces in the filename\n",
    "    filename = category.replace(' ', '')  # Removing spaces\n",
    "    fig.write_html(f'{path_save}choropleth_{filename}.html')\n",
    "\n",
    "# Path where the HTML maps will be saved\n",
    "path_save = '/Users/thomasstycke/Desktop/DTU/SocialData/Assignment3/'\n",
    "\n",
    "# Iterate over each food category and create maps\n",
    "for category in average_scores.keys():\n",
    "    create_plotly_map(average_scores[category], path_save, gdf)\n"
   ]
  },
  {
   "cell_type": "code",
   "execution_count": 24,
   "metadata": {},
   "outputs": [
    {
     "name": "stdout",
     "output_type": "stream",
     "text": [
      "                                         DBA                STREET  SCORE     CAMIS\n",
      "19292                  LIGHTHOUSE FISHMARKET      EAST  117 STREET   65.0  50108040\n",
      "21279                     BURGOS FISH MARKET        DYCKMAN STREET   53.0  50127874\n",
      "39768                   BLUE FIN BAR & GRILL       NOSTRAND AVENUE   51.0  50101281\n",
      "2725                                  OCEANS     PARK AVENUE SOUTH   49.0  50099109\n",
      "2600                             BAIT & HOOK      EAST   14 STREET   47.0  50104486\n",
      "51610        SUSHI KINGDOM AND ASIAN FUSHION               MAIN ST   45.0  50093869\n",
      "30259                      BOBO'S CRAB SHACK  CO OP CITY BOULEVARD   37.0  50109755\n",
      "1470                 SENG SEAFOOD RESTAURANT         EAST BROADWAY   35.0  50113198\n",
      "11119                         LUKE'S LOBSTER              3 AVENUE   33.0  50011303\n",
      "13110                           SHAKING CRAB              9 AVENUE   32.0  50102038\n",
      "26795                      BOBO'S CRAB SHACK       GRAND CONCOURSE   28.0  50108876\n",
      "8008                        ED'S LOBSTER BAR          GRAND STREET   27.0  50109547\n",
      "48474  THE 37  XIANG SEA FOOD HOT POT BUFFET              37TH AVE   27.0  50111965\n",
      "54513                                   REEF              72ND AVE   27.0  50008263\n",
      "27692        HOOK & REEL CAJUN SEAFOOD & BAR     METROPOLITAN OVAL   26.0  50112151\n",
      "18760                   CALLE 174 PESCADERIA              BROADWAY   25.0  50114256\n",
      "19809           DESTINY, NORTH RIVER LOBSTER      @ WEST 43 STREET   24.0  41334625\n",
      "45367                          BROOKLYN CRAB           REED STREET   24.0  41654607\n",
      "46550                              SWEETFISH              AVENUE Z   24.0  50119761\n",
      "58302                             ALOHA KRAB          HILLSIDE AVE   23.0  50125503\n"
     ]
    }
   ],
   "source": [
    "# Print worst 20 SEAFOOD with unique CAMIS \n",
    "worst_seafood = df_filtered[df_filtered['CUISINE DESCRIPTION'].isin(food_categories['Seafood'])].drop_duplicates(subset='CAMIS').sort_values(by='SCORE', ascending=False).head(20)\n",
    "print(worst_seafood[['DBA', 'STREET', 'SCORE', 'CAMIS']])"
   ]
  },
  {
   "cell_type": "markdown",
   "metadata": {},
   "source": [
    "#### **5.4 Bar-Plot**\n",
    "The final plot is another bar plot. Its purpose is to assist readers in selecting the best dining option based on their preferred cuisine. However, another crucial factor to consider is the total number of inspections each restaurant or chain has had. For instance, there are numerous McDonald's locations in NYC, resulting in a high count for this chain. If we were to set the minimum inspection count to just 1, many restaurants would have a 100% Not Critical/Critical proportion, especially if they closed down or changed names after their first inspection.\n",
    "\n",
    "Thus, by setting the minimum inspection count to a higher number, we can focus on displaying the largest restaurant chains. This approach aids readers in making informed decisions among these leading options.\n"
   ]
  },
  {
   "cell_type": "markdown",
   "metadata": {},
   "source": [
    "## **6.0 Discussion**\n",
    "The primary challenge we encountered with the data was the absence of a clear pattern. Initially, we anticipated discovering significant trends to focus on, but during our analysis, we observed that most distributions were evenly split, often around a 50/50 ratio. We explored various data filtering methods to understand if this distribution was influenced by our approach, conducting analyses on both processed and unprocessed data. However, we found that the 50/50 distribution e.g. between Critical and Not Critical categories persisted."
   ]
  },
  {
   "cell_type": "markdown",
   "metadata": {},
   "source": [
    "## **7.0 Contributions**"
   ]
  },
  {
   "cell_type": "markdown",
   "metadata": {},
   "source": [
    "* **Data analysis** 50% s214715 and 50% s214742. \n",
    "* **Notebook Setup** was 50% s214715 and 50% s214742. \n",
    "* **Website Setup** was 50% s214715 and 50% s214742. "
   ]
  }
 ],
 "metadata": {
  "kernelspec": {
   "display_name": "Python 3",
   "language": "python",
   "name": "python3"
  },
  "language_info": {
   "codemirror_mode": {
    "name": "ipython",
    "version": 3
   },
   "file_extension": ".py",
   "mimetype": "text/x-python",
   "name": "python",
   "nbconvert_exporter": "python",
   "pygments_lexer": "ipython3",
   "version": "3.11.5"
  }
 },
 "nbformat": 4,
 "nbformat_minor": 2
}
